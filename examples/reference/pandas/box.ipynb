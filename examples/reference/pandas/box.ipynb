{
 "cells": [
  {
   "cell_type": "code",
   "execution_count": null,
   "metadata": {},
   "outputs": [],
   "source": [
    "import hvplot.pandas  # noqa\n",
    "import holoviews as hv"
   ]
  },
  {
   "cell_type": "code",
   "execution_count": 40,
   "metadata": {},
   "outputs": [
    {
     "data": {
      "text/html": [
       "<div>\n",
       "<style scoped>\n",
       "    .dataframe tbody tr th:only-of-type {\n",
       "        vertical-align: middle;\n",
       "    }\n",
       "\n",
       "    .dataframe tbody tr th {\n",
       "        vertical-align: top;\n",
       "    }\n",
       "\n",
       "    .dataframe thead th {\n",
       "        text-align: right;\n",
       "    }\n",
       "</style>\n",
       "<table border=\"1\" class=\"dataframe\">\n",
       "  <thead>\n",
       "    <tr style=\"text-align: right;\">\n",
       "      <th></th>\n",
       "      <th>Name</th>\n",
       "      <th>Country</th>\n",
       "      <th>Medal</th>\n",
       "      <th>Time</th>\n",
       "      <th>Year</th>\n",
       "    </tr>\n",
       "  </thead>\n",
       "  <tbody>\n",
       "    <tr>\n",
       "      <th>0</th>\n",
       "      <td>Usain Bolt</td>\n",
       "      <td>JAM</td>\n",
       "      <td>GOLD</td>\n",
       "      <td>9.63</td>\n",
       "      <td>2012</td>\n",
       "    </tr>\n",
       "    <tr>\n",
       "      <th>1</th>\n",
       "      <td>Yohan Blake</td>\n",
       "      <td>JAM</td>\n",
       "      <td>SILVER</td>\n",
       "      <td>9.75</td>\n",
       "      <td>2012</td>\n",
       "    </tr>\n",
       "    <tr>\n",
       "      <th>2</th>\n",
       "      <td>Justin Gatlin</td>\n",
       "      <td>USA</td>\n",
       "      <td>BRONZE</td>\n",
       "      <td>9.79</td>\n",
       "      <td>2012</td>\n",
       "    </tr>\n",
       "    <tr>\n",
       "      <th>3</th>\n",
       "      <td>Usain Bolt</td>\n",
       "      <td>JAM</td>\n",
       "      <td>GOLD</td>\n",
       "      <td>9.69</td>\n",
       "      <td>2008</td>\n",
       "    </tr>\n",
       "    <tr>\n",
       "      <th>4</th>\n",
       "      <td>Richard Thompson</td>\n",
       "      <td>TRI</td>\n",
       "      <td>SILVER</td>\n",
       "      <td>9.89</td>\n",
       "      <td>2008</td>\n",
       "    </tr>\n",
       "  </tbody>\n",
       "</table>\n",
       "</div>"
      ],
      "text/plain": [
       "               Name Country   Medal  Time  Year\n",
       "0        Usain Bolt     JAM    GOLD  9.63  2012\n",
       "1       Yohan Blake     JAM  SILVER  9.75  2012\n",
       "2     Justin Gatlin     USA  BRONZE  9.79  2012\n",
       "3        Usain Bolt     JAM    GOLD  9.69  2008\n",
       "4  Richard Thompson     TRI  SILVER  9.89  2008"
      ]
     },
     "execution_count": 40,
     "metadata": {},
     "output_type": "execute_result"
    }
   ],
   "source": [
    "from bokeh.sampledata.sprint import sprint as df\n",
    "\n",
    "df.head()"
   ]
  },
  {
   "cell_type": "code",
   "execution_count": 43,
   "metadata": {},
   "outputs": [
    {
     "data": {
      "application/vnd.holoviews_exec.v0+json": "",
      "text/html": [
       "<div class=\"hololayout row row-fluid\">\n",
       "  <div class=\"holoframe\" id=\"display_area0c10404009a848fda78d30477216aa92\">\n",
       "    <div id=\"_anim_img0c10404009a848fda78d30477216aa92\">\n",
       "      \n",
       "      <div id='5357' style='display: table; margin: 0 auto;'>\n",
       "\n",
       "\n",
       "\n",
       "\n",
       "\n",
       "  <div class=\"bk-root\" id=\"4f051aed-d582-4ce7-bdd6-c17db83d533b\" data-root-id=\"5357\"></div>\n",
       "</div>\n",
       "      \n",
       "    </div>\n",
       "  </div>\n",
       "  <div class=\"holowidgets\" id=\"widget_area0c10404009a848fda78d30477216aa92\">\n",
       "    <form class=\"holoform well\" id=\"form0c10404009a848fda78d30477216aa92\">\n",
       "      \n",
       "      \n",
       "        <div class=\"form-group control-group holoformgroup\" style=''>\n",
       "          <label for=\"textInput0c10404009a848fda78d30477216aa92_Medal\"><strong>Medal:</strong></label>\n",
       "          <select class=\"holoselect form-control\" id=\"_anim_widget0c10404009a848fda78d30477216aa92_Medal\" >\n",
       "          </select>\n",
       "        </div>\n",
       "        \n",
       "        \n",
       "        </form>\n",
       "    </div>\n",
       "</div>\n",
       "<script type=\"application/javascript\">/* Instantiate the BokehSelectionWidget class. */\n",
       "/* The IDs given should match those used in the template above. */\n",
       "var widget_ids = new Array(1);\n",
       "\n",
       "\n",
       "widget_ids[0] = \"_anim_widget0c10404009a848fda78d30477216aa92_Medal\";\n",
       "\n",
       "\n",
       "function create_widget() {\n",
       "  var frame_data = {};\n",
       "  var dim_vals = [0.0];\n",
       "  var keyMap = {};\n",
       "  var notFound = \"<h2 style='vertical-align: middle>No frame at selected dimension value.<h2>\";\n",
       "\n",
       "  var anim = new HoloViews.BokehSelectionWidget(frame_data, \"0c10404009a848fda78d30477216aa92\", widget_ids,\n",
       "  keyMap, dim_vals, notFound, false, \"default\",\n",
       "  false, \"./json_figures/\", true, \"5357\");\n",
       "\n",
       "  HoloViews.index['5357'] = anim;\n",
       "}\n",
       "\n",
       "\n",
       "\n",
       "\n",
       "HoloViews.init_dropdown('0c10404009a848fda78d30477216aa92', '5357', 'Medal', [0, 1, 2], 0, {}, ['GOLD', 'SILVER', 'BRONZE'], 'None', 0, true)\n",
       "\n",
       "\n",
       "\n",
       "\n",
       "create_widget();\n",
       "(function(root) {\n",
       "  function embed_document(root) {\n",
       "    \n",
       "  var docs_json = {\"15bed8bb-a747-4a53-bd17-b9ba173eb5b6\":{\"roots\":{\"references\":[{\"attributes\":{\"align\":null,\"below\":[{\"id\":\"5366\",\"type\":\"CategoricalAxis\"}],\"center\":[{\"id\":\"5369\",\"type\":\"Grid\"},{\"id\":\"5374\",\"type\":\"Grid\"},{\"id\":\"5438\",\"type\":\"Legend\"}],\"left\":[{\"id\":\"5370\",\"type\":\"LinearAxis\"}],\"margin\":null,\"min_border_bottom\":10,\"min_border_left\":10,\"min_border_right\":10,\"min_border_top\":10,\"plot_height\":300,\"plot_width\":700,\"renderers\":[{\"id\":\"5390\",\"type\":\"GlyphRenderer\"},{\"id\":\"5396\",\"type\":\"GlyphRenderer\"},{\"id\":\"5402\",\"type\":\"GlyphRenderer\"},{\"id\":\"5408\",\"type\":\"GlyphRenderer\"},{\"id\":\"5414\",\"type\":\"GlyphRenderer\"},{\"id\":\"5420\",\"type\":\"GlyphRenderer\"},{\"id\":\"5444\",\"type\":\"GlyphRenderer\"}],\"sizing_mode\":\"fixed\",\"title\":{\"id\":\"5358\",\"type\":\"Title\"},\"toolbar\":{\"id\":\"5380\",\"type\":\"Toolbar\"},\"x_range\":{\"id\":\"5355\",\"type\":\"FactorRange\"},\"x_scale\":{\"id\":\"5362\",\"type\":\"CategoricalScale\"},\"y_range\":{\"id\":\"5356\",\"type\":\"Range1d\"},\"y_scale\":{\"id\":\"5364\",\"type\":\"LinearScale\"}},\"id\":\"5357\",\"subtype\":\"Figure\",\"type\":\"Plot\"},{\"attributes\":{},\"id\":\"5433\",\"type\":\"Selection\"},{\"attributes\":{},\"id\":\"5425\",\"type\":\"BasicTickFormatter\"},{\"attributes\":{},\"id\":\"5375\",\"type\":\"SaveTool\"},{\"attributes\":{\"line_alpha\":{\"value\":0.1},\"line_color\":{\"value\":\"black\"},\"x0\":{\"field\":\"x0\"},\"x1\":{\"field\":\"x1\"},\"y0\":{\"field\":\"y0\"},\"y1\":{\"field\":\"y1\"}},\"id\":\"5413\",\"type\":\"Segment\"},{\"attributes\":{\"source\":{\"id\":\"5440\",\"type\":\"ColumnDataSource\"}},\"id\":\"5445\",\"type\":\"CDSView\"},{\"attributes\":{\"bottom_units\":\"screen\",\"fill_alpha\":{\"value\":0.5},\"fill_color\":{\"value\":\"lightgrey\"},\"left_units\":\"screen\",\"level\":\"overlay\",\"line_alpha\":{\"value\":1.0},\"line_color\":{\"value\":\"black\"},\"line_dash\":[4,4],\"line_width\":{\"value\":2},\"render_mode\":\"css\",\"right_units\":\"screen\",\"top_units\":\"screen\"},\"id\":\"5427\",\"type\":\"BoxAnnotation\"},{\"attributes\":{\"line_alpha\":{\"value\":0.1},\"line_color\":{\"value\":\"black\"},\"x0\":{\"field\":\"x0\"},\"x1\":{\"field\":\"x1\"},\"y0\":{\"field\":\"y0\"},\"y1\":{\"field\":\"y1\"}},\"id\":\"5395\",\"type\":\"Segment\"},{\"attributes\":{\"bottom\":{\"field\":\"bottom\"},\"fill_alpha\":{\"value\":0.1},\"fill_color\":{\"value\":\"#1f77b3\"},\"line_alpha\":{\"value\":0.1},\"line_color\":{\"value\":\"black\"},\"top\":{\"field\":\"top\"},\"width\":{\"value\":0.7},\"x\":{\"field\":\"index\"}},\"id\":\"5419\",\"type\":\"VBar\"},{\"attributes\":{},\"id\":\"5428\",\"type\":\"UnionRenderers\"},{\"attributes\":{},\"id\":\"5377\",\"type\":\"WheelZoomTool\"},{\"attributes\":{},\"id\":\"5437\",\"type\":\"Selection\"},{\"attributes\":{\"axis_label\":\"Sprint Time\",\"bounds\":\"auto\",\"formatter\":{\"id\":\"5425\",\"type\":\"BasicTickFormatter\"},\"major_label_orientation\":\"horizontal\",\"ticker\":{\"id\":\"5371\",\"type\":\"BasicTicker\"}},\"id\":\"5370\",\"type\":\"LinearAxis\"},{\"attributes\":{},\"id\":\"5376\",\"type\":\"PanTool\"},{\"attributes\":{},\"id\":\"5429\",\"type\":\"Selection\"},{\"attributes\":{},\"id\":\"5423\",\"type\":\"CategoricalTickFormatter\"},{\"attributes\":{},\"id\":\"5362\",\"type\":\"CategoricalScale\"},{\"attributes\":{},\"id\":\"5430\",\"type\":\"UnionRenderers\"},{\"attributes\":{\"callback\":null,\"data\":{\"Time\":{\"__ndarray__\":\"\",\"dtype\":\"float64\",\"shape\":[0]},\"index\":{\"__ndarray__\":\"\",\"dtype\":\"float64\",\"shape\":[0]}},\"selected\":{\"id\":\"5429\",\"type\":\"Selection\"},\"selection_policy\":{\"id\":\"5428\",\"type\":\"UnionRenderers\"}},\"id\":\"5386\",\"type\":\"ColumnDataSource\"},{\"attributes\":{\"bottom\":{\"field\":\"bottom\"},\"fill_alpha\":{\"value\":0.1},\"fill_color\":{\"value\":\"#1f77b3\"},\"line_alpha\":{\"value\":0.1},\"line_color\":{\"value\":\"black\"},\"top\":{\"field\":\"top\"},\"width\":{\"value\":0.7},\"x\":{\"field\":\"index\"}},\"id\":\"5443\",\"type\":\"VBar\"},{\"attributes\":{},\"id\":\"5364\",\"type\":\"LinearScale\"},{\"attributes\":{},\"id\":\"5379\",\"type\":\"ResetTool\"},{\"attributes\":{\"source\":{\"id\":\"5404\",\"type\":\"ColumnDataSource\"}},\"id\":\"5409\",\"type\":\"CDSView\"},{\"attributes\":{\"callback\":null,\"data\":{\"x0\":[[\"JAM\",-0.2],[\"USA\",-0.2],[\"CAN\",-0.2],[\"GBR\",-0.2],[\"TRI\",-0.2],[\"URS\",-0.2],[\"EUA\",-0.2],[\"RSA\",-0.2]],\"x1\":[[\"JAM\",0.2],[\"USA\",0.2],[\"CAN\",0.2],[\"GBR\",0.2],[\"TRI\",0.2],[\"URS\",0.2],[\"EUA\",0.2],[\"RSA\",0.2]],\"y0\":[9.69,12.0,10.8,10.6,10.06,10.14,10.2,10.8],\"y1\":[9.69,12.0,10.8,10.6,10.06,10.14,10.2,10.8]},\"selected\":{\"id\":\"5437\",\"type\":\"Selection\"},\"selection_policy\":{\"id\":\"5436\",\"type\":\"UnionRenderers\"}},\"id\":\"5410\",\"type\":\"ColumnDataSource\"},{\"attributes\":{\"source\":{\"id\":\"5416\",\"type\":\"ColumnDataSource\"}},\"id\":\"5421\",\"type\":\"CDSView\"},{\"attributes\":{},\"id\":\"5469\",\"type\":\"Selection\"},{\"attributes\":{\"data_source\":{\"id\":\"5392\",\"type\":\"ColumnDataSource\"},\"glyph\":{\"id\":\"5394\",\"type\":\"Segment\"},\"hover_glyph\":null,\"muted_glyph\":null,\"nonselection_glyph\":{\"id\":\"5395\",\"type\":\"Segment\"},\"selection_glyph\":null,\"view\":{\"id\":\"5397\",\"type\":\"CDSView\"}},\"id\":\"5396\",\"type\":\"GlyphRenderer\"},{\"attributes\":{},\"id\":\"5432\",\"type\":\"UnionRenderers\"},{\"attributes\":{},\"id\":\"5467\",\"type\":\"Selection\"},{\"attributes\":{\"callback\":null,\"data\":{\"bottom\":{\"__ndarray__\":\"UrgehetRI0CamZmZmZkkQKRwPQrXoyRAAAAAAACAJEAfhetRuB4kQEjhehSuRyRAZmZmZmZmJECamZmZmZklQA==\",\"dtype\":\"float64\",\"shape\":[8]},\"index\":[\"JAM\",\"USA\",\"CAN\",\"GBR\",\"TRI\",\"URS\",\"EUA\",\"RSA\"],\"top\":{\"__ndarray__\":\"CtejcD1KI0B7FK5H4fojQClcj8L1KCRA9ihcj8I1JEAfhetRuB4kQEjhehSuRyRAZmZmZmZmJECamZmZmZklQA==\",\"dtype\":\"float64\",\"shape\":[8]}},\"selected\":{\"id\":\"5469\",\"type\":\"Selection\"},\"selection_policy\":{\"id\":\"5468\",\"type\":\"UnionRenderers\"}},\"id\":\"5440\",\"type\":\"ColumnDataSource\"},{\"attributes\":{\"callback\":null,\"end\":12.0,\"reset_end\":12.0,\"reset_start\":9.63,\"start\":9.63,\"tags\":[[[\"Time\",\"Time\",null]]]},\"id\":\"5356\",\"type\":\"Range1d\"},{\"attributes\":{\"fill_alpha\":{\"value\":0.1},\"fill_color\":{\"value\":\"black\"},\"line_alpha\":{\"value\":0.1},\"line_color\":{\"value\":\"black\"},\"x\":{\"field\":\"index\"},\"y\":{\"field\":\"Time\"}},\"id\":\"5389\",\"type\":\"Circle\"},{\"attributes\":{\"bottom\":{\"field\":\"bottom\"},\"fill_color\":{\"value\":\"#1f77b3\"},\"top\":{\"field\":\"top\"},\"width\":{\"value\":0.7},\"x\":{\"field\":\"index\"}},\"id\":\"5442\",\"type\":\"VBar\"},{\"attributes\":{\"source\":{\"id\":\"5410\",\"type\":\"ColumnDataSource\"}},\"id\":\"5415\",\"type\":\"CDSView\"},{\"attributes\":{\"active_drag\":\"auto\",\"active_inspect\":\"auto\",\"active_multi\":null,\"active_scroll\":\"auto\",\"active_tap\":\"auto\",\"tools\":[{\"id\":\"5375\",\"type\":\"SaveTool\"},{\"id\":\"5376\",\"type\":\"PanTool\"},{\"id\":\"5377\",\"type\":\"WheelZoomTool\"},{\"id\":\"5378\",\"type\":\"BoxZoomTool\"},{\"id\":\"5379\",\"type\":\"ResetTool\"}]},\"id\":\"5380\",\"type\":\"Toolbar\"},{\"attributes\":{\"callback\":null,\"factors\":[\"JAM\",\"USA\",\"CAN\",\"GBR\",\"TRI\",\"URS\",\"EUA\",\"RSA\"],\"tags\":[[[\"Country\",\"Country\",null]]]},\"id\":\"5355\",\"type\":\"FactorRange\"},{\"attributes\":{\"overlay\":{\"id\":\"5427\",\"type\":\"BoxAnnotation\"}},\"id\":\"5378\",\"type\":\"BoxZoomTool\"},{\"attributes\":{\"source\":{\"id\":\"5398\",\"type\":\"ColumnDataSource\"}},\"id\":\"5403\",\"type\":\"CDSView\"},{\"attributes\":{},\"id\":\"5436\",\"type\":\"UnionRenderers\"},{\"attributes\":{\"data_source\":{\"id\":\"5398\",\"type\":\"ColumnDataSource\"},\"glyph\":{\"id\":\"5400\",\"type\":\"Segment\"},\"hover_glyph\":null,\"muted_glyph\":null,\"nonselection_glyph\":{\"id\":\"5401\",\"type\":\"Segment\"},\"selection_glyph\":null,\"view\":{\"id\":\"5403\",\"type\":\"CDSView\"}},\"id\":\"5402\",\"type\":\"GlyphRenderer\"},{\"attributes\":{\"dimension\":1,\"grid_line_color\":null,\"ticker\":{\"id\":\"5371\",\"type\":\"BasicTicker\"}},\"id\":\"5374\",\"type\":\"Grid\"},{\"attributes\":{\"data_source\":{\"id\":\"5440\",\"type\":\"ColumnDataSource\"},\"glyph\":{\"id\":\"5442\",\"type\":\"VBar\"},\"hover_glyph\":null,\"muted_glyph\":null,\"nonselection_glyph\":{\"id\":\"5443\",\"type\":\"VBar\"},\"selection_glyph\":null,\"view\":{\"id\":\"5445\",\"type\":\"CDSView\"}},\"id\":\"5444\",\"type\":\"GlyphRenderer\"},{\"attributes\":{\"line_alpha\":{\"value\":0.1},\"line_color\":{\"value\":\"black\"},\"x0\":{\"field\":\"x0\"},\"x1\":{\"field\":\"x1\"},\"y0\":{\"field\":\"y0\"},\"y1\":{\"field\":\"y1\"}},\"id\":\"5401\",\"type\":\"Segment\"},{\"attributes\":{\"source\":{\"id\":\"5392\",\"type\":\"ColumnDataSource\"}},\"id\":\"5397\",\"type\":\"CDSView\"},{\"attributes\":{\"x0\":{\"field\":\"x0\"},\"x1\":{\"field\":\"x1\"},\"y0\":{\"field\":\"y0\"},\"y1\":{\"field\":\"y1\"}},\"id\":\"5394\",\"type\":\"Segment\"},{\"attributes\":{\"x0\":{\"field\":\"x0\"},\"x1\":{\"field\":\"x1\"},\"y0\":{\"field\":\"y0\"},\"y1\":{\"field\":\"y1\"}},\"id\":\"5400\",\"type\":\"Segment\"},{\"attributes\":{\"grid_line_color\":null,\"ticker\":{\"id\":\"5367\",\"type\":\"CategoricalTicker\"}},\"id\":\"5369\",\"type\":\"Grid\"},{\"attributes\":{\"callback\":null,\"data\":{\"x0\":[[\"JAM\",-0.2],[\"USA\",-0.2],[\"CAN\",-0.2],[\"GBR\",-0.2],[\"TRI\",-0.2],[\"URS\",-0.2],[\"EUA\",-0.2],[\"RSA\",-0.2]],\"x1\":[[\"JAM\",0.2],[\"USA\",0.2],[\"CAN\",0.2],[\"GBR\",0.2],[\"TRI\",0.2],[\"URS\",0.2],[\"EUA\",0.2],[\"RSA\",0.2]],\"y0\":[9.63,9.85,9.84,9.96,10.06,10.14,10.2,10.8],\"y1\":[9.63,9.85,9.84,9.96,10.06,10.14,10.2,10.8]},\"selected\":{\"id\":\"5435\",\"type\":\"Selection\"},\"selection_policy\":{\"id\":\"5434\",\"type\":\"UnionRenderers\"}},\"id\":\"5404\",\"type\":\"ColumnDataSource\"},{\"attributes\":{},\"id\":\"5466\",\"type\":\"UnionRenderers\"},{\"attributes\":{\"axis_label\":\"Country\",\"bounds\":\"auto\",\"formatter\":{\"id\":\"5423\",\"type\":\"CategoricalTickFormatter\"},\"major_label_orientation\":\"horizontal\",\"ticker\":{\"id\":\"5367\",\"type\":\"CategoricalTicker\"}},\"id\":\"5366\",\"type\":\"CategoricalAxis\"},{\"attributes\":{\"data_source\":{\"id\":\"5410\",\"type\":\"ColumnDataSource\"},\"glyph\":{\"id\":\"5412\",\"type\":\"Segment\"},\"hover_glyph\":null,\"muted_glyph\":null,\"nonselection_glyph\":{\"id\":\"5413\",\"type\":\"Segment\"},\"selection_glyph\":null,\"view\":{\"id\":\"5415\",\"type\":\"CDSView\"}},\"id\":\"5414\",\"type\":\"GlyphRenderer\"},{\"attributes\":{\"callback\":null,\"data\":{\"x0\":[\"JAM\",\"USA\",\"CAN\",\"GBR\",\"TRI\",\"URS\",\"EUA\",\"RSA\"],\"x1\":[\"JAM\",\"USA\",\"CAN\",\"GBR\",\"TRI\",\"URS\",\"EUA\",\"RSA\"],\"y0\":{\"__ndarray__\":\"4XoUrkdhI0AAAAAAAAAoQJqZmZmZmSVAMzMzMzMzJUAfhetRuB4kQEjhehSuRyRAZmZmZmZmJECamZmZmZklQA==\",\"dtype\":\"float64\",\"shape\":[8]},\"y1\":{\"__ndarray__\":\"mpmZmZlZI0CamZmZmZklQCCF61G4HiVAmpmZmZnZJEAfhetRuB4kQEjhehSuRyRAZmZmZmZmJECamZmZmZklQA==\",\"dtype\":\"float64\",\"shape\":[8]}},\"selected\":{\"id\":\"5431\",\"type\":\"Selection\"},\"selection_policy\":{\"id\":\"5430\",\"type\":\"UnionRenderers\"}},\"id\":\"5392\",\"type\":\"ColumnDataSource\"},{\"attributes\":{},\"id\":\"5435\",\"type\":\"Selection\"},{\"attributes\":{\"bottom\":{\"field\":\"bottom\"},\"fill_color\":{\"value\":\"#1f77b3\"},\"top\":{\"field\":\"top\"},\"width\":{\"value\":0.7},\"x\":{\"field\":\"index\"}},\"id\":\"5418\",\"type\":\"VBar\"},{\"attributes\":{\"x0\":{\"field\":\"x0\"},\"x1\":{\"field\":\"x1\"},\"y0\":{\"field\":\"y0\"},\"y1\":{\"field\":\"y1\"}},\"id\":\"5412\",\"type\":\"Segment\"},{\"attributes\":{\"line_alpha\":{\"value\":0.1},\"line_color\":{\"value\":\"black\"},\"x0\":{\"field\":\"x0\"},\"x1\":{\"field\":\"x1\"},\"y0\":{\"field\":\"y0\"},\"y1\":{\"field\":\"y1\"}},\"id\":\"5407\",\"type\":\"Segment\"},{\"attributes\":{\"fill_color\":{\"value\":\"black\"},\"x\":{\"field\":\"index\"},\"y\":{\"field\":\"Time\"}},\"id\":\"5388\",\"type\":\"Circle\"},{\"attributes\":{},\"id\":\"5431\",\"type\":\"Selection\"},{\"attributes\":{\"callback\":null,\"data\":{\"bottom\":{\"__ndarray__\":\"mpmZmZlZI0CamZmZmZklQCCF61G4HiVAmpmZmZnZJEAfhetRuB4kQEjhehSuRyRAZmZmZmZmJECamZmZmZklQA==\",\"dtype\":\"float64\",\"shape\":[8]},\"index\":[\"JAM\",\"USA\",\"CAN\",\"GBR\",\"TRI\",\"URS\",\"EUA\",\"RSA\"],\"top\":{\"__ndarray__\":\"UrgehetRI0CamZmZmZkkQKRwPQrXoyRAAAAAAACAJEAfhetRuB4kQEjhehSuRyRAZmZmZmZmJECamZmZmZklQA==\",\"dtype\":\"float64\",\"shape\":[8]}},\"selected\":{\"id\":\"5467\",\"type\":\"Selection\"},\"selection_policy\":{\"id\":\"5466\",\"type\":\"UnionRenderers\"}},\"id\":\"5416\",\"type\":\"ColumnDataSource\"},{\"attributes\":{},\"id\":\"5434\",\"type\":\"UnionRenderers\"},{\"attributes\":{\"data_source\":{\"id\":\"5404\",\"type\":\"ColumnDataSource\"},\"glyph\":{\"id\":\"5406\",\"type\":\"Segment\"},\"hover_glyph\":null,\"muted_glyph\":null,\"nonselection_glyph\":{\"id\":\"5407\",\"type\":\"Segment\"},\"selection_glyph\":null,\"view\":{\"id\":\"5409\",\"type\":\"CDSView\"}},\"id\":\"5408\",\"type\":\"GlyphRenderer\"},{\"attributes\":{},\"id\":\"5371\",\"type\":\"BasicTicker\"},{\"attributes\":{\"data_source\":{\"id\":\"5386\",\"type\":\"ColumnDataSource\"},\"glyph\":{\"id\":\"5388\",\"type\":\"Circle\"},\"hover_glyph\":null,\"muted_glyph\":null,\"nonselection_glyph\":{\"id\":\"5389\",\"type\":\"Circle\"},\"selection_glyph\":null,\"view\":{\"id\":\"5391\",\"type\":\"CDSView\"}},\"id\":\"5390\",\"type\":\"GlyphRenderer\"},{\"attributes\":{\"text\":\"Medal: GOLD\",\"text_color\":{\"value\":\"black\"},\"text_font_size\":{\"value\":\"12pt\"}},\"id\":\"5358\",\"type\":\"Title\"},{\"attributes\":{\"items\":[]},\"id\":\"5438\",\"type\":\"Legend\"},{\"attributes\":{\"source\":{\"id\":\"5386\",\"type\":\"ColumnDataSource\"}},\"id\":\"5391\",\"type\":\"CDSView\"},{\"attributes\":{\"callback\":null,\"data\":{\"x0\":[\"JAM\",\"USA\",\"CAN\",\"GBR\",\"TRI\",\"URS\",\"EUA\",\"RSA\"],\"x1\":[\"JAM\",\"USA\",\"CAN\",\"GBR\",\"TRI\",\"URS\",\"EUA\",\"RSA\"],\"y0\":{\"__ndarray__\":\"w/UoXI9CI0AzMzMzM7MjQK5H4XoUriNA7FG4HoXrI0AfhetRuB4kQEjhehSuRyRAZmZmZmZmJECamZmZmZklQA==\",\"dtype\":\"float64\",\"shape\":[8]},\"y1\":{\"__ndarray__\":\"CtejcD1KI0B7FK5H4fojQClcj8L1KCRA9ihcj8I1JEAfhetRuB4kQEjhehSuRyRAZmZmZmZmJECamZmZmZklQA==\",\"dtype\":\"float64\",\"shape\":[8]}},\"selected\":{\"id\":\"5433\",\"type\":\"Selection\"},\"selection_policy\":{\"id\":\"5432\",\"type\":\"UnionRenderers\"}},\"id\":\"5398\",\"type\":\"ColumnDataSource\"},{\"attributes\":{\"data_source\":{\"id\":\"5416\",\"type\":\"ColumnDataSource\"},\"glyph\":{\"id\":\"5418\",\"type\":\"VBar\"},\"hover_glyph\":null,\"muted_glyph\":null,\"nonselection_glyph\":{\"id\":\"5419\",\"type\":\"VBar\"},\"selection_glyph\":null,\"view\":{\"id\":\"5421\",\"type\":\"CDSView\"}},\"id\":\"5420\",\"type\":\"GlyphRenderer\"},{\"attributes\":{},\"id\":\"5468\",\"type\":\"UnionRenderers\"},{\"attributes\":{\"x0\":{\"field\":\"x0\"},\"x1\":{\"field\":\"x1\"},\"y0\":{\"field\":\"y0\"},\"y1\":{\"field\":\"y1\"}},\"id\":\"5406\",\"type\":\"Segment\"},{\"attributes\":{},\"id\":\"5367\",\"type\":\"CategoricalTicker\"}],\"root_ids\":[\"5357\"]},\"title\":\"Bokeh Application\",\"version\":\"1.4.0\"}};\n",
       "  var render_items = [{\"docid\":\"15bed8bb-a747-4a53-bd17-b9ba173eb5b6\",\"roots\":{\"5357\":\"4f051aed-d582-4ce7-bdd6-c17db83d533b\"}}];\n",
       "  root.Bokeh.embed.embed_items_notebook(docs_json, render_items);\n",
       "\n",
       "  }\n",
       "  if (root.Bokeh !== undefined) {\n",
       "    embed_document(root);\n",
       "  } else {\n",
       "    var attempts = 0;\n",
       "    var timer = setInterval(function(root) {\n",
       "      if (root.Bokeh !== undefined) {\n",
       "        clearInterval(timer);\n",
       "        embed_document(root);\n",
       "      } else {\n",
       "        attempts++;\n",
       "        if (attempts > 100) {\n",
       "          clearInterval(timer);\n",
       "          console.log(\"Bokeh: ERROR: Unable to run BokehJS code because BokehJS library is missing\");\n",
       "        }\n",
       "      }\n",
       "    }, 10, root)\n",
       "  }\n",
       "})(window);</script>"
      ],
      "text/plain": [
       ":DynamicMap   [Medal]\n",
       "   :BoxWhisker   [Country]   (Time)"
      ]
     },
     "execution_count": 43,
     "metadata": {
      "application/vnd.holoviews_exec.v0+json": {
       "id": "5357"
      }
     },
     "output_type": "execute_result"
    }
   ],
   "source": [
    "df.hvplot.box(y='Time', groupby='Medal', by='Country', ylabel='Sprint Time')"
   ]
  },
  {
   "cell_type": "code",
   "execution_count": null,
   "metadata": {},
   "outputs": [],
   "source": []
  }
 ],
 "metadata": {
  "kernelspec": {
   "display_name": "Python 3",
   "language": "python",
   "name": "python3"
  },
  "language_info": {
   "codemirror_mode": {
    "name": "ipython",
    "version": 3
   },
   "file_extension": ".py",
   "mimetype": "text/x-python",
   "name": "python",
   "nbconvert_exporter": "python",
   "pygments_lexer": "ipython3",
   "version": "3.7.3"
  }
 },
 "nbformat": 4,
 "nbformat_minor": 2
}
