{
 "cells": [
  {
   "cell_type": "markdown",
   "id": "c9075868-2933-4926-828f-1beb75c8bae0",
   "metadata": {},
   "source": [
    "<img src=\"https://duckdb.org/images/DuckDB-Footer.svg\" style=\"width:8em\">\n",
    "\n",
    "# hvPlot + DuckDB for fast interactive analytics\n",
    "\n",
    "By combining hvPlot and [DuckDB](https://duckdb.org/) you can create very fast interactive analytics solutions.\n",
    "\n",
    "hvPlot integrates with DuckDB via [Ibis](https://ibis-project.org/docs/latest/). You can install the combination via `pip install ibis-framework[duckdb]`.\n",
    "\n",
    "<div class=\"alert alert-warning\">\n",
    "Note: The support for Ibis is experimental and you might experience rough edges. Please report any issues and feedback at <a href=\"https://github.com/holoviz/hvplot\">github/hvplot</a>\n",
    "</div>"
   ]
  },
  {
   "cell_type": "code",
   "execution_count": null,
   "id": "19f5cdd9-bd46-483b-9303-ec6c9805da02",
   "metadata": {},
   "outputs": [],
   "source": [
    "import duckdb\n",
    "import ibis\n",
    "import pandas as pd\n",
    "\n",
    "from pathlib import Path"
   ]
  },
  {
   "cell_type": "markdown",
   "id": "8b4dd859-6e81-49ef-a99e-f253be5fbf63",
   "metadata": {},
   "source": [
    "Lets start by creating a DuckDB database"
   ]
  },
  {
   "cell_type": "code",
   "execution_count": null,
   "id": "c2c9571d-3d9b-4504-81bf-1c420c61bc9e",
   "metadata": {},
   "outputs": [],
   "source": [
    "DUCKDB_PATH = \"example_duckdb.db\"\n",
    "\n",
    "if not Path(DUCKDB_PATH).exists():\n",
    "    pandas_df = pd.DataFrame(\n",
    "        {\n",
    "            \"actual\": [100, 150, 125, 140, 145, 135, 123],\n",
    "            \"forecast\": [90, 160, 125, 150, 141, 141, 120],\n",
    "            \"numerical\": [1.1, 1.9, 3.2, 3.8, 4.3, 5.0, 5.5],\n",
    "            \"date\": pd.date_range(\"2022-01-03\", \"2022-01-09\"),\n",
    "            \"string\": [\"Mon\", \"Tue\", \"Wed\", \"Thu\", \"Fri\", \"Sat\", \"Sun\"],\n",
    "        },\n",
    "    )\n",
    "    duckdb_con = duckdb.connect(DUCKDB_PATH)\n",
    "    duckdb_con.execute(\"CREATE TABLE df AS SELECT * FROM pandas_df\")"
   ]
  },
  {
   "cell_type": "markdown",
   "id": "f782e617-3b12-4f8e-8fae-ba581bbba125",
   "metadata": {},
   "source": [
    "Before starting you will have have to specify the amount of data you will be working on. By default Ibis work on `10000` rows of data whenever its `.execute` method is run.\n",
    "\n",
    "Here we change that setting to `None` to use all the data in the tables. But using a limited number of rows can be useful for the initial exploration and development."
   ]
  },
  {
   "cell_type": "code",
   "execution_count": null,
   "id": "fcad777a-a739-4e03-aeb9-95b6096b2979",
   "metadata": {},
   "outputs": [],
   "source": [
    "ibis.options.sql.default_limit = None"
   ]
  },
  {
   "cell_type": "markdown",
   "id": "8fb1926b-7a19-4431-a0cb-24ad8fe8fe2d",
   "metadata": {},
   "source": [
    "## Connect to duckDB\n",
    "\n",
    "Lets create the connection to the DuckDB database"
   ]
  },
  {
   "cell_type": "code",
   "execution_count": null,
   "id": "3ff4e7e9-779c-4e7a-86b7-e15a815d5fda",
   "metadata": {},
   "outputs": [],
   "source": [
    "db = ibis.duckdb.connect(DUCKDB_PATH)"
   ]
  },
  {
   "cell_type": "markdown",
   "id": "05913d85-84b4-4a1d-924d-b471089d9051",
   "metadata": {},
   "source": [
    "And the table"
   ]
  },
  {
   "cell_type": "code",
   "execution_count": null,
   "id": "da1a0eb3-c845-4c2e-babe-4c3bbe576cd7",
   "metadata": {},
   "outputs": [],
   "source": [
    "table = db.table(\"df\")"
   ]
  },
  {
   "cell_type": "markdown",
   "id": "b0c7e33b-fa1a-4d61-9c89-68be60106dec",
   "metadata": {},
   "source": [
    "Let us check the data"
   ]
  },
  {
   "cell_type": "code",
   "execution_count": null,
   "id": "90559065-af14-495d-984c-8a8aaeaec7c4",
   "metadata": {},
   "outputs": [],
   "source": [
    "table.execute()"
   ]
  },
  {
   "cell_type": "markdown",
   "id": "43335f1a-aca8-4e1a-8ab4-82cc4e428abe",
   "metadata": {},
   "source": [
    "and schema"
   ]
  },
  {
   "cell_type": "code",
   "execution_count": null,
   "id": "bcbd9bbd-e90a-43c9-b1f9-0067fd21ec26",
   "metadata": {},
   "outputs": [],
   "source": [
    "table.schema()"
   ]
  },
  {
   "cell_type": "markdown",
   "id": "13047a02-e364-4f3b-be08-6965dfc8af8f",
   "metadata": {},
   "source": [
    "## Basic Plots\n",
    "\n",
    "To use hvPlot with the ibis-duckdb data source you will need to `import hvplot.ibis`. This will add the `.hvplot` method to the `table` above."
   ]
  },
  {
   "cell_type": "code",
   "execution_count": null,
   "id": "79394446-da53-458a-9e5f-e2b8a4478a25",
   "metadata": {},
   "outputs": [],
   "source": [
    "import hvplot.ibis"
   ]
  },
  {
   "cell_type": "markdown",
   "id": "238e63ab-5b3b-4aff-8716-36652eaae7fe",
   "metadata": {},
   "source": [
    "Let us make a plots"
   ]
  },
  {
   "cell_type": "code",
   "execution_count": null,
   "id": "c7115aa9-1c8b-48ab-87ac-584231253ce5",
   "metadata": {},
   "outputs": [],
   "source": [
    "COLOR_MAP = [\"#4E79A7\", \"#F28E2B\", \"#E15759\"]\n",
    "\n",
    "table.hvplot(x=\"numerical\", y=[\"actual\", \"forecast\"], line_width=5, color=COLOR_MAP)"
   ]
  },
  {
   "cell_type": "markdown",
   "id": "69fbfdfa-6423-4fba-8d5b-d2522f4851b6",
   "metadata": {},
   "source": [
    "Let us make some more"
   ]
  },
  {
   "cell_type": "code",
   "execution_count": null,
   "id": "1aac033a-2ada-4ede-9286-5ee644030495",
   "metadata": {},
   "outputs": [],
   "source": [
    "table.hvplot.bar(x=\"string\", y=\"actual\", line_width=2, color=COLOR_MAP[0], alpha=0.7) *\\\n",
    "table.hvplot.line(x=\"string\", y=\"forecast\", line_width=5, color=COLOR_MAP[2])"
   ]
  },
  {
   "cell_type": "markdown",
   "id": "51cc3602-86d6-4cb8-93ea-0353e89ba7ee",
   "metadata": {},
   "source": [
    "## Big Data Viz with DataShader"
   ]
  },
  {
   "cell_type": "code",
   "execution_count": null,
   "id": "fc2fced4-49b7-47f4-9eb9-cd7e01cf7de7",
   "metadata": {},
   "outputs": [],
   "source": []
  }
 ],
 "metadata": {
  "kernelspec": {
   "display_name": "Python 3 (ipykernel)",
   "language": "python",
   "name": "python3"
  },
  "language_info": {
   "codemirror_mode": {
    "name": "ipython",
    "version": 3
   },
   "file_extension": ".py",
   "mimetype": "text/x-python",
   "name": "python",
   "nbconvert_exporter": "python",
   "pygments_lexer": "ipython3",
   "version": "3.9.7"
  }
 },
 "nbformat": 4,
 "nbformat_minor": 5
}
