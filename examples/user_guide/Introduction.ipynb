{
 "cells": [
  {
   "cell_type": "markdown",
   "metadata": {},
   "source": [
    "The PyData ecosystem has a number of core Python data containers that allow users to work with a wide array of datatypes, including:\n",
    "\n",
    "* [Pandas](http://pandas.pydata.org): DataFrame, Series (columnar/tabular data)\n",
    "* [XArray](http://xarray.pydata.org): Dataset, DataArray (multidimensional arrays)\n",
    "* [Dask](http://dask.pydata.org): DataFrame, Series, Array (distributed/out of core arrays and columnar data)\n",
    "* [Streamz](http://streamz.readthedocs.io): DataFrame(s), Series(s) (streaming columnar data)\n",
    "* [Intake](http://github.com/ContinuumIO/intake): DataSource (remote data)\n",
    "\n",
    "Many of these libraries have the concept of a high-level plotting API that lets a user generate common plot types very easily. The native plotting APIs are generally built on [Matplotlib](http://matplotlib.org), which provides a solid foundation, but means that users miss out the benefits of modern, interactive plotting libraries for the web like [Bokeh](http://bokeh.pydata.org) and [HoloViews](http://holoviews.org).\n",
    "\n",
    "HoloPlot provides a high-level plotting API built on HoloViews and Bokeh that provides a general and consistent API for plotting data in all the abovementioned formats.\n",
    "\n",
    "As a first simple illustration of using HoloPlot, let's create a small set of random data in Pandas to explore:"
   ]
  },
  {
   "cell_type": "code",
   "execution_count": null,
   "metadata": {},
   "outputs": [],
   "source": [
    "import numpy as np\n",
    "import pandas as pd\n",
    "\n",
    "index = pd.date_range('1/1/2000', periods=1000)\n",
    "df = pd.DataFrame(np.random.randn(1000, 4), index=index, columns=list('ABCD')).cumsum()\n",
    "\n",
    "df.head()"
   ]
  },
  {
   "cell_type": "markdown",
   "metadata": {},
   "source": [
    "## Pandas default .plot()\n",
    "\n",
    "Pandas provides Matplotlib-based plotting by default, using the  `.plot()` method:"
   ]
  },
  {
   "cell_type": "code",
   "execution_count": null,
   "metadata": {},
   "outputs": [],
   "source": [
    "%matplotlib inline\n",
    "\n",
    "df.plot()"
   ]
  },
  {
   "cell_type": "markdown",
   "metadata": {},
   "source": [
    "The result is a PNG image that displays easily, but is otherwise static.\n",
    "\n",
    "## HoloPlot .plot()\n",
    "\n",
    "If we instead change `%matplotlib inline` to `import holoplot.pandas`, the same call will now show an interactively explorable [Bokeh](http://bokeh.pydata.org) plot with panning, zooming, hovering, and clickable/selectable legends:"
   ]
  },
  {
   "cell_type": "code",
   "execution_count": null,
   "metadata": {},
   "outputs": [],
   "source": [
    "import holoplot.pandas\n",
    "\n",
    "df.plot()"
   ]
  },
  {
   "cell_type": "markdown",
   "metadata": {},
   "source": [
    "This interactive plot makes it much easier to explore the properties of the data, without having to write code to select ranges, columns, or data values manually.\n",
    "\n",
    "## HoloPlot native API\n",
    "\n",
    "For the plot above, HoloPlot dynamically patched the Pandas `.plot()` method so that you can use the same `.plot()` syntax as with the Pandas default plotting.  If you prefer to be more explicit, you can instead work directly with HoloPlot objects:"
   ]
  },
  {
   "cell_type": "code",
   "execution_count": null,
   "metadata": {},
   "outputs": [],
   "source": [
    "import holoplot as hp\n",
    "import holoviews as hv\n",
    "hv.extension('bokeh')\n",
    "\n",
    "plot = hp.HoloPlot(df)\n",
    "plot(y='A')"
   ]
  },
  {
   "cell_type": "markdown",
   "metadata": {},
   "source": [
    "Here we've imported the HoloViews and HoloPlot libraries, loaded the HoloViews extension that initializes it to create Bokeh plots inside Jupyter notebooks, created a HoloPlot object `plot` for our dataframe, generated a viewable HoloViews object from it by calling `plot()` (here with some additional options to select one column for plotting), and then had Juypter display the resulting HoloViews object using Bokeh in the notebook.\n",
    "\n",
    "In most cases we'll assume you are using the simpler `import holoplot.pandas` approach that takes care of all these steps for you, but if you prefer you are welcome to break them down explicitly in this way.\n",
    "\n",
    "### Next steps\n",
    "\n",
    "Now that you can see how HoloPlot is used, let's jump straight in and discover some of the more powerful things we can do with it in the [Plotting](Plotting.ipynb) section."
   ]
  }
 ],
 "metadata": {
  "language_info": {
   "name": "python",
   "pygments_lexer": "ipython3"
  }
 },
 "nbformat": 4,
 "nbformat_minor": 2
}
