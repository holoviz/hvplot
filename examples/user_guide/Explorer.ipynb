{
 "cells": [
  {
   "cell_type": "code",
   "execution_count": null,
   "metadata": {},
   "outputs": [],
   "source": [
    "import hvplot.pandas\n",
    "\n",
    "from bokeh.sampledata import penguins\n",
    "\n",
    "df = penguins.data"
   ]
  },
  {
   "cell_type": "markdown",
   "metadata": {},
   "source": [
    "<div class=\"alert alert-warning\" role=\"alert\">\n",
    "    The Explorer has been added in hvPlot 0.8.0 and improved and documented in 0.8.1. It is a relatively new feature that is already useful but may have some rough edges, please report any issue or feature request <a href='https://github.com/holoviz/hvplot/'>on GitHub</a>.\n",
    "</div>"
   ]
  },
  {
   "cell_type": "markdown",
   "metadata": {},
   "source": [
    "hvPlot API provides a simple and intuitive way to create plots. However when you are exploring data you don't always know in advance the best way to display it, or even what kind of plot would be best to visualize the data. You will very likely embark in an iterative process that implies choosing a kind of plot, setting various options, running some code, and repeat until you're satisfied with the output and the insights you get. `hvPlotExplorer` is a *Graphical User Interface* that allows you to easily generate customized plots, which in practice gives you the possibility to **explore** both your data and hvPlot's extensive API.\n",
    "\n",
    "To create an `hvPlotExplorer` instance you pass your data to the high-level `hvplot.explorer` function which returns a [Panel](https://panel.holoviz.org/) interactive object that can be displayed in a notebook or served in a web application. This object displays on the right-hand side a preview of the plot you are building, and on the left-hand side the various options that you can set to customize the plot.\n",
    "\n",
    "Note that for the explorer to be displayed in a notebook you need to load the hvPlot extension, which happens automatically when you execute `import hvplot.pandas`. If instead of building Bokeh plots you would rather build Matplotlib or Plotly plot, simply execute once `hvplot.extension('matplotlib')` before displaying the explorer."
   ]
  },
  {
   "cell_type": "code",
   "execution_count": null,
   "metadata": {},
   "outputs": [],
   "source": [
    "hvexplorer = hvplot.explorer(df)\n",
    "hvexplorer"
   ]
  },
  {
   "cell_type": "markdown",
   "metadata": {},
   "source": [
    "The explorer has a few useful methods:\n",
    "\n",
    "* `save(filename, **kwargs)` to save the plot to file\n",
    "* `settings()` to obtain a dictionary of your customized settings\n",
    "* `repr(var_name)` to obtain a formatted string to copy/paste that includes your customized settings\n",
    "* `hvplot()` to get a handle on the displayed HoloViews plot\n",
    "* `panel()` to get a Panel HoloViews pane that wraps the plot\n",
    "* `widgets()` to get the widgets in their Panel Tabs layout"
   ]
  },
  {
   "cell_type": "markdown",
   "metadata": {},
   "source": [
    "You will now see a workflow how to use these methods to d\n",
    "\n",
    "First we will update the explorer as the default configuration doesn't preview a very interesting plot. We will do so programmatically for the purpose of building this website but you would never have to do such thing, so just assume you've changed a few options directly in the explorer with your mouse and keyboard."
   ]
  },
  {
   "cell_type": "code",
   "execution_count": null,
   "metadata": {},
   "outputs": [],
   "source": [
    "hvexplorer.param.set_param(\n",
    "    kind='scatter',\n",
    "    x='bill_length_mm',\n",
    "    y_multi=['bill_depth_mm'],\n",
    "    by=['species'],\n",
    ")\n",
    "hvexplorer.labels.title = 'Penguins Scatter'"
   ]
  },
  {
   "cell_type": "markdown",
   "metadata": {},
   "source": [
    "We may already be satisfied with the plot as is and decide to save a copy, in this case in an HTML file as we have created a Bokeh plot and would like to preserve its interactivity."
   ]
  },
  {
   "cell_type": "code",
   "execution_count": null,
   "metadata": {},
   "outputs": [],
   "source": [
    "hvexplorer.save('plot.html')"
   ]
  },
  {
   "cell_type": "markdown",
   "metadata": {},
   "source": [
    "We can make sure the file has correctly been saved and display it using some `Ipython` utility."
   ]
  },
  {
   "cell_type": "code",
   "execution_count": null,
   "metadata": {},
   "outputs": [],
   "source": [
    "from IPython.core.display import HTML\n",
    "HTML(open('plot.html').read())"
   ]
  },
  {
   "cell_type": "markdown",
   "metadata": {},
   "source": [
    "The options we have changed in the explorer can obtained as a dictionary from the `settings()` method and be passed as kwargs to `hvplot.explorer` to initialize another explorer, or to the `.hvplot()` data accessor. It means you can create temporarily create explorers in your exploration workflow, use them to quickly iterate on building new plots, record their settings, and finally replace the explorers by shorter `.hvplot()` calls. You can also save these options in JSON files for instance."
   ]
  },
  {
   "cell_type": "code",
   "execution_count": null,
   "metadata": {},
   "outputs": [],
   "source": [
    "settings = hvexplorer.settings()\n",
    "settings"
   ]
  },
  {
   "cell_type": "markdown",
   "metadata": {},
   "source": [
    "Note that you do not have to register the `hvplot` accessor on your data structure by e.g. running `import hvplot.pandas` as the `hvplot.explorer` function takes care of that by default, you can deactivate this behaviour by calling `hvplot.explorer` with `set_accessor=False`."
   ]
  },
  {
   "cell_type": "code",
   "execution_count": null,
   "metadata": {},
   "outputs": [],
   "source": [
    "plot1 = df.hvplot(**settings)\n",
    "plot1"
   ]
  },
  {
   "cell_type": "markdown",
   "metadata": {},
   "source": [
    "Another practical way to obtain create a plot from the recorded options is to use the `repr` method that generates a string that is ready to be executed after a copy/paste into a notebook code cell. `repr` assumes that you data variable is named `'df'`, you can change that by passing e.g. `var_name='df_othername'`."
   ]
  },
  {
   "cell_type": "code",
   "execution_count": null,
   "metadata": {},
   "outputs": [],
   "source": [
    "hvexplorer.repr()"
   ]
  },
  {
   "cell_type": "code",
   "execution_count": null,
   "metadata": {},
   "outputs": [],
   "source": [
    "df.hvplot(by=['species'], kind='scatter', title='Penguins Scatter', x='bill_length_mm', y=['bill_depth_mm'])"
   ]
  }
 ],
 "metadata": {
  "language_info": {
   "name": "python",
   "pygments_lexer": "ipython3"
  }
 },
 "nbformat": 4,
 "nbformat_minor": 5
}
