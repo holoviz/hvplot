{
 "cells": [
  {
   "cell_type": "code",
   "execution_count": null,
   "id": "cb9dcb54",
   "metadata": {},
   "outputs": [],
   "source": [
    "import hvplot.pandas  # noqa: F401\n",
    "\n",
    "import xarray as xr\n",
    "from bokeh.sampledata.penguins import data as df"
   ]
  },
  {
   "cell_type": "markdown",
   "id": "c17b4b82",
   "metadata": {},
   "source": [
    "<div class=\"alert alert-info\" role=\"info\">\n",
    "    The Explorer has been added to hvPlot in version <code>0.8.0</code>, and improved and documented in version <code>0.8.1</code> and <code>0.9.0</code>. It does not yet support all the data structures supported by hvPlot. Please report any issue or feature request <a href='https://github.com/holoviz/hvplot/'>on GitHub</a>.\n",
    "</div>"
   ]
  },
  {
   "cell_type": "markdown",
   "id": "bd5ab787",
   "metadata": {},
   "source": [
    "hvPlot API provides a simple and intuitive way to create plots. However when you are exploring data you don't always know in advance the best way to display it, or even what kind of plot would be best to visualize the data. You will very likely embark in an iterative process that implies choosing a kind of plot, setting various options, running some code, and repeat until you're satisfied with the output and the insights you get. The *Explorer* is a *Graphical User Interface* that allows you to easily generate customized plots, which in practice gives you the possibility to **explore** both your data and hvPlot's extensive API.\n",
    "\n",
    "To create an *Explorer* you call `hvplot.explorer` on your data which returns a [Panel](https://panel.holoviz.org/) layout that can be displayed in a notebook or served in a web application. This object displays on the right-hand side a preview of the plot you are building, and on the left-hand side the various options that you can set to customize the plot. These options can passed to the constructor if you already have pre-defined some, for example `data.hvplot.explorer(title='Penguins', width=200)`.\n",
    "\n",
    "Note that for the explorer to be displayed in a notebook you need to load the hvPlot extension, which happens automatically when you execute `import hvplot.pandas`. If instead of building Bokeh plots you would rather build Matplotlib or Plotly plot, simply execute once `hvplot.extension('matplotlib')` or `hvplot.extension('matplotlib')` before displaying the explorer."
   ]
  },
  {
   "cell_type": "code",
   "execution_count": null,
   "id": "6d36b75a",
   "metadata": {},
   "outputs": [],
   "source": [
    "hvexplorer = df.hvplot.explorer()\n",
    "hvexplorer"
   ]
  },
  {
   "cell_type": "markdown",
   "id": "6485252a",
   "metadata": {},
   "source": [
    "The *Explorer* has a few useful methods:\n",
    "\n",
    "* `save(filename, **kwargs)` to save the plot to file\n",
    "* `settings()` to obtain a dictionary of your customized settings\n",
    "* `plot_code(var_name)` to obtain a formatted string to copy/paste that includes your customized settings\n",
    "* `hvplot()` to get a handle on the displayed HoloViews plot"
   ]
  },
  {
   "cell_type": "markdown",
   "id": "40c58e25",
   "metadata": {},
   "source": [
    "You will now see how to use the *Explorer* in combination with these methods.\n",
    "\n",
    "First we will update the *Explorer* as the default configuration doesn't lead to a very interesting preview for this dataset. We will do so programmatically for the purpose of building this website but you would never have to do such thing, so just assume you've changed a few options directly in the explorer with your mouse and keyboard."
   ]
  },
  {
   "cell_type": "code",
   "execution_count": null,
   "id": "c25ee4e1",
   "metadata": {},
   "outputs": [],
   "source": [
    "hvexplorer.param.update(kind='scatter', x='bill_length_mm', y_multi=['bill_depth_mm'], by=['species'])\n",
    "hvexplorer.labels.title = 'Penguins Scatter'"
   ]
  },
  {
   "cell_type": "markdown",
   "id": "e1a6104a",
   "metadata": {},
   "source": [
    "We may already be satisfied with the plot as is and decide to save a copy, in this case in an HTML file as we have created a Bokeh plot and would like to preserve its interactivity."
   ]
  },
  {
   "cell_type": "code",
   "execution_count": null,
   "id": "ac528bbd",
   "metadata": {},
   "outputs": [],
   "source": [
    "hvexplorer.save('plot.html')\n"
   ]
  },
  {
   "cell_type": "markdown",
   "id": "906a55c9",
   "metadata": {},
   "source": [
    "The options we have changed in the *Explorer* can obtained as a dictionary from the `settings()` method and be passed as kwargs to `hvplot.explorer` to initialize another *Explorer*, or directly to the `.hvplot()` data accessor. It means that in your workflow you can temporarily create *Explorers*, use them to quickly iterate on building new plots, record their settings, and finally replace the *Explorers* by shorter `.hvplot()` calls."
   ]
  },
  {
   "cell_type": "code",
   "execution_count": null,
   "id": "9cc7e7db",
   "metadata": {},
   "outputs": [],
   "source": [
    "settings = hvexplorer.settings()\n",
    "settings\n"
   ]
  },
  {
   "cell_type": "markdown",
   "id": "81f80a7e",
   "metadata": {},
   "source": [
    "Note that for the next line to display a plot `hvplot.pandas` has to be imported, which we did at the beginning of this notebook."
   ]
  },
  {
   "cell_type": "code",
   "execution_count": null,
   "id": "5c212d28",
   "metadata": {},
   "outputs": [],
   "source": [
    "df.hvplot(**settings)\n"
   ]
  },
  {
   "cell_type": "markdown",
   "id": "be5f3cc6",
   "metadata": {},
   "source": [
    "Or you can simply copy/paste the code displayed under the `Code` tab."
   ]
  },
  {
   "cell_type": "markdown",
   "id": "f6adc52e",
   "metadata": {},
   "source": [
    "Another practical way to create a plot from the recorded options is to use the `plot_code` method that generates a string ready to be executed after a copy/paste into a notebook code cell. `plot_code` assumes that you data variable is named `'df'`, you can change that by passing e.g. `var_name='df_othername'`."
   ]
  },
  {
   "cell_type": "code",
   "execution_count": null,
   "id": "c9acbdb1",
   "metadata": {},
   "outputs": [],
   "source": [
    "print(hvexplorer.plot_code())\n"
   ]
  },
  {
   "cell_type": "markdown",
   "id": "76c92eaf",
   "metadata": {},
   "source": [
    "Copy/pasting this string without the outer quotes into the next cell is all you need to recreate the exact same plot."
   ]
  },
  {
   "cell_type": "code",
   "execution_count": null,
   "id": "afc6e1dc",
   "metadata": {},
   "outputs": [],
   "source": [
    "df.hvplot(\n",
    "    by=['species'],\n",
    "    kind='scatter',\n",
    "    title='Penguins Scatter',\n",
    "    x='bill_length_mm',\n",
    "    y=['bill_depth_mm']\n",
    ")"
   ]
  },
  {
   "cell_type": "markdown",
   "id": "b986b42d",
   "metadata": {},
   "source": [
    "Or you can simply call `hvplot` on the explorer instance."
   ]
  },
  {
   "cell_type": "code",
   "execution_count": null,
   "id": "db9ada50",
   "metadata": {},
   "outputs": [],
   "source": [
    "hvexplorer.hvplot()\n"
   ]
  },
  {
   "cell_type": "markdown",
   "id": "8c183122",
   "metadata": {},
   "source": [
    "It also works for xarray objects."
   ]
  },
  {
   "cell_type": "code",
   "execution_count": null,
   "id": "f15dde1f",
   "metadata": {},
   "outputs": [],
   "source": [
    "ds = xr.tutorial.open_dataset('air_temperature')\n",
    "\n",
    "hvplot.explorer(ds, x='lon', y='lat')\n"
   ]
  },
  {
   "cell_type": "markdown",
   "id": "d6d90743",
   "metadata": {},
   "source": [
    "It's also possible to geographically reference the data, with cartopy and geoviews installed."
   ]
  },
  {
   "cell_type": "code",
   "execution_count": null,
   "id": "87d4ab4f",
   "metadata": {},
   "outputs": [],
   "source": [
    "hvexplorer = hvplot.explorer(ds, x='lon', y='lat', geo=True)\n",
    "hvexplorer.geographic.param.update(crs='PlateCarree', tiles='CartoDark')\n",
    "hvexplorer\n"
   ]
  },
  {
   "cell_type": "markdown",
   "id": "c4736831",
   "metadata": {},
   "source": [
    "Large datasets can be plotted efficiently using Datashader's `rasterize`."
   ]
  },
  {
   "cell_type": "code",
   "execution_count": null,
   "id": "d01077b1",
   "metadata": {},
   "outputs": [],
   "source": [
    "hvexplorer = hvplot.explorer(ds, x='lon', y='lat', rasterize=True)\n",
    "hvexplorer\n"
   ]
  },
  {
   "cell_type": "markdown",
   "id": "72e136ca",
   "metadata": {},
   "source": [
    "You may also call `hvplot` on the explorer instance."
   ]
  },
  {
   "cell_type": "code",
   "execution_count": null,
   "id": "6d3606e8",
   "metadata": {},
   "outputs": [],
   "source": [
    "hvexplorer.hvplot()"
   ]
  },
  {
   "cell_type": "markdown",
   "id": "145562f8",
   "metadata": {},
   "source": [
    "The *Explorer* makes it very easy to quickly spin up a small application in a notebook with which you can explore your data, generate the visualization that you want, record it in a simple way, and keep going with your analysis."
   ]
  }
 ],
 "metadata": {
  "language_info": {
   "name": "python",
   "pygments_lexer": "ipython3"
  }
 },
 "nbformat": 4,
 "nbformat_minor": 5
}
