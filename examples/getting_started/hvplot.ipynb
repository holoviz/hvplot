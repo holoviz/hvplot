{
 "cells": [
  {
   "cell_type": "markdown",
   "metadata": {},
   "source": [
    "The PyData ecosystem has a number of core Python data containers that allow users to work with a wide array of datatypes, including:\n",
    "\n",
    "* [Pandas](https://pandas.pydata.org): DataFrame, Series (columnar/tabular data)\n",
    "* [Rapids cuDF](https://docs.rapids.ai/api/cudf/stable/): GPU DataFrame, Series (columnar/tabular data)\n",
    "* [Dask](https://www.dask.org): DataFrame, Series (distributed/out of core arrays and columnar data)\n",
    "* [XArray](https://xarray.pydata.org): Dataset, DataArray (labelled multidimensional arrays)\n",
    "* [Streamz](https://streamz.readthedocs.io): DataFrame(s), Series(s) (streaming columnar data)\n",
    "* [Intake](https://github.com/ContinuumIO/intake): DataSource (data catalogues)\n",
    "* [GeoPandas](https://geopandas.org): GeoDataFrame (geometry data)\n",
    "* [NetworkX](https://networkx.github.io/documentation/stable/): Graph (network graphs)\n",
    "\n",
    "Several of these libraries have the concept of a high-level plotting API that lets a user generate common plot types very easily. The native plotting APIs are generally built on [Matplotlib](https://matplotlib.org), which provides a solid foundation, but it means that users miss out on the benefits of modern, interactive plotting libraries built for the web like [Bokeh](https://bokeh.pydata.org) and [HoloViews](https://holoviews.org).\n",
    "\n",
    "**hvPlot** provides a high-level plotting API built on HoloViews that provides a general and consistent API for plotting data in all the abovementioned formats. hvPlot can integrate neatly with the individual libraries if an extension mechanism for the native plot APIs is offered, or it can be used as a standalone component."
   ]
  },
  {
   "cell_type": "markdown",
   "metadata": {},
   "source": [
    "## Basic usage\n",
    "\n",
    "hvPlot provides an alternative for the static plotting API provided by [Pandas](https://pandas.pydata.org) and other libraries, with by default an interactive [Bokeh](https://bokeh.pydata.org)-based plotting API that supports panning, zooming, hovering, and clickable/selectable legends. Let's first create some data."
   ]
  },
  {
   "cell_type": "code",
   "execution_count": null,
   "metadata": {},
   "outputs": [],
   "source": [
    "import pandas as pd, numpy as np\n",
    "idx = pd.date_range('1/1/2000', periods=1000)\n",
    "df  = pd.DataFrame(np.random.randn(1000, 4), index=idx, columns=list('ABCD')).cumsum()"
   ]
  },
  {
   "cell_type": "markdown",
   "metadata": {},
   "source": [
    "We need to import `hvplot.pandas`, this import has two side effects:\n",
    "- It makes the `.hvplot` accessor available on Pandas DataFrame and Series objects, which means that after that `df.hvplot` becomes a valid statement while before that it would raise an `AttributeError`.\n",
    "- It sets the Bokeh plotting library as the default one and loads the corresponding extension. In practice in a notebook it means that there's actually some front-end code that is injected in the cell output of this import, this code is required for HoloViews plots to behave correctly so make sure not to remove this cell."
   ]
  },
  {
   "cell_type": "code",
   "execution_count": null,
   "metadata": {},
   "outputs": [],
   "source": [
    "import hvplot.pandas  # noqa"
   ]
  },
  {
   "cell_type": "markdown",
   "metadata": {},
   "source": [
    "Now simply call `.hvplot()` on the DataFrame as you would call `.plot()`."
   ]
  },
  {
   "cell_type": "code",
   "execution_count": null,
   "metadata": {},
   "outputs": [],
   "source": [
    "df.hvplot()"
   ]
  },
  {
   "cell_type": "markdown",
   "metadata": {},
   "source": [
    "hvPlot works with multiple data sources and ships with some inbuilt sample data, which is loaded using the [Intake](https://github.com/intake/intake) data catalog."
   ]
  },
  {
   "cell_type": "code",
   "execution_count": null,
   "metadata": {},
   "outputs": [],
   "source": [
    "from hvplot.sample_data import us_crime\n",
    "\n",
    "columns = ['Burglary rate', 'Larceny-theft rate', 'Robbery rate', 'Violent Crime rate']\n",
    "us_crime.hvplot.violin(y=columns, group_label='Type of crime', value_label='Rate per 100k', invert=True, color='Type of crime')"
   ]
  },
  {
   "cell_type": "markdown",
   "metadata": {},
   "source": [
    "hvPlot output can easily be composed using `*` to overlay plots or `+` to lay them out side by side:"
   ]
  },
  {
   "cell_type": "code",
   "execution_count": null,
   "metadata": {},
   "outputs": [],
   "source": [
    "us_crime.hvplot.bivariate('Burglary rate', 'Property crime rate', legend=False, width=500, height=400) * \\\n",
    "us_crime.hvplot.scatter(  'Burglary rate', 'Property crime rate', color='black', size=15, legend=False) +\\\n",
    "us_crime.hvplot.table(['Burglary rate', 'Property crime rate'], width=350, height=350)"
   ]
  },
  {
   "cell_type": "markdown",
   "metadata": {},
   "source": [
    "When used with [streamz](https://streamz.readthedocs.io) DataFrames, hvPlot can very easily plot streaming data to get a [live updating plot](../user_guide/Streaming.html):"
   ]
  },
  {
   "cell_type": "code",
   "execution_count": null,
   "metadata": {},
   "outputs": [],
   "source": [
    "import hvplot.streamz  # noqa\n",
    "from streamz.dataframe import Random\n",
    "\n",
    "streaming_df = Random(freq='5ms') \n",
    "\n",
    "streaming_df.hvplot(backlog=100, height=400, width=500) +\\\n",
    "streaming_df.hvplot.hexbin(x='x', y='z', backlog=2000, height=400, width=500);"
   ]
  },
  {
   "cell_type": "markdown",
   "metadata": {},
   "source": [
    "<img src=\"../assets/streamz_demo.gif\" style=\"display: table; margin: 0 auto;\" width=\"70%\"></img>"
   ]
  },
  {
   "cell_type": "markdown",
   "metadata": {},
   "source": [
    "For multidimensional data not supported well by Pandas, you can use an Xarray Dataset like this gridded data of North American air temperatures over time, which also demonstrates support for [geographic projections](../user_guide/Geographic_Plots.html):"
   ]
  },
  {
   "cell_type": "code",
   "execution_count": null,
   "metadata": {},
   "outputs": [],
   "source": [
    "import xarray as xr, cartopy.crs as crs\n",
    "import hvplot.xarray  # noqa\n",
    "\n",
    "air_ds = xr.tutorial.open_dataset('air_temperature').load()\n",
    "proj = crs.Orthographic(-90, 30)\n",
    "\n",
    "air_ds.air.isel(time=slice(0, 9, 3)).hvplot.quadmesh(\n",
    "    'lon', 'lat', projection=proj, project=True, global_extent=True, \n",
    "    cmap='viridis', rasterize=True, dynamic=False, coastline=True, \n",
    "    frame_width=500)"
   ]
  },
  {
   "cell_type": "markdown",
   "metadata": {},
   "source": [
    "hvPlots will show widgets like the \"Time\" slider here whenever your data is indexed by dimensions that are not mapped onto the plot axes, allowing you to explore complex datasets much more easily.\n",
    "\n",
    "Lastly, hvPlot also provides drop-in replacements for the NetworkX plotting functions, making it trivial to generate interactive plots of [network graphs](../user_guide/NetworkX.html):"
   ]
  },
  {
   "cell_type": "code",
   "execution_count": null,
   "metadata": {},
   "outputs": [],
   "source": [
    "import networkx as nx\n",
    "import hvplot.networkx as hvnx\n",
    "\n",
    "G = nx.karate_club_graph()\n",
    "\n",
    "hvnx.draw_spring(G, labels='club', font_size='10pt', node_color='club', cmap='Category10', width=500, height=500)"
   ]
  },
  {
   "cell_type": "markdown",
   "metadata": {},
   "source": [
    "## Using Matplotlib or Plotly"
   ]
  },
  {
   "cell_type": "markdown",
   "metadata": {},
   "source": [
    "hvPlot offers the possibility to create [Matplotlib](https://matplotlib.org/) and [Plotly](https://plotly.com/) plots. Load the chosen plotting library with the `extension` function."
   ]
  },
  {
   "cell_type": "code",
   "execution_count": null,
   "metadata": {},
   "outputs": [],
   "source": [
    "hvplot.extension('matplotlib')"
   ]
  },
  {
   "cell_type": "code",
   "execution_count": null,
   "metadata": {},
   "outputs": [],
   "source": [
    "air_ds.air.isel(time=slice(0, 9, 3)).hvplot.quadmesh(\n",
    "    'lon', 'lat', projection=proj, project=True, global_extent=True, \n",
    "    cmap='viridis', rasterize=True, dynamic=False, coastline=True,\n",
    "    xaxis=None, yaxis=None, width=500\n",
    ")"
   ]
  },
  {
   "cell_type": "markdown",
   "metadata": {},
   "source": [
    "Once multiple backends are loaded you can switch between them with `hvplot.output`."
   ]
  },
  {
   "cell_type": "code",
   "execution_count": null,
   "metadata": {},
   "outputs": [],
   "source": [
    "hvplot.output(backend='bokeh')"
   ]
  },
  {
   "cell_type": "markdown",
   "metadata": {},
   "source": [
    "hvPlot is designed to work well in and outside the Jupyter notebook, and thanks to built-in [Datashader](https://datashader.org) support scales easily to millions or even billions of datapoints:\n",
    "\n",
    "<img src=\"../assets/console_server.gif\" style=\"display: table; margin: 0 auto;\" width=\"80%\"></img>"
   ]
  },
  {
   "cell_type": "markdown",
   "metadata": {},
   "source": [
    "## Pandas backend"
   ]
  },
  {
   "cell_type": "markdown",
   "metadata": {},
   "source": [
    "With recent versions of Pandas (>=0.25.0) we can also swap the default plotting backend:"
   ]
  },
  {
   "cell_type": "code",
   "execution_count": null,
   "metadata": {},
   "outputs": [],
   "source": [
    "pd.options.plotting.backend = 'holoviews'\n",
    "\n",
    "df.A.hist()"
   ]
  },
  {
   "cell_type": "markdown",
   "metadata": {},
   "source": [
    "For information on using `.hvplot()` take a look at the [User Guide](../user_guide/Plotting.ipynb)."
   ]
  }
 ],
 "metadata": {
  "language_info": {
   "name": "python",
   "pygments_lexer": "ipython3"
  }
 },
 "nbformat": 4,
 "nbformat_minor": 5
}
