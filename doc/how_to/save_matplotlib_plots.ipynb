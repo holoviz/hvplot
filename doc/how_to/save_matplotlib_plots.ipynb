{
 "cells": [
  {
   "cell_type": "markdown",
   "id": "72979cef",
   "metadata": {},
   "source": [
    "# How to Save Publication-Quality Matplotlib Plots\n",
    "\n",
    "This guide shows you how to export hvPlot visualizations using the matplotlib backend to create high-quality static images perfect for publications, presentations, and print media."
   ]
  },
  {
   "cell_type": "markdown",
   "id": "7238e264",
   "metadata": {},
   "source": [
    "## Setup\n",
    "\n",
    "First, let's set up hvPlot with the matplotlib backend:"
   ]
  },
  {
   "cell_type": "code",
   "execution_count": null,
   "id": "c33ba493",
   "metadata": {},
   "outputs": [],
   "source": [
    "import hvplot.pandas # noqa\n",
    "hvplot.extension('matplotlib')\n",
    "\n",
    "penguins = hvplot.sampledata.penguins(\"pandas\").dropna()\n",
    "\n",
    "plot = penguins.hvplot.scatter(\n",
    "    x='bill_length_mm',\n",
    "    y='bill_depth_mm',\n",
    "    color='species',\n",
    "    title=\"Penguin Bill Dimensions (Matplotlib)\",\n",
    ")\n",
    "\n",
    "plot"
   ]
  },
  {
   "cell_type": "markdown",
   "id": "c5c5fcb4",
   "metadata": {},
   "source": [
    "## PNG Export (No Browser Driver Required!)\n",
    "\n",
    "The main advantage of matplotlib is that it generates PNG files natively without requiring browser drivers:"
   ]
  },
  {
   "cell_type": "code",
   "execution_count": null,
   "id": "2c29a135",
   "metadata": {},
   "outputs": [],
   "source": [
    "hvplot.save(plot, 'mpl_plot.png')\n",
    "print(\"Matplotlib plot saved as PNG\")"
   ]
  },
  {
   "cell_type": "markdown",
   "id": "63253c78",
   "metadata": {},
   "source": [
    "## High-Quality Publication Figures\n",
    "\n",
    "For publications, you can control the DPI and other matplotlib settings:"
   ]
  },
  {
   "cell_type": "code",
   "execution_count": null,
   "id": "55f3db15",
   "metadata": {},
   "outputs": [],
   "source": [
    "import matplotlib\n",
    "matplotlib.rcParams['figure.dpi'] = 150  # High DPI for better quality\n",
    "\n",
    "publication_plot = penguins.hvplot.scatter(\n",
    "    x='bill_length_mm',\n",
    "    y='bill_depth_mm',\n",
    "    color='species',\n",
    "    width=1200,\n",
    "    height=800,\n",
    "    title=\"Penguin Bill Dimensions\",\n",
    "    xlabel=\"Bill Length (mm)\",\n",
    "    ylabel=\"Bill Depth (mm)\"\n",
    ")\n",
    "\n",
    "publication_plot"
   ]
  },
  {
   "cell_type": "code",
   "execution_count": null,
   "id": "3053915c",
   "metadata": {},
   "outputs": [],
   "source": [
    "hvplot.save(publication_plot, 'publication_figure.png')\n",
    "print(\"Publication-quality figure saved as 'publication_figure.png'\")"
   ]
  },
  {
   "cell_type": "markdown",
   "id": "3b9b5e2d",
   "metadata": {},
   "source": [
    "## Customizing Output Quality\n",
    "\n",
    "You can fine-tune various matplotlib parameters for optimal output:"
   ]
  },
  {
   "cell_type": "code",
   "execution_count": null,
   "id": "4727d75e",
   "metadata": {},
   "outputs": [],
   "source": [
    "# Configure matplotlib for high-quality output\n",
    "matplotlib.rcParams.update({\n",
    "    'figure.dpi': 300,        # High DPI for print\n",
    "    'savefig.dpi': 300,       # DPI for saved figures\n",
    "    'font.size': 12,          # Base font size\n",
    "    'axes.labelsize': 14,     # Axis label font size\n",
    "    'axes.titlesize': 16,     # Title font size\n",
    "    'legend.fontsize': 11,    # Legend font size\n",
    "    'figure.figsize': (10, 6) # Default figure size\n",
    "})\n",
    "\n",
    "print(\"Matplotlib configured for high-quality output\")"
   ]
  },
  {
   "cell_type": "code",
   "execution_count": null,
   "id": "77f11648",
   "metadata": {},
   "outputs": [],
   "source": [
    "# Create a professional-looking plot\n",
    "professional_plot = penguins.hvplot.scatter(\n",
    "    x='bill_length_mm',\n",
    "    y='bill_depth_mm',\n",
    "    color='species',\n",
    "    title=\"Bill Length vs Bill Depth by Species\",\n",
    "    xlabel=\"Bill Length (mm)\",\n",
    "    ylabel=\"Bill Depth (mm)\",\n",
    "    legend='top_right'\n",
    ")\n",
    "\n",
    "professional_plot"
   ]
  },
  {
   "cell_type": "code",
   "execution_count": null,
   "id": "e8d9afde",
   "metadata": {},
   "outputs": [],
   "source": [
    "hvplot.save(professional_plot, 'professional_plot.png')\n",
    "print(\"Professional plot saved as 'professional_plot.png'\")"
   ]
  },
  {
   "cell_type": "markdown",
   "id": "b12a439d",
   "metadata": {},
   "source": [
    "## Multiple Plot Types\n",
    "\n",
    "Matplotlib also works well with all hvPlot chart types:"
   ]
  },
  {
   "cell_type": "code",
   "execution_count": null,
   "id": "54cc8595",
   "metadata": {},
   "outputs": [],
   "source": [
    "plots = {\n",
    "    'scatter': penguins.hvplot.scatter(x='bill_length_mm', y='bill_depth_mm', color='species', width=400),\n",
    "    'histogram': penguins.hvplot.hist('body_mass_g', by='species', alpha=0.7, width=400),\n",
    "    'box': penguins.hvplot.box(y='flipper_length_mm', by='species', width=400),\n",
    "    'violin': penguins.hvplot.violin(y='bill_length_mm', by='species', width=400),\n",
    "}\n",
    "\n",
    "layout = (plots['scatter'] + plots['histogram'] + plots['box'] + plots['violin']).cols(2)\n",
    "layout"
   ]
  },
  {
   "cell_type": "markdown",
   "id": "6a77790e",
   "metadata": {},
   "source": [
    "## Batch Saving Multiple Static Plots\n",
    "\n",
    "Save multiple matplotlib plots efficiently:"
   ]
  },
  {
   "cell_type": "code",
   "execution_count": null,
   "id": "d65c7475",
   "metadata": {},
   "outputs": [],
   "source": [
    "for name, plot in plots.items():\n",
    "    filename = f'{name}_matplotlib.png'\n",
    "    hvplot.save(plot, filename)\n",
    "    print(f\"Saved {filename}\")"
   ]
  },
  {
   "cell_type": "markdown",
   "id": "915440bc-e652-48e5-a2cf-f9a87b88c84e",
   "metadata": {},
   "source": [
    "## Saving as Multi-panels for Publications\n",
    "\n",
    "For scientific publications, you might need to create multi-panel figures:"
   ]
  },
  {
   "cell_type": "code",
   "execution_count": null,
   "id": "72367442-63bf-496a-a875-4313d4cb1cf8",
   "metadata": {},
   "outputs": [],
   "source": [
    "hvplot.save(layout, 'figure_panels.png')\n",
    "print(\"Multi-panel figure saved as 'figure_panels.png'\")"
   ]
  },
  {
   "cell_type": "markdown",
   "id": "0a9c5ad0",
   "metadata": {},
   "source": [
    "## Different File Formats\n",
    "\n",
    "Matplotlib supports various file formats beyond PNG:"
   ]
  },
  {
   "cell_type": "code",
   "execution_count": null,
   "id": "95f8b9ae",
   "metadata": {},
   "outputs": [],
   "source": [
    "# Save in different formats\n",
    "formats = ['png', 'pdf', 'svg', 'gif']\n",
    "\n",
    "for fmt in formats:\n",
    "    try:\n",
    "        filename = f'penguin_plot.{fmt}'\n",
    "        hvplot.save(plot, filename)\n",
    "        print(f\"Saved {filename}\")\n",
    "    except Exception as e:\n",
    "        print(f\"Failed to save {fmt}: {e}\")"
   ]
  },
  {
   "cell_type": "code",
   "execution_count": null,
   "id": "1d0fb88f",
   "metadata": {},
   "outputs": [],
   "source": [
    "large_data = hvplot.sampledata.synthetic_clusters(\"pandas\")\n",
    "print(f\"Dataset size: {len(large_data):,} points\")"
   ]
  },
  {
   "cell_type": "code",
   "execution_count": null,
   "id": "8ec7f537",
   "metadata": {},
   "outputs": [],
   "source": [
    "large_plot = large_data.hvplot.scatter(\n",
    "    x='x', y='y', color='cat',\n",
    "    title=\"Large Dataset Sample\",\n",
    "    width=600, height=400,\n",
    "    alpha=0.6\n",
    ")\n",
    "\n",
    "large_plot"
   ]
  },
  {
   "cell_type": "code",
   "execution_count": null,
   "id": "292f0080",
   "metadata": {},
   "outputs": [],
   "source": [
    "hvplot.save(large_plot, 'large_dataset_matplotlib.png')\n",
    "print(\"Large dataset plot saved successfully\")"
   ]
  },
  {
   "cell_type": "markdown",
   "id": "e8ade29b",
   "metadata": {},
   "source": [
    "## Cleanup\n",
    "\n",
    "Let's clean up the files we created during this demonstration:"
   ]
  },
  {
   "cell_type": "code",
   "execution_count": null,
   "id": "5074ea76",
   "metadata": {},
   "outputs": [],
   "source": [
    "from pathlib import Path\n",
    "\n",
    "files_to_clean = [\n",
    "    'mpl_plot.png', 'publication_figure.png', 'professional_plot.png',\n",
    "    'scatter_matplotlib.png', 'histogram_matplotlib.png', 'box_matplotlib.png', 'violin_matplotlib.png',\n",
    "    'penguin_plot.png', 'penguin_plot.pdf', 'penguin_plot.svg', 'penguin_plot.gif',\n",
    "    'figure_panels.png',\n",
    "]\n",
    "\n",
    "for filename in files_to_clean:\n",
    "    file_path = Path(filename)\n",
    "    if file_path.exists():\n",
    "        file_path.unlink()\n",
    "        print(f\"Removed {filename}\")\n",
    "    else:\n",
    "        print(f\"{filename} not found\")"
   ]
  },
  {
   "cell_type": "markdown",
   "id": "934eac39-1983-492b-a7d8-3a0766b4f7e4",
   "metadata": {},
   "source": [
    "## Advantages of Matplotlib for Static Export\n",
    "\n",
    "- **No browser driver required**: Matplotlib generates PNG files natively\n",
    "- **Better text rendering**: Superior font handling for publications\n",
    "- **Smaller file sizes**: More efficient PNG compression\n",
    "- **Scientific publishing**: Better suited for academic papers\n",
    "- **Consistent output**: Reproducible across different systems"
   ]
  },
  {
   "cell_type": "markdown",
   "id": "97e8d3f3",
   "metadata": {},
   "source": [
    "## Best Practices for Matplotlib Plots\n",
    "\n",
    "1. **No browser dependencies**: Matplotlib generates images natively, making it ideal for server environments\n",
    "\n",
    "2. **Configure DPI appropriately**:\n",
    "   - **Screen display**: 72-96 DPI\n",
    "   - **Web use**: 96-150 DPI\n",
    "   - **Print/publications**: 300+ DPI\n",
    "\n",
    "3. **Choose the right format**:\n",
    "   - **PNG**: Best for complex plots with many colors\n",
    "   - **PDF**: Vector format, ideal for publications\n",
    "   - **SVG**: Vector format, good for web embedding\n",
    "\n",
    "4. **Optimize for your use case**:\n",
    "   - **Scientific papers**: High DPI PNG or PDF\n",
    "   - **Presentations**: Medium DPI PNG\n",
    "   - **Web display**: Lower DPI PNG\n",
    "   - **Print materials**: 300+ DPI PDF or PNG\n",
    "\n",
    "5. **Font and sizing**:\n",
    "   - Use appropriate font sizes for your target medium\n",
    "   - Test readability at the intended viewing size\n",
    "   - Consider colorblind-friendly palettes\n",
    "\n",
    ":::{seealso}\n",
    "- Learn about [saving interactive Bokeh plots](save_bokeh_plots.ipynb) for web sharing and interactive exploration\n",
    "- Explore [using Panel for advanced layouts and interactivity](use_panel_for_display.ipynb)\n",
    ":::"
   ]
  }
 ],
 "metadata": {
  "language_info": {
   "name": "python",
   "pygments_lexer": "ipython3"
  }
 },
 "nbformat": 4,
 "nbformat_minor": 5
}
