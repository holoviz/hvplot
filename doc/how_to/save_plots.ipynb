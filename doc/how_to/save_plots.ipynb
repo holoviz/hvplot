{
 "cells": [
  {
   "cell_type": "markdown",
   "id": "102d09ba",
   "metadata": {},
   "source": [
    "# How to Save Plots to Files\n",
    "\n",
    "This comprehensive guide shows you how to export hvPlot visualizations to various file formats for sharing, presentations, or archival purposes."
   ]
  },
  {
   "cell_type": "markdown",
   "id": "f6fd66fb",
   "metadata": {},
   "source": [
    "## Basic HTML Export\n",
    "\n",
    "The simplest way to save plots is as HTML files, which preserves full interactivity:"
   ]
  },
  {
   "cell_type": "code",
   "execution_count": null,
   "id": "a4d9368d-4475-4e35-9e88-aa4d8f3f39fa",
   "metadata": {
    "tags": [
     "remove-cell"
    ]
   },
   "outputs": [],
   "source": [
    "# Suppress Bokeh warnings\n",
    "import logging\n",
    "logging.getLogger(\"bokeh.core.validation.check\").setLevel(logging.ERROR)"
   ]
  },
  {
   "cell_type": "code",
   "execution_count": null,
   "id": "c27aac1a-f7a8-4584-90e6-472824b4af5b",
   "metadata": {},
   "outputs": [],
   "source": [
    "import hvplot.pandas # noqa\n",
    "hvplot.extension('bokeh', 'matplotlib')\n",
    "\n",
    "penguins = hvplot.sampledata.penguins(\"pandas\").dropna()\n",
    "\n",
    "plot = penguins.hvplot.scatter(\n",
    "    x='bill_length_mm',\n",
    "    y='bill_depth_mm',\n",
    "    color='species',\n",
    "    title=\"Penguin Bill Dimensions\"\n",
    ")\n",
    "\n",
    "plot"
   ]
  },
  {
   "cell_type": "code",
   "execution_count": null,
   "id": "cac5e946",
   "metadata": {},
   "outputs": [],
   "source": [
    "hvplot.save(plot, 'penguins.html')"
   ]
  },
  {
   "cell_type": "markdown",
   "id": "81afdc68",
   "metadata": {},
   "source": [
    "## HTML with Inline Resources\n",
    "\n",
    "By default, HTML files depend on loading JavaScript from online CDN repositories. For offline or airgapped environments, use inline resources:"
   ]
  },
  {
   "cell_type": "code",
   "execution_count": null,
   "id": "4862f9e7",
   "metadata": {},
   "outputs": [],
   "source": [
    "from bokeh.resources import INLINE\n",
    "\n",
    "hvplot.save(plot, 'penguins_offline.html', resources=INLINE)"
   ]
  },
  {
   "cell_type": "markdown",
   "id": "6bbd9861",
   "metadata": {},
   "source": [
    "## PNG Export\n",
    "\n",
    "To save static PNG images, you need additional dependencies. PNG export requires a browser driver."
   ]
  },
  {
   "cell_type": "markdown",
   "id": "bebd7a05",
   "metadata": {},
   "source": [
    "### Installing PNG Export Dependencies\n",
    "\n",
    "Choose one of these options:\n",
    "\n",
    "**Option 1: Chrome/Chromium (Recommended)**\n",
    "\n",
    "Install Chrome or Chromium browser first, then install the Python package.\n",
    "\n",
    "```bash\n",
    "pip install selenium chromedriver-autoinstaller\n",
    "```\n",
    "\n",
    "**Option 2: Firefox**\n",
    "\n",
    "Install Firefox browser first, then install geckodriver.\n",
    "```bash\n",
    "pip install selenium\n",
    "```\n",
    "Download geckodriver from [github/geckodriver](https://github.com/mozilla/geckodriver), then add geckodriver to your PATH\n",
    "\n",
    "**Option 3: Using conda**\n",
    "```bash\n",
    "conda install selenium\n",
    "```"
   ]
  },
  {
   "cell_type": "markdown",
   "id": "9c815090",
   "metadata": {},
   "source": [
    "### Saving PNG Files\n",
    "\n",
    "Once dependencies are installed:"
   ]
  },
  {
   "cell_type": "code",
   "execution_count": null,
   "id": "070a2009",
   "metadata": {},
   "outputs": [],
   "source": [
    "try:\n",
    "    hvplot.save(plot, 'penguins.png')\n",
    "    print(\"PNG saved successfully as 'penguins.png'\")\n",
    "except Exception as e:\n",
    "    print(f\"PNG export failed: {e}\")\n",
    "    print(\"Make sure you have selenium and a browser driver installed.\")"
   ]
  },
  {
   "cell_type": "markdown",
   "id": "8242c218-c4dd-4e48-a589-46acd9c2840c",
   "metadata": {},
   "source": [
    ":::{note}\n",
    "This will only work if you have selenium and a browser driver installed\n",
    ":::"
   ]
  },
  {
   "cell_type": "markdown",
   "id": "c2584a90",
   "metadata": {},
   "source": [
    "### PNG Export Considerations\n",
    "\n",
    "- **File size**: PNG files are typically larger than HTML for complex plots\n",
    "- **Interactivity**: PNG files are static - no zoom, pan, or hover tooltips\n",
    "- **Resolution**: For high-DPI displays or print, consider increasing plot dimensions\n",
    "- **Performance**: PNG export can be slow for complex plots"
   ]
  },
  {
   "cell_type": "code",
   "execution_count": null,
   "id": "2995cf59",
   "metadata": {},
   "outputs": [],
   "source": [
    "high_res_plot = penguins.hvplot.scatter(\n",
    "    x='bill_length_mm',\n",
    "    y='bill_depth_mm',\n",
    "    width=1200,\n",
    "    height=800,\n",
    "    color='species',\n",
    "    title=\"High-Res Penguins Plot\"\n",
    ")\n",
    "\n",
    "high_res_plot"
   ]
  },
  {
   "cell_type": "markdown",
   "id": "998be2c1",
   "metadata": {},
   "source": [
    "## Backend-Specific Saving\n",
    "\n",
    "### Bokeh Backend (Default)\n",
    "\n",
    "Bokeh is the default backend and supports both HTML and PNG export:"
   ]
  },
  {
   "cell_type": "code",
   "execution_count": null,
   "id": "877b5935-eca5-4ce9-bc66-6506f3ec2196",
   "metadata": {},
   "outputs": [],
   "source": [
    "hvplot.output(backend='bokeh')\n",
    "\n",
    "hvplot.save(plot, 'bokeh_plot.html')\n",
    "\n",
    "# PNG export (requires browser driver)\n",
    "try:\n",
    "    hvplot.save(plot, 'bokeh_plot.png')\n",
    "    print(\"Bokeh plot saved as PNG\")\n",
    "except Exception as e:\n",
    "    print(f\"PNG export failed: {e}\")"
   ]
  },
  {
   "cell_type": "markdown",
   "id": "6813d47a",
   "metadata": {},
   "source": [
    "### Matplotlib Backend\n",
    "\n",
    "Matplotlib backend is excellent for publication-quality static images:"
   ]
  },
  {
   "cell_type": "code",
   "execution_count": null,
   "id": "782b357e",
   "metadata": {},
   "outputs": [],
   "source": [
    "hvplot.output(backend='matplotlib')\n",
    "\n",
    "matplotlib_plot = penguins.hvplot.scatter(\n",
    "    x='bill_length_mm',\n",
    "    y='bill_depth_mm',\n",
    "    color='species',\n",
    "    title=\"Penguin Bill Dimensions (Matplotlib)\",\n",
    ")\n",
    "\n",
    "matplotlib_plot"
   ]
  },
  {
   "cell_type": "code",
   "execution_count": null,
   "id": "3cff862c-dbb8-48f5-b386-3855500cbbf8",
   "metadata": {},
   "outputs": [],
   "source": [
    "# Save with matplotlib (PNG export - no browser driver required!)\n",
    "hvplot.save(matplotlib_plot, 'matplotlib_plot.png')\n",
    "print(\"Matplotlib plot saved as PNG\")"
   ]
  },
  {
   "cell_type": "markdown",
   "id": "851daf63-8d52-47cd-b9ea-c74d676e063d",
   "metadata": {},
   "source": [
    ":::{note} \n",
    "Matplotlib doesn't support interactive HTML export. Switch back to Bokeh for HTML exports if needed:\n",
    "\n",
    "`hvplot.output(backend='bokeh')`\n",
    ":::"
   ]
  },
  {
   "cell_type": "markdown",
   "id": "8543bde5",
   "metadata": {},
   "source": [
    "### Matplotlib Advantages for PNG Export\n",
    "\n",
    "- **No browser driver required**: Matplotlib generates PNG files natively\n",
    "- **Better text rendering**: Superior font handling for publications\n",
    "- **Smaller file sizes**: More efficient PNG compression\n",
    "- **Scientific publishing**: Better suited for academic papers"
   ]
  },
  {
   "cell_type": "code",
   "execution_count": null,
   "id": "06bcc1f4",
   "metadata": {},
   "outputs": [],
   "source": [
    "import matplotlib\n",
    "matplotlib.rcParams['figure.dpi'] = 150  # High DPI for better quality\n",
    "\n",
    "publication_plot = penguins.hvplot.scatter(\n",
    "    x='bill_length_mm',\n",
    "    y='bill_depth_mm',\n",
    "    color='species',\n",
    "    width=1200,\n",
    "    height=800,\n",
    "    title=\"Penguin Bill Dimensions\",\n",
    "    xlabel=\"Bill Length (mm)\",\n",
    "    ylabel=\"Bill Depth (mm)\"\n",
    ")\n",
    "\n",
    "publication_plot"
   ]
  },
  {
   "cell_type": "code",
   "execution_count": null,
   "id": "cee0ffbc",
   "metadata": {},
   "outputs": [],
   "source": [
    "hvplot.save(publication_plot, 'publication_figure.png')"
   ]
  },
  {
   "cell_type": "markdown",
   "id": "647ec181",
   "metadata": {},
   "source": [
    "## Batch Saving Multiple Plots\n",
    "\n",
    "You can efficiently save multiple plots in a loop:"
   ]
  },
  {
   "cell_type": "code",
   "execution_count": null,
   "id": "2fb36928",
   "metadata": {},
   "outputs": [],
   "source": [
    "hvplot.output(backend='bokeh')\n",
    "\n",
    "size_opts = {\"frame_width\": 250}\n",
    "\n",
    "plots = {\n",
    "    'scatter': penguins.hvplot.scatter(x='bill_length_mm', y='bill_depth_mm', color='species', **size_opts),\n",
    "    'histogram': penguins.hvplot.hist('body_mass_g', by='species', alpha=0.7, **size_opts),\n",
    "    'box': penguins.hvplot.box(y='flipper_length_mm', by='species', **size_opts),\n",
    "}\n",
    "\n",
    "# Display the plots\n",
    "plots['scatter'] + plots['histogram'] + plots['box']"
   ]
  },
  {
   "cell_type": "code",
   "execution_count": null,
   "id": "a3cda1b0",
   "metadata": {},
   "outputs": [],
   "source": [
    "for name, plot in plots.items():\n",
    "    hvplot.save(plot, f'{name}_plot.html')\n",
    "    print(f\"Saved {name}_plot.html\")\n",
    "\n",
    "    # Try PNG export\n",
    "    try:\n",
    "        hvplot.save(plot, f'{name}_plot.png')\n",
    "        print(f\"Saved {name}_plot.png\")\n",
    "    except Exception as e:\n",
    "        print(f\"PNG export failed for {name}: {e}\")"
   ]
  },
  {
   "cell_type": "markdown",
   "id": "297fa2bc",
   "metadata": {},
   "source": [
    "## Troubleshooting Common Issues\n",
    "\n",
    "### Testing PNG Export Setup\n",
    "\n",
    "Here's how to test if your PNG export setup is working:"
   ]
  },
  {
   "cell_type": "code",
   "execution_count": null,
   "id": "ea9f7fb1",
   "metadata": {},
   "outputs": [],
   "source": [
    "# Test if selenium can find your browser\n",
    "try:\n",
    "    from selenium import webdriver\n",
    "    from selenium.webdriver.chrome.options import Options\n",
    "\n",
    "    # Test Chrome\n",
    "    chrome_options = Options()\n",
    "    chrome_options.add_argument(\"--headless\")  # Run in background\n",
    "    driver = webdriver.Chrome(options=chrome_options)\n",
    "    driver.quit()\n",
    "    print(\"✓ Chrome driver is working\")\n",
    "\n",
    "except Exception as e:\n",
    "    print(f\"✗ Chrome driver issue: {e}\")\n",
    "\n",
    "    # Try Firefox as fallback\n",
    "    try:\n",
    "        from selenium.webdriver.firefox.options import Options as FirefoxOptions\n",
    "        firefox_options = FirefoxOptions()\n",
    "        firefox_options.add_argument(\"--headless\")\n",
    "        driver = webdriver.Firefox(options=firefox_options)\n",
    "        driver.quit()\n",
    "        print(\"✓ Firefox driver is working\")\n",
    "    except Exception as e2:\n",
    "        print(f\"✗ Firefox driver issue: {e2}\")\n",
    "        print(\"Consider installing browser drivers or using matplotlib backend for PNG export\")"
   ]
  },
  {
   "cell_type": "markdown",
   "id": "433c0f28",
   "metadata": {},
   "source": [
    "### Memory Issues with Large Datasets\n",
    "\n",
    "For very large datasets, consider using datashader for efficient rendering:"
   ]
  },
  {
   "cell_type": "code",
   "execution_count": null,
   "id": "ec7bbda4",
   "metadata": {},
   "outputs": [],
   "source": [
    "large_data = hvplot.sampledata.synthetic_clusters(\"pandas\")\n",
    "print(f\"Dataset size: {len(large_data):,} points\")"
   ]
  },
  {
   "cell_type": "code",
   "execution_count": null,
   "id": "7a40fbb5",
   "metadata": {},
   "outputs": [],
   "source": [
    "datashaded_plot = large_data.hvplot.scatter(\n",
    "    x='x',\n",
    "    y='y',\n",
    "    by='cat',\n",
    "    datashade=True,\n",
    "    frame_width=300,\n",
    "    aspect='square',\n",
    "    title=\"Large Dataset with Datashader\"\n",
    ")\n",
    "\n",
    "datashaded_plot"
   ]
  },
  {
   "cell_type": "code",
   "execution_count": null,
   "id": "d29a8063",
   "metadata": {},
   "outputs": [],
   "source": [
    "hvplot.save(datashaded_plot, 'large_dataset.html')\n",
    "print(\"Large dataset plot saved successfully\")"
   ]
  },
  {
   "cell_type": "markdown",
   "id": "9b398e9e",
   "metadata": {},
   "source": [
    "## Cleanup\n",
    "\n",
    "Let's clean up the files we created during this demonstration:"
   ]
  },
  {
   "cell_type": "code",
   "execution_count": null,
   "id": "84bddcd7",
   "metadata": {},
   "outputs": [],
   "source": [
    "from pathlib import Path\n",
    "\n",
    "# List of files we created\n",
    "files_to_clean = [\n",
    "    'penguins.html', 'penguins_offline.html', 'penguins.png',\n",
    "    'bokeh_plot.html', 'bokeh_plot.png',\n",
    "    'matplotlib_plot.png', 'publication_figure.png',\n",
    "    'scatter_plot.html', 'histogram_plot.html', 'box_plot.html',\n",
    "    'scatter_plot.png', 'histogram_plot.png', 'box_plot.png',\n",
    "    'large_dataset.html'\n",
    "]\n",
    "\n",
    "for filename in files_to_clean:\n",
    "    file_path = Path(filename)\n",
    "    if file_path.exists():\n",
    "        file_path.unlink()\n",
    "        print(f\"Removed {filename}\")\n",
    "    else:\n",
    "        print(f\"{filename} not found\")"
   ]
  },
  {
   "cell_type": "markdown",
   "id": "cac797f4",
   "metadata": {},
   "source": [
    "## Best Practices Summary\n",
    "\n",
    "1. **Choose the right format**:\n",
    "   - **HTML**: For interactive sharing, web embedding\n",
    "   - **PNG**: For presentations, documents, static sharing\n",
    "   - **Use matplotlib backend** for publication-quality static images\n",
    "\n",
    "2. **Test your export pipeline**:\n",
    "   - Always test both HTML and PNG exports\n",
    "   - Verify that required dependencies are installed\n",
    "\n",
    "3. **Consider your audience**:\n",
    "   - **Technical users**: HTML for full interactivity\n",
    "   - **Presentations**: PNG for consistent display across platforms\n",
    "   - **Publications**: Matplotlib PNG for highest quality\n",
    "\n",
    "4. **Handle large datasets**:\n",
    "   - Use `rasterize=True` or `datashade=True` for datasets with many points\n",
    "   - Consider data sampling for very large datasets\n",
    "\n",
    "5. **Offline environments**:\n",
    "   - Use `resources=INLINE` for HTML files\n",
    "   - Matplotlib backend doesn't require internet connectivity\n",
    "\n",
    ":::{seealso}\n",
    "- Learn [how to display plots in different environments](display_plots.ipynb)\n",
    "- Explore [using Panel for advanced layouts and interactivity](use_panel_for_display.ipynb)\n",
    ":::"
   ]
  }
 ],
 "metadata": {
  "language_info": {
   "name": "python",
   "pygments_lexer": "ipython3"
  }
 },
 "nbformat": 4,
 "nbformat_minor": 5
}
