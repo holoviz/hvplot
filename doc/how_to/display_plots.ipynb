{
 "cells": [
  {
   "cell_type": "markdown",
   "id": "f75f8cba",
   "metadata": {},
   "source": [
    "# How to Display Plots in Different Environments\n",
    "\n",
    "This guide shows you how to display hvPlot visualizations in various environments: Jupyter notebooks, Python scripts, and interactive command prompts."
   ]
  },
  {
   "cell_type": "markdown",
   "id": "a6b83489",
   "metadata": {},
   "source": [
    "## Jupyter Notebook Environment\n",
    "\n",
    "In Jupyter notebooks, hvPlot displays plots automatically when you create them. The easiest way to get started is to import the plotting extensions:"
   ]
  },
  {
   "cell_type": "code",
   "execution_count": null,
   "id": "718036cd",
   "metadata": {},
   "outputs": [],
   "source": [
    "import hvplot.pandas # noqa\n",
    "\n",
    "hvplot.extension('bokeh', 'matplotlib')"
   ]
  },
  {
   "cell_type": "markdown",
   "id": "f177e50e",
   "metadata": {},
   "source": [
    "Now let's load some sample datasets and create plots that will display automatically:"
   ]
  },
  {
   "cell_type": "code",
   "execution_count": null,
   "id": "dc508d1d",
   "metadata": {},
   "outputs": [],
   "source": [
    "penguins = hvplot.sampledata.penguins(\"pandas\").dropna()\n",
    "large_data = hvplot.sampledata.synthetic_clusters(\"pandas\")"
   ]
  },
  {
   "cell_type": "code",
   "execution_count": null,
   "id": "316188d5",
   "metadata": {},
   "outputs": [],
   "source": [
    "# Create individual plots\n",
    "bill_length_plot = penguins.hvplot.scatter(\n",
    "    x='bill_length_mm',\n",
    "    y='bill_depth_mm',\n",
    "    by='species',\n",
    "    width=400,\n",
    "    height=300,\n",
    "    title=\"Bill Length vs Depth by Species\",\n",
    "    alpha=0.7\n",
    ")\n",
    "\n",
    "body_mass_plot = penguins.hvplot.hist(\n",
    "    'body_mass_g',\n",
    "    by='species',\n",
    "    width=400,\n",
    "    height=300,\n",
    "    title=\"Body Mass Distribution by Species\",\n",
    "    alpha=0.7\n",
    ")\n",
    "\n",
    "# Display individual plots\n",
    "bill_length_plot"
   ]
  },
  {
   "cell_type": "code",
   "execution_count": null,
   "id": "9dc8ec42",
   "metadata": {},
   "outputs": [],
   "source": [
    "body_mass_plot"
   ]
  },
  {
   "cell_type": "markdown",
   "id": "8223d3f7",
   "metadata": {},
   "source": [
    "### Creating Layouts in Notebooks\n",
    "\n",
    "You can combine plots into layouts using the `+` (side-by-side) and `*` (overlay) operators:"
   ]
  },
  {
   "cell_type": "markdown",
   "id": "1cf593db-acff-4f1e-b21a-66fcdc3d5b45",
   "metadata": {},
   "source": [
    "### Side-by-side layout"
   ]
  },
  {
   "cell_type": "code",
   "execution_count": null,
   "id": "fd73cd88-963d-4259-9d7b-1a940e1f4453",
   "metadata": {},
   "outputs": [],
   "source": [
    "side_by_side = bill_length_plot + body_mass_plot\n",
    "side_by_side"
   ]
  },
  {
   "cell_type": "markdown",
   "id": "97d2955c-6ee4-427b-8ea7-cd815c5ca86d",
   "metadata": {},
   "source": [
    "### Overlays"
   ]
  },
  {
   "cell_type": "code",
   "execution_count": null,
   "id": "dc51a68c-9f55-47b1-9810-5d561f478db9",
   "metadata": {},
   "outputs": [],
   "source": [
    "stocks = hvplot.sampledata.stocks(\"pandas\")\n",
    "\n",
    "tech_stocks_1 = stocks.hvplot.line(\n",
    "    x='date',\n",
    "    y=['Apple', 'Google'],\n",
    "    title=\"Tech Stock Comparison (Normalized Prices)\",\n",
    "    width=600,\n",
    "    height=400,\n",
    "    alpha=0.8\n",
    ")\n",
    "\n",
    "tech_stocks_2 = stocks.hvplot.line(\n",
    "    x='date',\n",
    "    y=['Microsoft', 'Amazon'],\n",
    "    width=600,\n",
    "    height=400,\n",
    "    alpha=0.8\n",
    ")\n",
    "\n",
    "overlay = tech_stocks_1 * tech_stocks_2\n",
    "\n",
    "overlay"
   ]
  },
  {
   "cell_type": "code",
   "execution_count": null,
   "id": "9b9c6ad0",
   "metadata": {},
   "outputs": [],
   "source": [
    "cluster_scatter = large_data.hvplot.scatter(\n",
    "    x='x',\n",
    "    y='y',\n",
    "    by='cat',\n",
    "    datashade=True,\n",
    "    alpha=0.6,\n",
    "    width=400,\n",
    "    height=300,\n",
    "    title=\"Synthetic Clusters\"\n",
    ")\n",
    "\n",
    "cluster_hist = large_data.hvplot.hist(\n",
    "    'x',\n",
    "    bins=30,\n",
    "    width=400,\n",
    "    height=300,\n",
    "    title=\"X Distribution in Clusters\"\n",
    ")\n",
    "\n",
    "# Create a 2x2 layout\n",
    "layout = (bill_length_plot +\n",
    "          body_mass_plot +\n",
    "          cluster_scatter +\n",
    "          cluster_hist).opts(shared_axes=False).cols(2)\n",
    "layout"
   ]
  },
  {
   "cell_type": "markdown",
   "id": "da43b41f",
   "metadata": {},
   "source": [
    "## Python Scripts and Command Line\n",
    "\n",
    "When working outside Jupyter notebooks, plots won't display automatically. You need to use the `hvplot.show()` function to open plots in a browser window."
   ]
  },
  {
   "cell_type": "markdown",
   "id": "8870874c",
   "metadata": {},
   "source": [
    "### Interactive Python Command Prompt\n",
    "\n",
    "When working in an interactive Python session (IPython, Python REPL), using `hvplot.show()` in the ipython environment automatically opens a bokeh server, displaying with plot with all the interactive features enabled:\n",
    "\n",
    "<img src=\"../assets/combined_penguin.png\" style=\"display: table; margin: 0 auto;\"></img>"
   ]
  },
  {
   "cell_type": "markdown",
   "id": "6a7cfd6a",
   "metadata": {},
   "source": [
    "### Scripts\n",
    "\n",
    "When using python scripts like in vscode or other IDEs, the display behavior is also identical, as it also opens up a bokeh server:\n",
    "\n",
    "<img src=\"../assets/vscode_penguin.png\" style=\"display: table; margin: 0 auto;\"></img>"
   ]
  },
  {
   "cell_type": "markdown",
   "id": "e1cb758a",
   "metadata": {},
   "source": [
    "## Environment-Specific Tips\n",
    "\n",
    "### Jupyter Lab vs Jupyter Notebook\n",
    "\n",
    "hvPlot works seamlessly in both Jupyter Lab and Jupyter Notebook. The display behavior is identical:"
   ]
  },
  {
   "cell_type": "code",
   "execution_count": null,
   "id": "73048fd3",
   "metadata": {},
   "outputs": [],
   "source": [
    "penguin_plot = penguins.hvplot.scatter(\n",
    "    x='bill_length_mm',\n",
    "    y='bill_depth_mm',\n",
    "    by='species',\n",
    "    title=\"Penguin Bill Dimensions\",\n",
    "    alpha=0.7\n",
    ")\n",
    "\n",
    "penguin_plot"
   ]
  },
  {
   "cell_type": "markdown",
   "id": "9f3282ca",
   "metadata": {},
   "source": [
    "### VS Code with Jupyter Extension\n",
    "\n",
    "When using VS Code with the Jupyter extension, hvPlot plots display inline just like in traditional Jupyter environments:"
   ]
  },
  {
   "cell_type": "code",
   "execution_count": null,
   "id": "49258fb5",
   "metadata": {},
   "outputs": [],
   "source": [
    "vscode_plot = penguins.hvplot.violin(\n",
    "    y='body_mass_g',\n",
    "    by='species',\n",
    "    title=\"Penguin Body Mass Distribution by Species\",\n",
    ")\n",
    "\n",
    "vscode_plot"
   ]
  },
  {
   "cell_type": "markdown",
   "id": "7e0fc4a3",
   "metadata": {},
   "source": [
    "### Google Colab\n",
    "\n",
    "In Google Colab, you may need to enable the Bokeh extension explicitly:"
   ]
  },
  {
   "cell_type": "code",
   "execution_count": null,
   "id": "deabc63b",
   "metadata": {},
   "outputs": [],
   "source": [
    "# hvplot.extension('bokeh')  # Explicitly enable Bokeh\n",
    "\n",
    "colab_plot = penguins.hvplot.scatter(\n",
    "    x='bill_length_mm',\n",
    "    y='bill_depth_mm',\n",
    "    by='species',\n",
    "    title=\"Penguin Measurements (Colab Compatible)\",\n",
    "    alpha=0.7\n",
    ")\n",
    "\n",
    "colab_plot"
   ]
  },
  {
   "cell_type": "markdown",
   "id": "686792dd",
   "metadata": {},
   "source": [
    "### Terminal/SSH Environments\n",
    "\n",
    "When working on remote servers or in terminal-only environments, you have several options:"
   ]
  },
  {
   "cell_type": "code",
   "execution_count": null,
   "id": "823e3f5d-2196-4eec-9f4f-ad3ba5572247",
   "metadata": {},
   "outputs": [],
   "source": [
    "# Option 1: Save plots to files instead of displaying\n",
    "terminal_plot = penguins.hvplot.scatter(\n",
    "    x='bill_length_mm',\n",
    "    y='bill_depth_mm',\n",
    "    by='species',\n",
    "    title=\"Penguin Bill Dimensions (for Terminal Environment)\",\n",
    "    alpha=0.7\n",
    ")\n",
    "\n",
    "hvplot.save(terminal_plot, 'terminal_plot.html')\n",
    "print(\"Plot saved as 'terminal_plot.html'\")"
   ]
  },
  {
   "cell_type": "code",
   "execution_count": null,
   "id": "d0aad103-32df-4856-ac57-281c5db385d2",
   "metadata": {},
   "outputs": [],
   "source": [
    "# Option 2: Use matplotlib backend for direct PNG export\n",
    "hvplot.output(backend='matplotlib')\n",
    "terminal_plot_mpl = penguins.hvplot.scatter(\n",
    "    x='bill_length_mm',\n",
    "    y='bill_depth_mm',\n",
    "    by='species',\n",
    "    title=\"Penguin Bill Dimensions (Matplotlib)\",\n",
    ")\n",
    "\n",
    "hvplot.save(terminal_plot_mpl, 'terminal_plot.png')\n",
    "print(\"Plot saved as 'terminal_plot.png'\")"
   ]
  },
  {
   "cell_type": "markdown",
   "id": "1d8dea3d",
   "metadata": {},
   "source": [
    "## Troubleshooting Display Issues\n",
    "\n",
    "### Plots Not Displaying in Notebooks\n",
    "\n",
    "If plots aren't showing in your notebook, try these solutions:"
   ]
  },
  {
   "cell_type": "code",
   "execution_count": null,
   "id": "cb8e1d53",
   "metadata": {},
   "outputs": [],
   "source": [
    "# Solution 1: Explicitly enable the extension\n",
    "hvplot.extension('bokeh')\n",
    "\n",
    "# Solution 2: Check if the import worked\n",
    "import hvplot.pandas # noqa\n",
    "print(\"hvplot.pandas imported successfully\")\n",
    "\n",
    "# Solution 3: Create a test plot\n",
    "test_plot = penguins.hvplot.scatter(\n",
    "    x='bill_length_mm',\n",
    "    y='bill_depth_mm',\n",
    "    color='species',\n",
    "    title=\"Test Plot\"\n",
    ")\n",
    "\n",
    "test_plot"
   ]
  },
  {
   "cell_type": "markdown",
   "id": "a34f3ed2",
   "metadata": {},
   "source": [
    "### Browser Issues with hvplot.show()\n",
    "\n",
    "If `hvplot.show()` isn't opening your browser, you can save the plot as a html file and open it manually:"
   ]
  },
  {
   "cell_type": "code",
   "execution_count": null,
   "id": "672d941a-0857-4ae5-9f11-41c883b4b8f3",
   "metadata": {},
   "outputs": [],
   "source": [
    "backup_plot = penguins.hvplot.scatter(x='bill_length_mm', y='flipper_length_mm', by='species')\n",
    "hvplot.save(backup_plot, 'backup_plot.html')\n",
    "print(\"Manually open 'backup_plot.html'\")"
   ]
  },
  {
   "cell_type": "markdown",
   "id": "cd040662",
   "metadata": {},
   "source": [
    "## Cleanup\n",
    "\n",
    "Let's clean up the files we created:"
   ]
  },
  {
   "cell_type": "code",
   "execution_count": null,
   "id": "4fa37ee2",
   "metadata": {},
   "outputs": [],
   "source": [
    "from pathlib import Path\n",
    "\n",
    "files_to_clean = [\n",
    "    'terminal_plot.html',\n",
    "    'terminal_plot.png',\n",
    "    'backup_plot.html'\n",
    "]\n",
    "\n",
    "for filename in files_to_clean:\n",
    "    file_path = Path(filename)\n",
    "    if file_path.exists():\n",
    "        file_path.unlink()\n",
    "        print(f\"Removed {filename}\")\n",
    "    else:\n",
    "        print(f\"{filename} not found\")"
   ]
  },
  {
   "cell_type": "markdown",
   "id": "005c4d00",
   "metadata": {},
   "source": [
    ":::{admonition} Summary\n",
    "\n",
    "Here's a quick reference for displaying plots in different environments:\n",
    "\n",
    "| Environment | How to Display | Notes |\n",
    "|-------------|----------------|-------|\n",
    "| **Jupyter Notebook/Lab** | Automatic (just create the plot) | Import `hvplot.pandas` or similar |\n",
    "| **VS Code + Jupyter** | Automatic (just create the plot) | Same as Jupyter |\n",
    "| **Python Scripts** | `hvplot.show(plot)` | Opens in browser |\n",
    "| **Interactive Python** | `hvplot.show(plot)` | Opens in browser |\n",
    "| **Google Colab** | Automatic (may need `hvplot.extension('bokeh')`) | Import hvplot first |\n",
    "| **Terminal/SSH** | Save to file: `hvplot.save(plot, 'file.html')` | Transfer file to view locally |\n",
    "| **Offline/Airgapped** | Use matplotlib backend or save with `INLINE` resources | No internet required |\n",
    ":::\n",
    "\n",
    ":::{admonition} Next Steps\n",
    ":class: seealso\n",
    "\n",
    "- Learn how to:\n",
    "  - [Save Bokeh plots](save_bokeh_plots.ipynb)\n",
    "  - [Save Matplotlib plots](save_matplotlib_plots.ipynb)\n",
    "- Explore [using Panel for advanced layouts and interactivity](use_panel_for_display.ipynb)\n",
    ":::"
   ]
  }
 ],
 "metadata": {
  "language_info": {
   "name": "python",
   "pygments_lexer": "ipython3"
  }
 },
 "nbformat": 4,
 "nbformat_minor": 5
}
