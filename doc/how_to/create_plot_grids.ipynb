{
 "cells": [
  {
   "cell_type": "markdown",
   "id": "2b241557",
   "metadata": {},
   "source": [
    "# How to Create Plot Grids\n",
    "\n",
    "This guide shows you how to arrange multidimensional data into explicit grids of plots with shared axes, allowing easier comparisons across large numbers of related plots.\n",
    "\n",
    "## When to use plot grids\n",
    "\n",
    "Use plot grids when:\n",
    "- You have multidimensional data that naturally forms a matrix structure\n",
    "- You want shared axes across rows and columns for easy comparison\n",
    "- You need to visualize patterns across multiple categorical variables simultaneously\n",
    "\n",
    "## Setup\n",
    "\n",
    "Let's load some sample datasets from the `hvsampledata` module:"
   ]
  },
  {
   "cell_type": "code",
   "execution_count": null,
   "id": "e99b3c25",
   "metadata": {},
   "outputs": [],
   "source": [
    "import hvplot.pandas  # noqa\n",
    "import hvplot.xarray  # noqa\n",
    "\n",
    "penguins = hvplot.sampledata.penguins(\"pandas\").dropna()\n",
    "air_temp = hvplot.sampledata.air_temperature(\"xarray\")"
   ]
  },
  {
   "cell_type": "markdown",
   "id": "e6ff304e",
   "metadata": {},
   "source": [
    ":::{note}\n",
    "`subplots=True` lays out plots sequentially and formats each plot independently, while grids arrange data into explicit rows and columns with shared axes.\n",
    ":::\n",
    "\n",
    "## Creating a simple row of plots\n",
    "\n",
    "Use the `col` parameter to create a horizontal row of plots:"
   ]
  },
  {
   "cell_type": "code",
   "execution_count": null,
   "id": "9d57c2ac",
   "metadata": {},
   "outputs": [],
   "source": [
    "penguins.hvplot.scatter(\n",
    "    x='bill_length_mm',\n",
    "    y='bill_depth_mm',\n",
    "    col='species',\n",
    ")"
   ]
  },
  {
   "cell_type": "markdown",
   "id": "e10b6e14",
   "metadata": {},
   "source": [
    "## Creating a 2D grid of plots\n",
    "\n",
    "Use both `row` and `col` parameters to create a 2D grid. This is powerful for exploring relationships across multiple categorical dimensions:"
   ]
  },
  {
   "cell_type": "code",
   "execution_count": null,
   "id": "92c00b59",
   "metadata": {},
   "outputs": [],
   "source": [
    "penguins.hvplot.scatter(\n",
    "    x='bill_length_mm',\n",
    "    y='bill_depth_mm',\n",
    "    row='sex',\n",
    "    col='species',\n",
    ")"
   ]
  },
  {
   "cell_type": "markdown",
   "id": "07363b2e",
   "metadata": {},
   "source": [
    "Notice how the axis ticks and labels are shared across the grid. This saves space and makes comparisons easier compared to individual subplots.\n",
    "\n",
    "## Working with gridded data\n",
    "\n",
    "Grids are particularly useful for multidimensional arrays. Let's use the air temperature dataset:"
   ]
  },
  {
   "cell_type": "code",
   "execution_count": null,
   "id": "190a86ce",
   "metadata": {},
   "outputs": [],
   "source": [
    "# Select a subset of time steps for visualization\n",
    "air_subset = air_temp.isel(time=[0, 1])\n",
    "\n",
    "air_subset.hvplot(col='time', cmap='viridis', frame_width=200)"
   ]
  },
  {
   "cell_type": "markdown",
   "id": "401833bc",
   "metadata": {},
   "source": [
    "## Customizing grid appearance\n",
    "\n",
    "You can disable axes entirely if they're not needed for your visualization:"
   ]
  },
  {
   "cell_type": "code",
   "execution_count": null,
   "id": "bf92fa87",
   "metadata": {},
   "outputs": [],
   "source": [
    "air_subset.hvplot(\n",
    "    col='time',\n",
    "    xaxis=False,\n",
    "    yaxis=False,\n",
    "    colorbar=False,\n",
    "    cmap='viridis',\n",
    "    frame_width=200,\n",
    ")"
   ]
  },
  {
   "cell_type": "markdown",
   "id": "dfbb510f",
   "metadata": {},
   "source": [
    "## Advanced grid layouts\n",
    "\n",
    "You can create more complex arrangements by combining multiple categorical variables:"
   ]
  },
  {
   "cell_type": "code",
   "execution_count": null,
   "id": "f98864f5",
   "metadata": {},
   "outputs": [],
   "source": [
    "penguins.hvplot.box(\n",
    "    y='body_mass_g',\n",
    "    by='species',\n",
    "    col='sex',\n",
    "    frame_width=200,\n",
    ")"
   ]
  },
  {
   "cell_type": "markdown",
   "id": "3a41958e",
   "metadata": {},
   "source": [
    "## Combining grid layouts with statistical plots\n",
    "\n",
    "Grids work well with various plot types, including statistical visualizations:"
   ]
  },
  {
   "cell_type": "code",
   "execution_count": null,
   "id": "c5636e09",
   "metadata": {},
   "outputs": [],
   "source": [
    "penguins.hvplot.hist(\n",
    "    y='flipper_length_mm',\n",
    "    by='species',\n",
    "    col='sex',\n",
    "    bins=15,\n",
    "    frame_width=200,\n",
    ")"
   ]
  },
  {
   "cell_type": "markdown",
   "id": "a5a52999",
   "metadata": {},
   "source": [
    ":::{admonition} Summary\n",
    "\n",
    "- Use `col` parameter to create a row of plots with shared axes\n",
    "- Use both `row` and `col` to create a 2D grid of plots\n",
    "- Grids automatically share axes across rows and columns for easy comparison\n",
    "- Use `xaxis=False` and `yaxis=False` to create cleaner visualizations when axes aren't needed\n",
    "- Grids work with any plot type and are particularly powerful for multidimensional data\n",
    "- Grid layouts save space and facilitate pattern recognition across multiple dimensions"
   ]
  }
 ],
 "metadata": {
  "language_info": {
   "name": "python",
   "pygments_lexer": "ipython3"
  }
 },
 "nbformat": 4,
 "nbformat_minor": 5
}
