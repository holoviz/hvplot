{
 "cells": [
  {
   "cell_type": "markdown",
   "id": "98c86d5c",
   "metadata": {},
   "source": [
    "# How to Load and Switch Plotting Extensions in hvPlot\n",
    "\n",
    "This guide shows how to load different plotting extensions in hvPlot and switch between them. hvPlot supports [Bokeh](https://docs.bokeh.org/) and [Matplotlib](https://matplotlib.org/) as backends for rendering plots."
   ]
  },
  {
   "cell_type": "markdown",
   "id": "108ed881",
   "metadata": {},
   "source": [
    "## Load hvPlot and a Sample Dataset\n",
    "\n",
    "We'll use the `penguins` dataset from the `hvsampledata` module for all examples."
   ]
  },
  {
   "cell_type": "code",
   "execution_count": null,
   "id": "563a019f",
   "metadata": {},
   "outputs": [],
   "source": [
    "import hvplot.pandas\n",
    "penguins = hvplot.sampledata.penguins('pandas').dropna()"
   ]
  },
  {
   "cell_type": "markdown",
   "id": "3bc21afb",
   "metadata": {},
   "source": [
    "## Load Matplotlib Extension\n",
    "\n",
    "By default, importing an accessor like `hvplot.pandas` loads the Bokeh extension. To use Matplotlib, call `hvplot.extension('matplotlib')`."
   ]
  },
  {
   "cell_type": "code",
   "execution_count": null,
   "id": "6b0d85de",
   "metadata": {},
   "outputs": [],
   "source": [
    "hvplot.extension('matplotlib')  # Loads Matplotlib (active) extension."
   ]
  },
  {
   "cell_type": "markdown",
   "id": "8ac4fdc9",
   "metadata": {},
   "source": [
    "## Plot with the Active Extension\n",
    "\n",
    "The following plot uses the currently active extension (Matplotlib):"
   ]
  },
  {
   "cell_type": "code",
   "execution_count": null,
   "id": "713ebc6f",
   "metadata": {},
   "outputs": [],
   "source": [
    "penguins.hvplot.scatter(x='bill_length_mm', y='bill_depth_mm', c='species', title='Penguins Bill Dimensions')"
   ]
  },
  {
   "cell_type": "markdown",
   "id": "8aaf2d90",
   "metadata": {},
   "source": [
    "## Switch Plotting Extension with `output()`\n",
    "\n",
    "You can switch the active backend using `hvplot.output(backend=...)`. Below, we switch between Matplotlib and Bokeh.\n",
    "\n",
    ":::{tip}\n",
    "The `extension` function could also be used to switch the plotting extension. You should however prefer `output` as any call to `extension` actually internally loads code in the output of the cell where it is executed, which can significantly increase the notebook size if `extension` is called in multiple cells.\n",
    ":::"
   ]
  },
  {
   "cell_type": "code",
   "execution_count": null,
   "id": "c30e2d57",
   "metadata": {},
   "outputs": [],
   "source": [
    "penguins.hvplot.scatter(x='bill_length_mm', y='bill_depth_mm', c='species', title='Penguins Bill Dimensions (Matplotlib)')"
   ]
  },
  {
   "cell_type": "markdown",
   "id": "06625de1",
   "metadata": {},
   "source": [
    "Switching to Bokeh is as simple as calling `hvplot.output(backend='bokeh')`:"
   ]
  },
  {
   "cell_type": "code",
   "execution_count": null,
   "id": "6873b401",
   "metadata": {},
   "outputs": [],
   "source": [
    "hvplot.output(backend='bokeh')\n",
    "penguins.hvplot.scatter(x='bill_length_mm', y='bill_depth_mm', c='species', title='Penguins Bill Dimensions (Bokeh)')"
   ]
  },
  {
   "cell_type": "markdown",
   "id": "80d0ad0b",
   "metadata": {},
   "source": [
    "You can load multiple plotting extensions in hvPlot and switch between them using `hvplot.output()`. This allows you to choose the best backend for your visualization needs.\n",
    "\n",
    ":::{seealso}\n",
    "[Styling plots with backend specific option](./style_plots_by_backend.ipynb)\n",
    ":::"
   ]
  }
 ],
 "metadata": {
  "language_info": {
   "name": "python",
   "pygments_lexer": "ipython3"
  }
 },
 "nbformat": 4,
 "nbformat_minor": 5
}
