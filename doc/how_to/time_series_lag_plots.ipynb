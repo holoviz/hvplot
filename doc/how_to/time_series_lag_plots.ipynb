{
 "cells": [
  {
   "cell_type": "markdown",
   "id": "56329d5f",
   "metadata": {},
   "source": [
    "# How to Analyze Time Series Relationships with Lag Plots\n",
    "\n",
    "Lag plots help you analyze temporal relationships in time series data by comparing values at different time intervals. This guide shows you how to use hvPlot's `lag_plot()` function to identify patterns, volatility, and autocorrelation in your time series data."
   ]
  },
  {
   "cell_type": "markdown",
   "id": "b8ab7520",
   "metadata": {},
   "source": [
    "## Setup\n",
    "\n",
    "Import hvplot and load time series data:"
   ]
  },
  {
   "cell_type": "code",
   "execution_count": null,
   "id": "bf17f07f",
   "metadata": {},
   "outputs": [],
   "source": [
    "import hvplot.pandas  # noqa\n",
    "\n",
    "stocks = hvplot.sampledata.stocks(\"pandas\", engine_kwargs={\"index_col\": \"date\"})\n",
    "stocks.head(2)"
   ]
  },
  {
   "cell_type": "markdown",
   "id": "b409471b",
   "metadata": {},
   "source": [
    "## Basic Lag Plot\n",
    "\n",
    "Create a lag plot to compare stock prices with a 30-day lag:"
   ]
  },
  {
   "cell_type": "code",
   "execution_count": null,
   "id": "764ab191",
   "metadata": {},
   "outputs": [],
   "source": [
    "hvplot.lag_plot(stocks, lag=30, alpha=0.5)"
   ]
  },
  {
   "cell_type": "markdown",
   "id": "b89f838d",
   "metadata": {},
   "source": [
    "## Comparing Multiple Series\n",
    "\n",
    "Compare different stocks to see which shows more volatility:"
   ]
  },
  {
   "cell_type": "code",
   "execution_count": null,
   "id": "aa5409da",
   "metadata": {},
   "outputs": [],
   "source": [
    "selected_stocks = stocks[['Google', 'Microsoft']]\n",
    "\n",
    "lag_plot = hvplot.lag_plot(selected_stocks, lag=90, alpha=0.6, frame_width=400)\n",
    "lag_plot"
   ]
  },
  {
   "cell_type": "markdown",
   "id": "8f6751aa",
   "metadata": {},
   "source": [
    "## Interpreting Results\n",
    "\n",
    "Compare the lag plot with a simple line chart to understand the patterns:"
   ]
  },
  {
   "cell_type": "code",
   "execution_count": null,
   "id": "b852e4cc",
   "metadata": {},
   "outputs": [],
   "source": [
    "line_plot = selected_stocks.hvplot.line(title=\"Stock Prices Over Time\", frame_width=400, alpha=0.6)\n",
    "\n",
    "(line_plot + lag_plot).cols(1)"
   ]
  },
  {
   "cell_type": "markdown",
   "id": "cf194661",
   "metadata": {},
   "source": [
    ":::{admonition} Next Steps\n",
    ":class: seealso\n",
    "\n",
    "- See the [explanation guide](../explanation/statistical_plot_types.ipynb) to understand what lag plots reveal about your data\n",
    "- Check the [reference documentation](../ref/api/index.md) for complete parameter options\n",
    "- For multivariate analysis, see [how to visualize multivariate data](multivariate_statistical_plots.ipynb)"
   ]
  }
 ],
 "metadata": {
  "language_info": {
   "name": "python",
   "pygments_lexer": "ipython3"
  }
 },
 "nbformat": 4,
 "nbformat_minor": 5
}
