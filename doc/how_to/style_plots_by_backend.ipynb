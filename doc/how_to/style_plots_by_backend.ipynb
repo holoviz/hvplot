{
 "cells": [
  {
   "cell_type": "markdown",
   "id": "c08e6804",
   "metadata": {},
   "source": [
    "# How to Style Plots by Backend in hvPlot\n",
    "\n",
    "This guide shows how to apply styling options to hvPlot visualizations, depending on the active backend (Bokeh or Matplotlib)."
   ]
  },
  {
   "cell_type": "markdown",
   "id": "88d73acc",
   "metadata": {},
   "source": [
    "## Load hvPlot and the Penguins Dataset\n",
    "\n",
    "We'll use the `stocks` dataset from the `hvsampledata` module for all examples."
   ]
  },
  {
   "cell_type": "code",
   "execution_count": null,
   "id": "67ad8f16-a89f-481e-902e-da69cc29c59c",
   "metadata": {
    "tags": [
     "remove-cell"
    ]
   },
   "outputs": [],
   "source": [
    "import warnings\n",
    "warnings.filterwarnings(\"ignore\", message=\"linestyle is redundantly defined\")"
   ]
  },
  {
   "cell_type": "code",
   "execution_count": null,
   "id": "eb44e804",
   "metadata": {},
   "outputs": [],
   "source": [
    "import hvplot.pandas\n",
    "hvplot.extension('matplotlib'\n",
    "                )\n",
    "stocks = hvplot.sampledata.stocks('pandas')\n",
    "stocks.head(2)"
   ]
  },
  {
   "cell_type": "markdown",
   "id": "36aaaa37-f9c1-49b5-aa19-fdfe8b6bbd3c",
   "metadata": {},
   "source": [
    "## Backend-specific styling options\n",
    "\n",
    "```{eval-rst}\n",
    ".. backend-styling-options:: line\n",
    "```"
   ]
  },
  {
   "cell_type": "markdown",
   "id": "5a340106",
   "metadata": {},
   "source": [
    "## Style Plots with Bokeh Options\n",
    "\n",
    "By default, hvPlot uses Bokeh as the backend. You can use Bokeh-specific styling options, such as `line_dash`."
   ]
  },
  {
   "cell_type": "code",
   "execution_count": null,
   "id": "ce95554c",
   "metadata": {},
   "outputs": [],
   "source": [
    "hvplot.output(backend='bokeh')\n",
    "stocks.hvplot.line(x='date', line_dash='dashed')"
   ]
  },
  {
   "cell_type": "markdown",
   "id": "2746150c",
   "metadata": {},
   "source": [
    "## Style Plots with Matplotlib Options\n",
    "\n",
    "When using Matplotlib as the backend, use Matplotlib-specific options, such as `linestyle`."
   ]
  },
  {
   "cell_type": "code",
   "execution_count": null,
   "id": "a5b92dcd",
   "metadata": {},
   "outputs": [],
   "source": [
    "hvplot.output(backend='matplotlib')\n",
    "stocks.hvplot.line(x='date', linestyle='dashed', rot=45)"
   ]
  },
  {
   "cell_type": "markdown",
   "id": "b2c8c515",
   "metadata": {},
   "source": [
    "## Use Bokeh Compatibility Mode with Matplotlib\n",
    "\n",
    "You can use Bokeh-style options with Matplotlib by enabling compatibility mode. This is useful for reusing code or notebooks originally written for Bokeh."
   ]
  },
  {
   "cell_type": "code",
   "execution_count": null,
   "id": "a2b619a3",
   "metadata": {},
   "outputs": [],
   "source": [
    "hvplot.extension('matplotlib', compatibility='bokeh')\n",
    "stocks_line = stocks.hvplot.line(\n",
    "    x='date',\n",
    "    line_dash='dashed',\n",
    "    title='Dashed Line - Matplotlib (Bokeh compatibility)',\n",
    "    rot=45\n",
    ")\n",
    "stocks_line"
   ]
  },
  {
   "cell_type": "markdown",
   "id": "45656359",
   "metadata": {},
   "source": [
    "You can inspect the options applied to the plot object to see how Bokeh options are mapped to Matplotlib options:"
   ]
  },
  {
   "cell_type": "code",
   "execution_count": null,
   "id": "23261e95",
   "metadata": {},
   "outputs": [],
   "source": [
    "stocks_line.opts.info()"
   ]
  },
  {
   "cell_type": "markdown",
   "id": "5f6b8b46",
   "metadata": {},
   "source": [
    "Use backend-specific styling options for hvPlot visualizations, or enable compatibility mode to reuse Bokeh options with Matplotlib."
   ]
  }
 ],
 "metadata": {
  "language_info": {
   "name": "python",
   "pygments_lexer": "ipython3"
  }
 },
 "nbformat": 4,
 "nbformat_minor": 5
}
