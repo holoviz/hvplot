{
 "cells": [
  {
   "cell_type": "markdown",
   "id": "23258cf2",
   "metadata": {},
   "source": [
    "# How to Create Basic Subplots\n",
    "\n",
    "This guide shows you how to split your data into separate subplots instead of overlaying them on a single axis. This is useful when you want to compare multiple variables or categories side by side.\n",
    "\n",
    "## When to use subplots\n",
    "\n",
    "Use subplots when:\n",
    "- You want to compare multiple variables with different scales\n",
    "- You need to avoid visual clutter from overlapping lines or points\n",
    "- You want to highlight patterns in individual variables\n",
    "\n",
    "## Setup\n",
    "\n",
    "First, let's load some sample datasets from the `hvsampledata` module:"
   ]
  },
  {
   "cell_type": "code",
   "execution_count": null,
   "id": "27271ae7",
   "metadata": {},
   "outputs": [],
   "source": [
    "import hvplot.pandas  # noqa\n",
    "\n",
    "stocks = hvplot.sampledata.stocks(\"pandas\")\n",
    "penguins = hvplot.sampledata.penguins(\"pandas\").dropna()"
   ]
  },
  {
   "cell_type": "markdown",
   "id": "78b0c591",
   "metadata": {},
   "source": [
    "## Default behavior: Overlaid plots\n",
    "\n",
    "By default, hvPlot overlays multiple columns onto one axis for easy comparison:"
   ]
  },
  {
   "cell_type": "code",
   "execution_count": null,
   "id": "eecbe872",
   "metadata": {},
   "outputs": [],
   "source": [
    "stocks.hvplot(x='date', value_label='Stock Price', title='Relative Stock Prices')"
   ]
  },
  {
   "cell_type": "markdown",
   "id": "6c1e32ef",
   "metadata": {},
   "source": [
    "## Creating subplots with subplots=True\n",
    "\n",
    "To split each column into its own separate plot, set `subplots=True`:"
   ]
  },
  {
   "cell_type": "code",
   "execution_count": null,
   "id": "9183b5c8",
   "metadata": {},
   "outputs": [],
   "source": [
    "stocks.hvplot(\n",
    "    x='date',\n",
    "    value_label='Stock Price',\n",
    "    subplots=True,\n",
    "    width=250,\n",
    "    height=200,\n",
    ").cols(3)"
   ]
  },
  {
   "cell_type": "markdown",
   "id": "1415cdb5",
   "metadata": {},
   "source": [
    "## Controlling axis sharing\n",
    "\n",
    "By default, subplots have linked, normalized axes to facilitate comparison. You can pan or zoom in any plot to see how the others change.\n",
    "\n",
    "However, if your data covers widely different numerical ranges, use `shared_axes=False` to give each plot its own range:"
   ]
  },
  {
   "cell_type": "code",
   "execution_count": null,
   "id": "651df41d",
   "metadata": {},
   "outputs": [],
   "source": [
    "penguin_cols = penguins[\n",
    "    ['bill_length_mm', 'bill_depth_mm', 'flipper_length_mm', 'body_mass_g']\n",
    "    ]\n",
    "\n",
    "penguin_cols.hvplot(\n",
    "    kind='hist',\n",
    "    subplots=True,\n",
    "    shared_axes=False,\n",
    "    frame_height=200,\n",
    "    aspect='square',\n",
    "    alpha=0.7\n",
    ").cols(2)"
   ]
  },
  {
   "cell_type": "markdown",
   "id": "7dcbb62a",
   "metadata": {},
   "source": [
    "Notice how each histogram has its own appropriate scale, making it easier to see the distribution patterns.\n",
    "\n",
    ":::{tip}\n",
    "Use `.cols(n)` to specify how many plots per row before wrapping to the next line\n",
    ":::"
   ]
  },
  {
   "cell_type": "markdown",
   "id": "63a4539d",
   "metadata": {},
   "source": [
    "## Using subplots with grouping (`by` parameter)\n",
    "\n",
    "You can combine `subplots=True` with the `by` keyword to create separate plots for each group:"
   ]
  },
  {
   "cell_type": "code",
   "execution_count": null,
   "id": "8ce5b1b2",
   "metadata": {},
   "outputs": [],
   "source": [
    "# Create subplots by species\n",
    "penguins.hvplot.scatter(\n",
    "    x='bill_length_mm',\n",
    "    y='bill_depth_mm',\n",
    "    by='species',\n",
    "    subplots=True,\n",
    "    width=250,\n",
    "    height=200,\n",
    ")"
   ]
  },
  {
   "cell_type": "markdown",
   "id": "831403fd",
   "metadata": {},
   "source": [
    ":::{admonition} Summary\n",
    "\n",
    "- Use `subplots=True` to create separate plots instead of overlaying them\n",
    "- Use `shared_axes=False` when your data has very different scales\n",
    "- Subplots with shared axes allow linked panning and zooming for easy comparison\n",
    "- Use `.cols(n)` to control the layout and number of plots per row\n",
    "- Combine with `by` parameter to create subplots for different groups\n",
    ":::"
   ]
  }
 ],
 "metadata": {
  "language_info": {
   "name": "python",
   "pygments_lexer": "ipython3"
  }
 },
 "nbformat": 4,
 "nbformat_minor": 5
}
