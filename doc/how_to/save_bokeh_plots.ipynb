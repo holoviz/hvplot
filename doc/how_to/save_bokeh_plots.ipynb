{
 "cells": [
  {
   "cell_type": "markdown",
   "id": "d3667843",
   "metadata": {},
   "source": [
    "# How to Save Interactive Bokeh Plots\n",
    "\n",
    "This guide shows you how to export hvPlot visualizations using the Bokeh backend to various file formats, with a focus on interactive HTML exports and static PNG images."
   ]
  },
  {
   "cell_type": "markdown",
   "id": "5cd5a9f8",
   "metadata": {},
   "source": [
    "## Setup\n",
    "\n",
    "First, let's set up hvPlot with the default Bokeh backend and create a sample plot:"
   ]
  },
  {
   "cell_type": "code",
   "execution_count": null,
   "id": "9979426d",
   "metadata": {},
   "outputs": [],
   "source": [
    "import hvplot.pandas # noqa\n",
    "\n",
    "penguins = hvplot.sampledata.penguins(\"pandas\").dropna()\n",
    "\n",
    "plot = penguins.hvplot.scatter(\n",
    "    x='bill_length_mm',\n",
    "    y='bill_depth_mm',\n",
    "    color='species',\n",
    "    title=\"Penguin Bill Dimensions\"\n",
    ")\n",
    "\n",
    "plot"
   ]
  },
  {
   "cell_type": "markdown",
   "id": "6cc859c2",
   "metadata": {},
   "source": [
    "## HTML Export (Recommended)\n",
    "\n",
    "The primary strength of Bokeh plots is their interactivity. HTML export preserves all interactive features like zooming, panning, and hover tooltips:"
   ]
  },
  {
   "cell_type": "code",
   "execution_count": null,
   "id": "ebd7e190",
   "metadata": {},
   "outputs": [],
   "source": [
    "hvplot.save(plot, 'penguins_bokeh.html')\n",
    "print(\"Interactive HTML plot saved as 'penguins_bokeh.html'\")"
   ]
  },
  {
   "cell_type": "markdown",
   "id": "e41cd8e0",
   "metadata": {},
   "source": [
    "## HTML with Inline Resources\n",
    "\n",
    "By default, HTML files depend on loading JavaScript from online CDN repositories. For offline or airgapped environments, use inline resources:"
   ]
  },
  {
   "cell_type": "code",
   "execution_count": null,
   "id": "3e50cecd",
   "metadata": {},
   "outputs": [],
   "source": [
    "hvplot.save(plot, 'penguins_offline.html', resources='inline')\n",
    "print(\"Self-contained HTML plot saved as 'penguins_offline.html'\")"
   ]
  },
  {
   "cell_type": "markdown",
   "id": "03308dda",
   "metadata": {},
   "source": [
    "## PNG Export\n",
    "\n",
    "For static images, Bokeh can export to PNG, but this requires additional browser driver dependencies."
   ]
  },
  {
   "cell_type": "markdown",
   "id": "1e9d4450",
   "metadata": {},
   "source": [
    "### Installing PNG Export Dependencies\n",
    "\n",
    "Choose one of these options:\n",
    "\n",
    "**Option 1: Chrome/Chromium (Recommended)**\n",
    "\n",
    "Install Chrome or Chromium browser first, then install the Python package.\n",
    "\n",
    "```bash\n",
    "pip install selenium chromedriver-autoinstaller\n",
    "```\n",
    "\n",
    "**Option 2: Firefox**\n",
    "\n",
    "Install Firefox browser first, then install geckodriver.\n",
    "```bash\n",
    "pip install selenium\n",
    "```\n",
    "Download geckodriver from the official [GitHub releases page](https://github.com/mozilla/geckodriver), then add geckodriver to your PATH\n",
    "\n",
    "**Option 3: Using conda**\n",
    "```bash\n",
    "conda install selenium\n",
    "```\n",
    "\n",
    "\n",
    ":::{tip}\n",
    "For help adding geckodriver to your PATH:\n",
    "- **Windows:**\n",
    "  - Place `geckodriver.exe` in a folder (e.g., `C:\\\\tools\\\\geckodriver`)\n",
    "  - Add that folder to your System PATH:\n",
    "    - _System Properties_ > _Environment Variables_.\n",
    "    - Edit the Path variable and add the folder path.\n",
    "- **macOS/Linux:**\n",
    "  - Move the `geckodriver` binary to `/usr/local/bin` or another directory already in your PATH.\n",
    "  - Alternatively, update your PATH manually in your shell config (e.g., `export PATH=\"$PATH:/path/to/geckodriver\"`)\n",
    "\n",
    "If unsure, consult your operating system documentation for instructions on modifying the PATH environment variable.\n",
    ":::"
   ]
  },
  {
   "cell_type": "markdown",
   "id": "5b1c82dc",
   "metadata": {},
   "source": [
    "### Saving PNG Files\n",
    "\n",
    "Once dependencies are installed:"
   ]
  },
  {
   "cell_type": "code",
   "execution_count": null,
   "id": "2d9a4667",
   "metadata": {},
   "outputs": [],
   "source": [
    "try:\n",
    "    hvplot.save(plot, 'penguins_bokeh.png')\n",
    "    print(\"PNG saved successfully as 'penguins_bokeh.png'\")\n",
    "except Exception as e:\n",
    "    print(f\"PNG export failed: {e}\")\n",
    "    print(\"Make sure you have selenium and a browser driver installed.\")"
   ]
  },
  {
   "cell_type": "markdown",
   "id": "e869e235",
   "metadata": {},
   "source": [
    ":::{note}\n",
    "This will only work if you have selenium and a browser driver installed\n",
    ":::"
   ]
  },
  {
   "cell_type": "markdown",
   "id": "e36e5455",
   "metadata": {},
   "source": [
    "### High-Resolution PNG Export\n",
    "\n",
    "For presentations or print, you may want higher resolution images:"
   ]
  },
  {
   "cell_type": "code",
   "execution_count": null,
   "id": "82961f10",
   "metadata": {},
   "outputs": [],
   "source": [
    "high_res_plot = penguins.hvplot.scatter(\n",
    "    x='bill_length_mm',\n",
    "    y='bill_depth_mm',\n",
    "    width=1200,\n",
    "    height=800,\n",
    "    color='species',\n",
    "    title=\"High-Resolution Penguin Plot\"\n",
    ")\n",
    "\n",
    "high_res_plot"
   ]
  },
  {
   "cell_type": "code",
   "execution_count": null,
   "id": "f5162834",
   "metadata": {},
   "outputs": [],
   "source": [
    "try:\n",
    "    hvplot.save(high_res_plot, 'penguins_high_res.png')\n",
    "    print(\"High-resolution PNG saved\")\n",
    "except Exception as e:\n",
    "    print(f\"PNG export failed: {e}\")"
   ]
  },
  {
   "cell_type": "markdown",
   "id": "86012fc5",
   "metadata": {},
   "source": [
    "## Batch Saving Multiple Plots\n",
    "\n",
    "You can efficiently save multiple interactive plots:"
   ]
  },
  {
   "cell_type": "code",
   "execution_count": null,
   "id": "88b92170",
   "metadata": {},
   "outputs": [],
   "source": [
    "plots = {\n",
    "    'scatter': penguins.hvplot.scatter(x='bill_length_mm', y='bill_depth_mm', color='species', width=400),\n",
    "    'histogram': penguins.hvplot.hist('body_mass_g', by='species', alpha=0.7, width=400),\n",
    "    'box': penguins.hvplot.box(y='flipper_length_mm', by='species', width=400),\n",
    "}\n",
    "\n",
    "# Display the plots\n",
    "(plots['scatter'] + plots['histogram'] + plots['box']).cols(2)"
   ]
  },
  {
   "cell_type": "code",
   "execution_count": null,
   "id": "cb0f717b",
   "metadata": {},
   "outputs": [],
   "source": [
    "for name, plot in plots.items():\n",
    "    # Save interactive HTML\n",
    "    hvplot.save(plot, f'{name}_bokeh.html')\n",
    "    print(f\"Saved {name}_bokeh.html\")\n",
    "\n",
    "    # Try PNG export\n",
    "    try:\n",
    "        hvplot.save(plot, f'{name}_bokeh.png')\n",
    "        print(f\"Saved {name}_bokeh.png\")\n",
    "    except Exception as e:\n",
    "        print(f\"PNG export failed for {name}: {e}\")"
   ]
  },
  {
   "cell_type": "markdown",
   "id": "60f34a01",
   "metadata": {},
   "source": [
    "## Testing PNG Export Setup\n",
    "\n",
    "Here's how to test if your PNG export setup is working:"
   ]
  },
  {
   "cell_type": "code",
   "execution_count": null,
   "id": "b2d327f6",
   "metadata": {},
   "outputs": [],
   "source": [
    "# Test if selenium can find your browser\n",
    "try:\n",
    "    from selenium import webdriver\n",
    "    from selenium.webdriver.chrome.options import Options\n",
    "\n",
    "    # Test Chrome\n",
    "    chrome_options = Options()\n",
    "    chrome_options.add_argument(\"--headless\")  # Run in background\n",
    "    driver = webdriver.Chrome(options=chrome_options)\n",
    "    driver.quit()\n",
    "    print(\"✓ Chrome driver is working\")\n",
    "\n",
    "except Exception as e:\n",
    "    print(f\"✗ Chrome driver issue: {e}\")\n",
    "\n",
    "    # Try Firefox as fallback\n",
    "    try:\n",
    "        from selenium.webdriver.firefox.options import Options as FirefoxOptions\n",
    "        firefox_options = FirefoxOptions()\n",
    "        firefox_options.add_argument(\"--headless\")\n",
    "        driver = webdriver.Firefox(options=firefox_options)\n",
    "        driver.quit()\n",
    "        print(\"✓ Firefox driver is working\")\n",
    "    except Exception as e2:\n",
    "        print(f\"✗ Firefox driver issue: {e2}\")\n",
    "        print(\"Consider installing browser drivers or using matplotlib backend for PNG export\")"
   ]
  },
  {
   "cell_type": "markdown",
   "id": "44dbf404",
   "metadata": {},
   "source": [
    "## Working with Large Datasets\n",
    "\n",
    "For very large datasets, consider using datashader for efficient rendering:"
   ]
  },
  {
   "cell_type": "code",
   "execution_count": null,
   "id": "f6aca1b0",
   "metadata": {},
   "outputs": [],
   "source": [
    "large_data = hvplot.sampledata.synthetic_clusters(\"pandas\")\n",
    "print(f\"Dataset size: {len(large_data):,} points\")"
   ]
  },
  {
   "cell_type": "code",
   "execution_count": null,
   "id": "14276034",
   "metadata": {},
   "outputs": [],
   "source": [
    "datashaded_plot = large_data.hvplot.scatter(\n",
    "    x='x',\n",
    "    y='y',\n",
    "    by='cat',\n",
    "    datashade=True,\n",
    "    width=400,\n",
    "    height=400,\n",
    "    title=\"Large Dataset with Datashader\"\n",
    ")\n",
    "\n",
    "datashaded_plot"
   ]
  },
  {
   "cell_type": "code",
   "execution_count": null,
   "id": "fcad710e",
   "metadata": {},
   "outputs": [],
   "source": [
    "hvplot.save(datashaded_plot, 'large_dataset_bokeh.html')\n",
    "print(\"Large dataset plot saved successfully\")"
   ]
  },
  {
   "cell_type": "markdown",
   "id": "71a6cd15",
   "metadata": {},
   "source": [
    "## Cleanup\n",
    "\n",
    "Let's clean up the files we created during this demonstration:"
   ]
  },
  {
   "cell_type": "code",
   "execution_count": null,
   "id": "1b66bfd6",
   "metadata": {},
   "outputs": [],
   "source": [
    "from pathlib import Path\n",
    "\n",
    "files_to_clean = [\n",
    "    'penguins_bokeh.html', 'penguins_offline.html', 'penguins_bokeh.png',\n",
    "    'penguins_high_res.png',\n",
    "    'scatter_bokeh.html', 'histogram_bokeh.html', 'box_bokeh.html',\n",
    "    'scatter_bokeh.png', 'histogram_bokeh.png', 'box_bokeh.png',\n",
    "    'large_dataset_bokeh.html'\n",
    "]\n",
    "\n",
    "for filename in files_to_clean:\n",
    "    file_path = Path(filename)\n",
    "    if file_path.exists():\n",
    "        file_path.unlink()\n",
    "        print(f\"Removed {filename}\")\n",
    "    else:\n",
    "        print(f\"{filename} not found\")"
   ]
  },
  {
   "cell_type": "markdown",
   "id": "25125417",
   "metadata": {},
   "source": [
    "## Best Practices for Bokeh Plots\n",
    "\n",
    "1. **Prioritize HTML export**: Bokeh's strength is interactivity, so HTML should be your primary export format\n",
    "\n",
    "2. **Use inline resources for offline sharing**: Include `resources=INLINE` when sharing files that won't have internet access\n",
    "\n",
    "3. **Test PNG export setup**: Always verify your selenium and browser driver installation\n",
    "\n",
    "4. **Consider file sizes**: Interactive HTML files can be large for complex plots, but preserve all functionality\n",
    "\n",
    "5. **Handle large datasets**: Use `datashade=True` or `rasterize=True` for datasets with many points\n",
    "\n",
    "6. **Optimize for your use case**:\n",
    "   - **Web embedding**: HTML with CDN resources (default)\n",
    "   - **Offline sharing**: HTML with inline resources\n",
    "   - **Presentations/documents**: PNG (requires browser driver)\n",
    "   - **Email attachments**: PNG (smaller, universally viewable)\n",
    "\n",
    ":::{seealso}\n",
    "- Learn about [saving matplotlib plots](save_matplotlib_plots.ipynb) for publication-quality static images\n",
    "- Explore [using Panel for advanced layouts and interactivity](use_panel_for_display.ipynb)\n",
    ":::"
   ]
  }
 ],
 "metadata": {
  "language_info": {
   "name": "python",
   "pygments_lexer": "ipython3"
  }
 },
 "nbformat": 4,
 "nbformat_minor": 5
}
