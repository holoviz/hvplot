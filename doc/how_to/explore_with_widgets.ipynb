{
 "cells": [
  {
   "cell_type": "markdown",
   "id": "770e0358",
   "metadata": {},
   "source": [
    "# How to Explore Multidimensional Datasets with Widgets\n",
    "\n",
    "This guide shows you how to use hvPlot's automatic widget creation to interactively explore datasets with multiple dimensions. When you use the `groupby` parameter, hvPlot automatically creates widgets that let you filter and explore your data dynamically."
   ]
  },
  {
   "cell_type": "markdown",
   "id": "a30afa69",
   "metadata": {},
   "source": [
    ":::{note}\n",
    "  When viewing on a static website, the widgets will be inoperable. To explore this functionality fully, download the notebook and run it in a live python environment.\n",
    ":::"
   ]
  },
  {
   "cell_type": "code",
   "execution_count": null,
   "id": "f241bf4d",
   "metadata": {},
   "outputs": [],
   "source": [
    "import hvplot.pandas  # noqa\n",
    "\n",
    "penguins = hvplot.sampledata.penguins(\"pandas\").dropna()"
   ]
  },
  {
   "cell_type": "markdown",
   "id": "a1a16b3c",
   "metadata": {},
   "source": [
    "## Basic Widget Creation with groupby\n",
    "\n",
    "When you use `groupby`, hvPlot automatically selects the appropriate widget type based on your data. For categorical data like the 'species' column (composed of strings), hvPlot creates a Select widget."
   ]
  },
  {
   "cell_type": "code",
   "execution_count": null,
   "id": "ee6a096e",
   "metadata": {},
   "outputs": [],
   "source": [
    "penguins.hvplot.scatter(\n",
    "    x='bill_length_mm',\n",
    "    y='bill_depth_mm',\n",
    "    groupby='species',\n",
    "    width=400\n",
    ")"
   ]
  },
  {
   "cell_type": "markdown",
   "id": "ab1368b8",
   "metadata": {},
   "source": [
    "## Customizing Widget Placement\n",
    "\n",
    "You can control where the widget appears using the `widget_location` option. This is useful for creating layouts that work better with your specific visualization needs."
   ]
  },
  {
   "cell_type": "code",
   "execution_count": null,
   "id": "86fe3e21",
   "metadata": {},
   "outputs": [],
   "source": [
    "penguins.hvplot.scatter(\n",
    "    x='bill_length_mm',\n",
    "    y='bill_depth_mm',\n",
    "    groupby='species',\n",
    "    widget_location='top_left'\n",
    ")"
   ]
  },
  {
   "cell_type": "markdown",
   "id": "19ed72ac",
   "metadata": {},
   "source": [
    "## Changing Widget Types\n",
    "\n",
    "You can customize which widget class to use through the `widgets` parameter. For example, you might prefer a slider instead of a dropdown selector for better user experience."
   ]
  },
  {
   "cell_type": "code",
   "execution_count": null,
   "id": "cc423294",
   "metadata": {},
   "outputs": [],
   "source": [
    "import panel as pn\n",
    "\n",
    "penguins.hvplot.scatter(\n",
    "    x='bill_length_mm',\n",
    "    y='bill_depth_mm',\n",
    "    groupby='species',\n",
    "    widgets={'species': pn.widgets.DiscreteSlider},\n",
    "    widget_location='top_left',\n",
    ")"
   ]
  },
  {
   "cell_type": "markdown",
   "id": "3300b323",
   "metadata": {},
   "source": [
    "## Exploring Multiple Dimensions\n",
    "\n",
    "The penguins dataset has several categorical dimensions you can explore. Try grouping by different variables to discover patterns in the data:\n",
    "\n",
    "### Group by Island"
   ]
  },
  {
   "cell_type": "code",
   "execution_count": null,
   "id": "530888e6",
   "metadata": {},
   "outputs": [],
   "source": [
    "penguins.hvplot.scatter(\n",
    "    x='flipper_length_mm',\n",
    "    y='body_mass_g',\n",
    "    groupby='island',\n",
    "    width=400,\n",
    ")"
   ]
  },
  {
   "cell_type": "markdown",
   "id": "4c2b848c",
   "metadata": {},
   "source": [
    "### Group by Sex\n",
    "\n",
    "You can also explore differences between male and female penguins:"
   ]
  },
  {
   "cell_type": "code",
   "execution_count": null,
   "id": "35bbf39a",
   "metadata": {},
   "outputs": [],
   "source": [
    "penguins.hvplot.scatter(\n",
    "    x='bill_length_mm',\n",
    "    y='flipper_length_mm',\n",
    "    groupby='sex',\n",
    "    color='species',\n",
    "    width=400,\n",
    ")"
   ]
  },
  {
   "cell_type": "markdown",
   "id": "462915a5-3a79-4792-811c-f4df6eb59825",
   "metadata": {},
   "source": [
    ":::{admonition} Next Steps\n",
    ":class: seealso\n",
    "\n",
    "- For more advanced widget customization using Panel, see the [Panel Widgets Reference](../ref/api_compatibility/panel_widgets.ipynb)\n",
    "- To understand the differences between `groupby`, `by`, and `color` parameters, see the [Grouping and Coloring Options Explanation](../explanation/grouping_options.ipynb)\n",
    ":::"
   ]
  }
 ],
 "metadata": {
  "language_info": {
   "name": "python",
   "pygments_lexer": "ipython3"
  }
 },
 "nbformat": 4,
 "nbformat_minor": 5
}
