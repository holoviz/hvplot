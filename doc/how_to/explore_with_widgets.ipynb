{
 "cells": [
  {
   "cell_type": "markdown",
   "id": "770e0358",
   "metadata": {},
   "source": [
    "# How to Explore Multidimensional Datasets with Widgets\n",
    "\n",
    "This guide shows you how to use hvPlot's automatic widget creation to interactively explore datasets with multiple dimensions. When you use the `groupby` parameter, hvPlot automatically creates widgets that let you drill-down into and explore your data dynamically."
   ]
  },
  {
   "cell_type": "markdown",
   "id": "a30afa69",
   "metadata": {},
   "source": [
    ":::{note}\n",
    "When viewing on a static website, the widgets will be inoperable. To explore this functionality fully, download the notebook and run it in a live python environment.\n",
    ":::"
   ]
  },
  {
   "cell_type": "markdown",
   "id": "a1a16b3c",
   "metadata": {},
   "source": [
    "## Basic Widget Creation with groupby\n",
    "\n",
    "When you use [`groupby`](option-groupby), hvPlot automatically selects the appropriate widget type based on your data. For categorical data like the 'species' column (composed of strings), hvPlot creates a drop-down menu (from a [Panel Select widget](https://panel.holoviz.org/reference/widgets/Select.html))."
   ]
  },
  {
   "cell_type": "code",
   "execution_count": null,
   "id": "ee6a096e",
   "metadata": {},
   "outputs": [],
   "source": [
    "import hvplot.pandas  # noqa\n",
    "\n",
    "penguins = hvplot.sampledata.penguins(\"pandas\").dropna()\n",
    "penguins.hvplot.scatter(\n",
    "    x='bill_length_mm',\n",
    "    y='bill_depth_mm',\n",
    "    groupby='species',\n",
    "    width=400\n",
    ")"
   ]
  },
  {
   "cell_type": "markdown",
   "id": "ee650c0d",
   "metadata": {},
   "source": [
    "### Widget Types for Different Data Types\n",
    "\n",
    "hvPlot automatically chooses the appropriate widget type based on your data:\n",
    "\n",
    "- **Categorical/String data** → Drop-down Select widget (as shown above)\n",
    "- **Numerical data** → [IntSlider widget](https://panel.holoviz.org/reference/widgets/IntSlider.html) for continuous exploration\n",
    "- **Datetime data** → [DatetimeSlider widget](https://panel.holoviz.org/reference/widgets/DatetimeSlider.html) for temporal exploration\n",
    "\n",
    "For numerical columns like `year`, hvPlot creates a slider widget that lets you explore different values from the different years."
   ]
  },
  {
   "cell_type": "code",
   "execution_count": null,
   "id": "495f9a91",
   "metadata": {},
   "outputs": [],
   "source": [
    "import hvplot.pandas  # noqa\n",
    "\n",
    "penguins = hvplot.sampledata.penguins(\"pandas\").dropna()\n",
    "penguins.hvplot.scatter(\n",
    "    x='bill_length_mm',\n",
    "    y='bill_depth_mm',\n",
    "    groupby='year',\n",
    "    color='species',\n",
    "    width=400\n",
    ")"
   ]
  },
  {
   "cell_type": "markdown",
   "id": "ab1368b8",
   "metadata": {},
   "source": [
    "## Customizing Widget Placement\n",
    "\n",
    "You can control where the widget appears using the [`widget_location`](option-widget_location) option. This is useful for creating layouts that work better with your specific visualization needs."
   ]
  },
  {
   "cell_type": "code",
   "execution_count": null,
   "id": "86fe3e21",
   "metadata": {},
   "outputs": [],
   "source": [
    "import hvplot.pandas  # noqa\n",
    "\n",
    "penguins = hvplot.sampledata.penguins(\"pandas\").dropna()\n",
    "penguins.hvplot.scatter(\n",
    "    x='bill_length_mm',\n",
    "    y='bill_depth_mm',\n",
    "    groupby='species',\n",
    "    widget_location='top_left'\n",
    ")"
   ]
  },
  {
   "cell_type": "markdown",
   "id": "3300b323",
   "metadata": {},
   "source": [
    "## Exploring Multiple Dimensions\n",
    "\n",
    "The penguins dataset has several categorical dimensions you can explore. We can group by multiple dimensions at once to explore different combinations of the data:"
   ]
  },
  {
   "cell_type": "code",
   "execution_count": null,
   "id": "530888e6",
   "metadata": {},
   "outputs": [],
   "source": [
    "import hvplot.pandas  # noqa\n",
    "\n",
    "penguins = hvplot.sampledata.penguins(\"pandas\").dropna()\n",
    "# group by island and sex\n",
    "penguins.hvplot.scatter(\n",
    "    x='flipper_length_mm',\n",
    "    y='body_mass_g',\n",
    "    groupby=['island', 'sex'],\n",
    "    color='species',\n",
    "    width=400,\n",
    ")"
   ]
  },
  {
   "cell_type": "markdown",
   "id": "462915a5-3a79-4792-811c-f4df6eb59825",
   "metadata": {},
   "source": [
    ":::{admonition} Next Steps\n",
    ":class: seealso\n",
    "\n",
    "- For more advanced widget customization using Panel, see the [Panel Widgets Reference](../ref/api_compatibility/panel_widgets.ipynb)\n",
    "- To understand the differences between `groupby`, `by`, and `color` parameters, see the [Grouping and Coloring Options Explanation](../explanation/grouping_options.ipynb)\n",
    ":::"
   ]
  }
 ],
 "metadata": {
  "language_info": {
   "name": "python",
   "pygments_lexer": "ipython3"
  }
 },
 "nbformat": 4,
 "nbformat_minor": 5
}
