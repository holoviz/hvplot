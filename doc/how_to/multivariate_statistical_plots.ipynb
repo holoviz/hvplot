{
 "cells": [
  {
   "cell_type": "markdown",
   "id": "22a52969",
   "metadata": {},
   "source": [
    "# How to Visualize Multivariate Data with Statistical Plots\n",
    "\n",
    "When working with datasets that have multiple variables, hvPlot provides several statistical plotting functions to help you explore relationships and patterns. This guide shows you how to use three key methods: scatter matrices, parallel coordinates, and Andrews curves."
   ]
  },
  {
   "cell_type": "markdown",
   "id": "c461984a",
   "metadata": {},
   "source": [
    "## Setup\n",
    "\n",
    "First, import hvplot and load a multivariate dataset:"
   ]
  },
  {
   "cell_type": "code",
   "execution_count": null,
   "id": "19eb19e7",
   "metadata": {},
   "outputs": [],
   "source": [
    "import hvplot.pandas  # noqa\n",
    "\n",
    "penguins = hvplot.sampledata.penguins(\"pandas\").dropna()\n",
    "penguins.head(3)"
   ]
  },
  {
   "cell_type": "markdown",
   "id": "ea800985",
   "metadata": {},
   "source": [
    "## Scatter Matrix\n",
    "\n",
    "Use a scatter matrix to visualize all pairwise relationships between numeric variables:"
   ]
  },
  {
   "cell_type": "code",
   "execution_count": null,
   "id": "66bc47a4",
   "metadata": {},
   "outputs": [],
   "source": [
    "num_penguins = penguins[['species', 'bill_length_mm', 'bill_depth_mm',\n",
    "       'flipper_length_mm', 'body_mass_g']]\n",
    "hvplot.scatter_matrix(num_penguins, c=\"species\")"
   ]
  },
  {
   "cell_type": "markdown",
   "id": "ac6e0be3",
   "metadata": {},
   "source": [
    "## Parallel Coordinates\n",
    "\n",
    "Use parallel coordinates to see patterns across all dimensions simultaneously:"
   ]
  },
  {
   "cell_type": "code",
   "execution_count": null,
   "id": "1cca872a",
   "metadata": {},
   "outputs": [],
   "source": [
    "hvplot.parallel_coordinates(num_penguins, \"species\")"
   ]
  },
  {
   "cell_type": "markdown",
   "id": "926ca828",
   "metadata": {},
   "source": [
    "## Andrews Curves\n",
    "\n",
    "Use Andrews curves to visualize aggregate differences between classes:"
   ]
  },
  {
   "cell_type": "code",
   "execution_count": null,
   "id": "d510d131",
   "metadata": {},
   "outputs": [],
   "source": [
    "hvplot.andrews_curves(num_penguins, \"species\")"
   ]
  },
  {
   "cell_type": "markdown",
   "id": "bc2a7c0e",
   "metadata": {},
   "source": [
    ":::{admonition} Next Steps\n",
    ":class: seealso\n",
    "\n",
    "- See the [explanation guide](../explanation/statistical_plot_types.ipynb) to understand when to use each plot type\n",
    "- Check the [reference documentation](../ref/api/index.md) for complete parameter lists\n",
    "- For time series analysis, see [how to analyze time series relationships](time_series_lag_plots.ipynb)\n",
    ":::"
   ]
  }
 ],
 "metadata": {
  "language_info": {
   "name": "python",
   "pygments_lexer": "ipython3"
  }
 },
 "nbformat": 4,
 "nbformat_minor": 5
}
