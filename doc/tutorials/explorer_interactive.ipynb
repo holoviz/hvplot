{
 "cells": [
  {
   "cell_type": "markdown",
   "id": "f8fa3747",
   "metadata": {},
   "source": [
    "# Exploring Data Interactively\n",
    "\n",
    "The hvPlot Explorer shines when you need to iteratively explore your data to discover patterns and create meaningful visualizations. This tutorial shows you how to use the Explorer for real data exploration workflows.\n",
    "\n",
    "## What you'll learn\n",
    "\n",
    "In this tutorial, you'll discover how to:\n",
    "\n",
    "- Use the Explorer to investigate data relationships\n",
    "- Iterate through different visualization approaches\n",
    "- Leverage grouping and faceting for deeper insights\n",
    "- Work with geographic data\n",
    "- Manage and record your exploration sessions\n",
    "\n",
    ":::{note}\n",
    "The Explorer requires a live Python kernel to be fully interactive. The widgets and interactivity described in this documentation are not interactive when viewed on the website.\n",
    ":::\n",
    "\n",
    "## Setup\n",
    "\n",
    "Let's start by importing the necessary libraries and loading our data:"
   ]
  },
  {
   "cell_type": "code",
   "execution_count": null,
   "id": "76c52f3c",
   "metadata": {},
   "outputs": [],
   "source": [
    "import hvplot.pandas  # noqa\n",
    "import hvplot.xarray  # noqa"
   ]
  },
  {
   "cell_type": "markdown",
   "id": "f5688555",
   "metadata": {},
   "source": [
    "## Exploring Tabular Data\n",
    "\n",
    "Let's begin with the penguins dataset and explore the relationships between different measurements:"
   ]
  },
  {
   "cell_type": "code",
   "execution_count": null,
   "id": "0e50bd36",
   "metadata": {},
   "outputs": [],
   "source": [
    "df = hvplot.sampledata.penguins(\"pandas\").dropna()\n",
    "df.info()"
   ]
  },
  {
   "cell_type": "markdown",
   "id": "df926d27",
   "metadata": {},
   "source": [
    "### Starting Your Exploration\n",
    "\n",
    "Let's launch the Explorer and begin investigating the data. We'll start with a basic scatter plot to look for patterns:"
   ]
  },
  {
   "cell_type": "code",
   "execution_count": null,
   "id": "60159126",
   "metadata": {},
   "outputs": [],
   "source": [
    "explorer = df.hvplot.explorer()\n",
    "explorer"
   ]
  },
  {
   "cell_type": "markdown",
   "id": "6167c340",
   "metadata": {},
   "source": [
    "While you would normally use the interface controls, for this tutorial we'll configure the plot programmatically to demonstrate the workflow:"
   ]
  },
  {
   "cell_type": "code",
   "execution_count": null,
   "id": "4b1ede81",
   "metadata": {},
   "outputs": [],
   "source": [
    "explorer.param.update(\n",
    "    x='bill_length_mm',\n",
    "    y_multi=['bill_depth_mm'],\n",
    ")\n",
    "explorer.labels.title = 'Penguin Bill Measurements: Bill Depth'"
   ]
  },
  {
   "cell_type": "markdown",
   "id": "a8c64088",
   "metadata": {},
   "source": [
    "Data exploration is iterative. Let's change the y-axis to show the Body Mass:"
   ]
  },
  {
   "cell_type": "code",
   "execution_count": null,
   "id": "676dbd46",
   "metadata": {},
   "outputs": [],
   "source": [
    "explorer.param.update(y_multi=['body_mass_g'])\n",
    "explorer.labels.title = 'Penguin Measurements: Body Mass'"
   ]
  },
  {
   "cell_type": "markdown",
   "id": "7d066c83",
   "metadata": {},
   "source": [
    "The `by` parameter is powerful for comparing groups. Let's explore how penguin measurements vary by species:"
   ]
  },
  {
   "cell_type": "code",
   "execution_count": null,
   "id": "84aeaf9f",
   "metadata": {},
   "outputs": [],
   "source": [
    "explorer.param.update( by=['species'])\n",
    "explorer.labels.title = 'Bill Measurements by Species'"
   ]
  },
  {
   "cell_type": "markdown",
   "id": "70bf1b9f",
   "metadata": {},
   "source": [
    "### Recording Your Findings\n",
    "\n",
    "As you explore, you'll want to save interesting configurations. Here's how to capture and reuse your work:"
   ]
  },
  {
   "cell_type": "code",
   "execution_count": null,
   "id": "941796fe",
   "metadata": {},
   "outputs": [],
   "source": [
    "plot_code = explorer.code\n",
    "print(\"Code to recreate this plot:\\n\", plot_code)"
   ]
  },
  {
   "cell_type": "code",
   "execution_count": null,
   "id": "a6f7a341",
   "metadata": {},
   "outputs": [],
   "source": [
    "# Show plot\n",
    "plot_obj = explorer.hvplot()\n",
    "plot_obj"
   ]
  },
  {
   "cell_type": "markdown",
   "id": "084a41ae",
   "metadata": {},
   "source": [
    "## Exploring Gridded Data\n",
    "\n",
    "The Explorer is also excellent for exploring gridded datasets like climate data. Let's work with air temperature data:"
   ]
  },
  {
   "cell_type": "code",
   "execution_count": null,
   "id": "bc665291",
   "metadata": {},
   "outputs": [],
   "source": [
    "air_temp = hvplot.sampledata.air_temperature(\"xarray\")\n",
    "air_temp"
   ]
  },
  {
   "cell_type": "markdown",
   "id": "fe7552f8",
   "metadata": {},
   "source": [
    "### Spatial Visualization\n",
    "\n",
    "Let's explore the spatial patterns in the temperature data:"
   ]
  },
  {
   "cell_type": "code",
   "execution_count": null,
   "id": "613f1b74",
   "metadata": {},
   "outputs": [],
   "source": [
    "grid_explorer = air_temp.hvplot.explorer(x='lon', y='lat')\n",
    "grid_explorer"
   ]
  },
  {
   "cell_type": "markdown",
   "id": "cd96b009",
   "metadata": {},
   "source": [
    "Notice how the Explorer automatically detects that this is gridded data and offers appropriate plot types like image and contour plots."
   ]
  },
  {
   "cell_type": "markdown",
   "id": "d742d11d",
   "metadata": {},
   "source": [
    "## Geographic Data Exploration\n",
    "\n",
    "When working with geographic data, the Explorer can leverage geographic projections and map tiles:"
   ]
  },
  {
   "cell_type": "code",
   "execution_count": null,
   "id": "7206c14e",
   "metadata": {},
   "outputs": [],
   "source": [
    "geo_explorer = air_temp.hvplot.explorer(x='lon', y='lat', geo=True)\n",
    "\n",
    "geo_explorer.geographic.param.update(\n",
    "    crs='PlateCarree',\n",
    "    tiles='CartoDark',\n",
    "    global_extent=False\n",
    ")\n",
    "\n",
    "geo_explorer"
   ]
  },
  {
   "cell_type": "markdown",
   "id": "6a17f20d-483b-4096-b23c-9e5722b0e01b",
   "metadata": {},
   "source": [
    "Click on the `Geographic` button to see the 'Tiles' and 'Crs' options updated\n",
    "\n",
    ":::{warning}\n",
    "Using `geo=True` requires the installation of [GeoViews](https://github.com/holoviz/geoviews)\n",
    ":::"
   ]
  },
  {
   "cell_type": "markdown",
   "id": "dc0cf813",
   "metadata": {},
   "source": [
    "## Advanced Exploration Techniques\n",
    "\n",
    "### Combining Multiple Variables\n",
    "\n",
    "Let's go back to the penguins data and explore multiple variables simultaneously:"
   ]
  },
  {
   "cell_type": "code",
   "execution_count": null,
   "id": "c6b655ea-cf37-4721-9b25-88a31d1de544",
   "metadata": {},
   "outputs": [],
   "source": [
    "multi_explorer = df.hvplot.explorer()\n",
    "multi_explorer"
   ]
  },
  {
   "cell_type": "code",
   "execution_count": null,
   "id": "89855dbd",
   "metadata": {},
   "outputs": [],
   "source": [
    "multi_explorer.param.update(\n",
    "    x='flipper_length_mm',\n",
    "    y_multi=['body_mass_g'],\n",
    "    by=['species'],\n",
    "    groupby=['sex'],\n",
    ")\n",
    "multi_explorer.labels.title = 'Multi-dimensional Penguin Analysis'"
   ]
  },
  {
   "cell_type": "markdown",
   "id": "d442dfbf",
   "metadata": {},
   "source": [
    "### Exploring Distributions\n",
    "\n",
    "The Explorer supports various plot types. Let's explore data distributions:"
   ]
  },
  {
   "cell_type": "code",
   "execution_count": null,
   "id": "37f4eb87",
   "metadata": {},
   "outputs": [],
   "source": [
    "dist_explorer = df.hvplot.explorer(kind='hist')\n",
    "dist_explorer"
   ]
  },
  {
   "cell_type": "code",
   "execution_count": null,
   "id": "8a195ec7-14d1-42ac-85ad-6b495a8894ba",
   "metadata": {},
   "outputs": [],
   "source": [
    "dist_explorer.param.update(\n",
    "    y_multi=['body_mass_g'],\n",
    "    by=['species'],\n",
    ")\n",
    "dist_explorer.labels.title = 'Body Mass Distribution by Species'"
   ]
  },
  {
   "cell_type": "markdown",
   "id": "d7948ec1-b165-40b9-9544-3b4fbbc3c64b",
   "metadata": {},
   "source": [
    "## Best Practices for Data Exploration\n",
    "\n",
    "1. Start Simple, Add Complexity. Begin with basic plots and gradually add dimensions (color, size, grouping, etc).\n",
    "\n",
    "2. Record Interesting Findings.\n",
    "\n",
    "3. Experiment with Different Plot Types. Different plot types reveal different aspects of your data. The Explorer makes it easy to switch between them.\n",
    "\n",
    "4. Use the Explorer as a Learning Tool. The generated code helps you learn the hvPlot API. Study the code output to understand how to create plots programmatically.\n",
    "\n",
    "## Workflow Integration\n",
    "\n",
    "The Explorer fits naturally into data science workflows:\n",
    "\n",
    "1. **Initial exploration**: Use the Explorer to understand your data\n",
    "2. **Hypothesis formation**: Identify patterns that suggest relationships\n",
    "3. **Focused analysis**: Export promising configurations for further analysis\n",
    "4. **Presentation**: Clean up and refine plots for reports\n",
    "\n",
    "## Conclusion\n",
    "\n",
    "The hvPlot Explorer accelerates data exploration by:\n",
    "\n",
    "- Eliminating the code-run-adjust cycle\n",
    "- Making it easy to try different visualizations\n",
    "- Capturing your work for reproducible analysis\n",
    "- Teaching you the hvPlot API through generated code\n",
    "\n",
    "Use the Explorer whenever you're starting to work with a new dataset or when you need to quickly investigate patterns and relationships in your data.\n",
    "\n",
    ":::{seealso}\n",
    "[Explorer API reference](../ref/api/manual/hvplot.hvPlot.explorer.ipynb)\n",
    ":::"
   ]
  }
 ],
 "metadata": {
  "language_info": {
   "name": "python",
   "pygments_lexer": "ipython3"
  }
 },
 "nbformat": 4,
 "nbformat_minor": 5
}
