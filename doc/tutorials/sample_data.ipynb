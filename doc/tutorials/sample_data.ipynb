{
 "cells": [
  {
   "cell_type": "markdown",
   "id": "e659c64e",
   "metadata": {},
   "source": [
    "# Sample Data\n",
    "\n",
    "hvPlot provides convenient access to sample datasets through the `hvplot.sampledata` module, which serves as an interface to the [`hvsampledata`](https://github.com/holoviz/hvsampledata) package. This makes it easy to get started with hvPlot using real-world datasets without having to find, download, or clean data yourself.\n",
    "\n",
    "The sample datasets cover a variety of data types and use cases, making them perfect for learning hvPlot, testing functionality, creating examples, or building prototypes."
   ]
  },
  {
   "cell_type": "markdown",
   "id": "a2f1ded5",
   "metadata": {},
   "source": [
    "## Installation\n",
    "\n",
    "The sample datasets are provided by the `hvsampledata` package, which is included as a dependency when installing hvPlot with example dependencies. If you installed hvPlot with minimal dependencies, you may need to install it separately:\n",
    "\n",
    "::::{tab-set}\n",
    "\n",
    ":::{tab-item} pip\n",
    "\n",
    "```bash\n",
    "pip install hvsampledata\n",
    "```\n",
    "\n",
    ":::\n",
    "\n",
    ":::{tab-item} conda\n",
    "\n",
    "```bash\n",
    "conda install -c conda-forge hvsampledata\n",
    "```\n",
    "\n",
    ":::\n",
    "::::\n",
    "\n",
    "Once available, the datasets can be accessed directly through hvPlot:"
   ]
  },
  {
   "cell_type": "code",
   "execution_count": null,
   "id": "d52b3d6b",
   "metadata": {},
   "outputs": [],
   "source": [
    "import hvplot.pandas  # noqa\n",
    "\n",
    "penguins = hvplot.sampledata.penguins(\"pandas\")\n",
    "penguins.head(3)"
   ]
  },
  {
   "cell_type": "markdown",
   "id": "a2a66137-76f5-40c6-9f21-d3e3aa91d605",
   "metadata": {},
   "source": [
    ":::{tip}\n",
    "This is the recommended way to use the `sampledata` module, as it avoids needing a separate import and is more explicit.\n",
    ":::"
   ]
  },
  {
   "cell_type": "markdown",
   "id": "33df317e",
   "metadata": {},
   "source": [
    "If `hvsampledata` is not installed, you'll get a helpful error message with installation instructions."
   ]
  },
  {
   "cell_type": "markdown",
   "id": "893e7758",
   "metadata": {},
   "source": [
    "## Available Datasets\n",
    "\n",
    "The `sampledata` module provides access to various datasets covering different data types and domains:\n",
    "\n",
    "### Tabular Datasets\n",
    "\n",
    "| Dataset | Description | Rows | Use Cases |\n",
    "|---------|-------------|------|----------|\n",
    "| `penguins` | Penguin species measurements | 344 | Classification, EDA, scatter plots |\n",
    "| `earthquakes` | Global earthquake data | 596 | Geographic visualization, time series |\n",
    "| `apple_stocks` | Apple Inc. stock data | 1,509 | Financial time series, OHLC plots |\n",
    "| `stocks` | Tech company stock comparison | 261 | Multi-line plots, correlation |\n",
    "| `synthetic_clusters` | Clustered synthetic data | 1M (configurable) | Large data visualization, clustering |\n",
    "| `us_states` | US states with economic data | 49 | Geographic plotting, choropleths |\n",
    "\n",
    "### Gridded Datasets\n",
    "\n",
    "| Dataset | Description | Dimensions | Use Cases |\n",
    "|---------|-------------|------------|----------|\n",
    "| `air_temperature` | Weather reanalysis data | 53×25×20 | Weather/climate analysis, animations |\n",
    "| `landsat_rgb` | Satellite imagery | RGB image | Remote sensing, image analysis |\n",
    "| `penguins_rgba` | Penguin image with transparency | RGBA image | Image processing, overlays |\n",
    "\n",
    "Let's explore some of these datasets!"
   ]
  },
  {
   "cell_type": "markdown",
   "id": "ca36febe",
   "metadata": {},
   "source": [
    "## Working with Tabular Data\n",
    "\n",
    "### Penguins Dataset\n",
    "\n",
    "The penguins dataset is perfect for exploring relationships between different variables:"
   ]
  },
  {
   "cell_type": "code",
   "execution_count": null,
   "id": "da28c41e-b120-4aab-be48-e0583a90dfaf",
   "metadata": {},
   "outputs": [],
   "source": [
    "penguins = hvplot.sampledata.penguins(\"pandas\")\n",
    "\n",
    "penguins.hvplot.scatter(\n",
    "    x='bill_length_mm',\n",
    "    y='bill_depth_mm',\n",
    "    color='species',\n",
    "    alpha=0.7,\n",
    "    title='Penguin Bill Measurements by Species',\n",
    ")"
   ]
  },
  {
   "cell_type": "markdown",
   "id": "17497043",
   "metadata": {},
   "source": [
    "### Earthquakes Dataset\n",
    "\n",
    "The earthquakes dataset includes geographic coordinates, making it perfect for demonstrating geographic visualizations:"
   ]
  },
  {
   "cell_type": "code",
   "execution_count": null,
   "id": "a3776b79",
   "metadata": {},
   "outputs": [],
   "source": [
    "earthquakes = hvplot.sampledata.earthquakes(\"pandas\")\n",
    "earthquakes.head(3)"
   ]
  },
  {
   "cell_type": "code",
   "execution_count": null,
   "id": "e7f18bb5",
   "metadata": {},
   "outputs": [],
   "source": [
    "earthquakes.hvplot.scatter(\n",
    "    x='lon',\n",
    "    y='lat',\n",
    "    size='depth',\n",
    "    color='mag',\n",
    "    cmap='viridis_r',\n",
    "    clabel='Earthquake Magnitude',\n",
    "    alpha=0.6,\n",
    "    title='Global Earthquakes: Location, Magnitude, and Depth',\n",
    "    xlabel='Longitude',\n",
    "    ylabel='Latitude',\n",
    ")"
   ]
  },
  {
   "cell_type": "markdown",
   "id": "4a7639bc",
   "metadata": {},
   "source": [
    "### Stocks Dataset\n",
    "\n",
    "The stocks dataset is great for time series analysis:"
   ]
  },
  {
   "cell_type": "code",
   "execution_count": null,
   "id": "b0222ad5",
   "metadata": {},
   "outputs": [],
   "source": [
    "stocks = hvplot.sampledata.stocks(\"pandas\")\n",
    "stocks.head(3)"
   ]
  },
  {
   "cell_type": "code",
   "execution_count": null,
   "id": "36a79b2a",
   "metadata": {},
   "outputs": [],
   "source": [
    "stocks.hvplot.line(\n",
    "    x='date',\n",
    "    title='Tech Stock Performance Comparison (Normalized)',\n",
    "    ylabel='Normalized Price',\n",
    ")"
   ]
  },
  {
   "cell_type": "markdown",
   "id": "6c89a18b",
   "metadata": {},
   "source": [
    "### Large Synthetic Dataset\n",
    "\n",
    "The synthetic clusters dataset is perfect for demonstrating hvPlot's ability to handle large datasets:"
   ]
  },
  {
   "cell_type": "code",
   "execution_count": null,
   "id": "46e4042e",
   "metadata": {},
   "outputs": [],
   "source": [
    "# Load a large synthetic dataset (1 million points by default)\n",
    "large_data = hvplot.sampledata.synthetic_clusters(\"pandas\", total_points=100_000)  # Using smaller size for demo\n",
    "print(f\"Dataset shape: {large_data.shape}\")\n",
    "large_data.head(3)"
   ]
  },
  {
   "cell_type": "code",
   "execution_count": null,
   "id": "c335c7eb",
   "metadata": {},
   "outputs": [],
   "source": [
    "large_data.hvplot.points(\n",
    "    x='x',\n",
    "    y='y',\n",
    "    by='cat',\n",
    "    datashade=True,  # Use datashader for performance\n",
    "    data_aspect=1,\n",
    "    title='Large Synthetic Dataset (100k points)'\n",
    ")"
   ]
  },
  {
   "cell_type": "markdown",
   "id": "decd4b73",
   "metadata": {},
   "source": [
    "## Working with Gridded Data\n",
    "\n",
    "### Air Temperature Dataset\n",
    "\n",
    "The air temperature dataset demonstrates working with multi-dimensional scientific data:"
   ]
  },
  {
   "cell_type": "code",
   "execution_count": null,
   "id": "ca34d81d",
   "metadata": {},
   "outputs": [],
   "source": [
    "import hvplot.xarray # noqa\n",
    "\n",
    "air_temp = hvplot.sampledata.air_temperature(\"xarray\").sel(time=\"2014-02-25 12:00\")\n",
    "air_temp"
   ]
  },
  {
   "cell_type": "code",
   "execution_count": null,
   "id": "ca8ff3e8",
   "metadata": {},
   "outputs": [],
   "source": [
    "air_temp.hvplot.image(\n",
    "    x='lon',\n",
    "    y='lat',\n",
    "    cmap='coolwarm',\n",
    "    title='Air Temperature (Kelvin)',\n",
    "    aspect='square',\n",
    ")"
   ]
  },
  {
   "cell_type": "markdown",
   "id": "3fe18c89",
   "metadata": {},
   "source": [
    "### Landsat RGB Dataset\n",
    "\n",
    "The landsat dataset shows how to work with RGB image data:"
   ]
  },
  {
   "cell_type": "code",
   "execution_count": null,
   "id": "7e96b128",
   "metadata": {},
   "outputs": [],
   "source": [
    "landsat = hvplot.sampledata.landsat_rgb(\"rioxarray\")\n",
    "landsat"
   ]
  },
  {
   "cell_type": "code",
   "execution_count": null,
   "id": "8542ba70",
   "metadata": {},
   "outputs": [],
   "source": [
    "# Display the RGB image\n",
    "landsat.hvplot.rgb(\n",
    "    x='x',\n",
    "    y='y',\n",
    "    title='Landsat RGB Image',\n",
    "    aspect='square'\n",
    ")"
   ]
  },
  {
   "cell_type": "markdown",
   "id": "c746460b",
   "metadata": {},
   "source": [
    "## Geographic Data\n",
    "\n",
    "### US States Dataset\n",
    "\n",
    "The US states dataset includes geometric boundaries and economic data, perfect for choropleth maps:"
   ]
  },
  {
   "cell_type": "code",
   "execution_count": null,
   "id": "7871b279",
   "metadata": {},
   "outputs": [],
   "source": [
    "us_states = hvplot.sampledata.us_states(\"geopandas\")\n",
    "us_states.head(3)"
   ]
  },
  {
   "cell_type": "code",
   "execution_count": null,
   "id": "6ab6fc92",
   "metadata": {},
   "outputs": [],
   "source": [
    "us_states.hvplot.polygons(\n",
    "    geo=True,\n",
    "    color='bea_region',\n",
    "    hover_cols=['state', 'pop_density', 'income_range'],\n",
    "    hover_tooltips=[\n",
    "        (\"State\", \"@state\"),\n",
    "        (\"Pop. density\", \"@pop_density /mi2\"),\n",
    "        (\"Median income range\", \"@income_range\")\n",
    "    ],\n",
    "   title='US states colored by BEA region',\n",
    ")"
   ]
  },
  {
   "cell_type": "markdown",
   "id": "855bb35c",
   "metadata": {},
   "source": [
    "## Using Different Engines\n",
    "\n",
    "Many datasets support multiple engines (pandas, polars, dask) for different performance characteristics:"
   ]
  },
  {
   "cell_type": "code",
   "execution_count": null,
   "id": "fa6881aa",
   "metadata": {},
   "outputs": [],
   "source": [
    "# Load with pandas (eager evaluation)\n",
    "penguins_pandas = hvplot.sampledata.penguins(\"pandas\")\n",
    "print(f\"Pandas type: {type(penguins_pandas)}\")\n",
    "\n",
    "# Load with polars\n",
    "penguins_polars = hvplot.sampledata.penguins(\"polars\")\n",
    "print(f\"Polars type: {type(penguins_polars)}\")\n",
    "\n",
    "# Load with dask for larger-than-memory processing (lazy evaluation)\n",
    "penguins_dask = hvplot.sampledata.penguins(\"dask\", lazy=True)\n",
    "print(f\"Dask type: {type(penguins_dask)}\")"
   ]
  },
  {
   "cell_type": "markdown",
   "id": "d5f8c738",
   "metadata": {},
   "source": [
    "## Next Steps\n",
    "\n",
    "Now that you've seen how to use hvPlot's sample datasets, you can:\n",
    "\n",
    "1. **Explore more plot types**: Try different visualization methods with these datasets in your own notebook\n",
    "2. **Learn about specific data types**: Check out guides for [Tabular Data](../user_guide/Plotting.ipynb), [Gridded Data](../user_guide/Gridded_Data.ipynb), and [Geographic Data](../user_guide/Geographic_Data.ipynb)\n",
    "3. **Work with your own data**: Apply the techniques you've learned to your own datasets\n",
    "\n",
    "The sample datasets provide a great foundation for learning hvPlot without worrying about data preparation, letting you focus on visualization and analysis techniques!\n",
    "\n",
    ":::{seealso}\n",
    "[API Reference](../ref/api/manual/sampledata.md): Complete reference for all sample dataset functions\n",
    ":::"
   ]
  }
 ],
 "metadata": {
  "language_info": {
   "name": "python",
   "pygments_lexer": "ipython3"
  }
 },
 "nbformat": 4,
 "nbformat_minor": 5
}
