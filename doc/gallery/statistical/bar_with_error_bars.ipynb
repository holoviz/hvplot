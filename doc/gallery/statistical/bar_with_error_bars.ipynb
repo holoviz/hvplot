{
 "cells": [
  {
   "cell_type": "markdown",
   "id": "cb33733e-6f7f-4ab9-a140-5d7fdbefcbfc",
   "metadata": {},
   "source": [
    "# Bar Chart with Error Bars\n",
    "\n",
    "This example overlays a bar cgart of the mean bill length of a set of penguins per island with error bars computed from their standard deviation."
   ]
  },
  {
   "cell_type": "code",
   "execution_count": null,
   "id": "1b902437-2407-4db2-81b5-19f8761791b3",
   "metadata": {},
   "outputs": [],
   "source": [
    "import hvplot.pandas  # noqa\n",
    "\n",
    "df = hvplot.sampledata.penguins(\"pandas\")\n",
    "df = df.groupby(\"island\").agg({\"bill_length_mm\": [\"mean\", \"std\"]})\n",
    "df.columns = df.columns.droplevel(0)\n",
    "\n",
    "bar = df.hvplot.bar(y=\"mean\", alpha=0.5)\n",
    "errorbars = df.hvplot.errorbars(\n",
    "    y=\"mean\",\n",
    "    yerr1=\"std\",\n",
    "    ylabel=\"Bill Length (mm)\",\n",
    "    title=\"Bar Chart with Error Bars (Bokeh)\",\n",
    ")\n",
    "bar * errorbars"
   ]
  },
  {
   "cell_type": "code",
   "execution_count": null,
   "id": "5d1f9e47-a919-4dfe-8253-3b8b18d8f299",
   "metadata": {},
   "outputs": [],
   "source": [
    "import hvplot.pandas  # noqa\n",
    "hvplot.extension(\"matplotlib\")\n",
    "\n",
    "df = hvplot.sampledata.penguins(\"pandas\")\n",
    "df = df.groupby(\"island\").agg({\"bill_length_mm\": [\"mean\", \"std\"]})\n",
    "df.columns = df.columns.droplevel(0)\n",
    "\n",
    "bar = df.hvplot.bar(y=\"mean\")\n",
    "errorbars = df.hvplot.errorbars(\n",
    "    y=\"mean\",\n",
    "    yerr1=\"std\",\n",
    "    ylabel=\"Bill Length (mm)\",\n",
    "    title=\"Bar Chart with Error Bars (Matplotlib)\",\n",
    ")\n",
    "bar * errorbars"
   ]
  },
  {
   "cell_type": "markdown",
   "id": "53acc1eb-f6ef-4b5a-a674-fff34b91bf1e",
   "metadata": {},
   "source": [
    ":::{seealso}\n",
    "- [Bar Plots reference documentation](../../ref/api/manual/hvplot.hvPlot.bar.ipynb).\n",
    "- [Error Bars Plot reference documentation](../../ref/api/manual/hvplot.hvPlot.errorbars.ipynb).\n",
    ":::"
   ]
  }
 ],
 "metadata": {
  "language_info": {
   "name": "python",
   "pygments_lexer": "ipython3"
  }
 },
 "nbformat": 4,
 "nbformat_minor": 5
}
