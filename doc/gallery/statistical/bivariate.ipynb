{
 "cells": [
  {
   "cell_type": "markdown",
   "id": "4fd97b4f-d33c-455f-894d-965890f5f1f3",
   "metadata": {},
   "source": [
    "# Bivariate Plot of Penguin Measurements\n",
    "\n",
    "This example shows how to visualize the joint distribution of two numerical features using a bivariate plot. Here, we explore the relationship between bill length and flipper length in the Penguins dataset."
   ]
  },
  {
   "cell_type": "code",
   "execution_count": null,
   "id": "ae296edc-9c65-4c40-b899-8317ec2c294d",
   "metadata": {},
   "outputs": [],
   "source": [
    "import hvplot.pandas  # noqa\n",
    "import hvsampledata\n",
    "\n",
    "df = hvsampledata.penguins(\"pandas\")\n",
    "\n",
    "df.hvplot.bivariate(x=\"bill_length_mm\", y=\"flipper_length_mm\")"
   ]
  },
  {
   "cell_type": "code",
   "execution_count": null,
   "id": "d1efb187-48ad-428d-b9ea-698f453c62e7",
   "metadata": {},
   "outputs": [],
   "source": [
    "import hvplot.pandas  # noqa\n",
    "import hvsampledata\n",
    "hvplot.extension(\"matplotlib\")\n",
    "\n",
    "df = hvsampledata.penguins(\"pandas\")\n",
    "\n",
    "df.hvplot.bivariate(x=\"bill_length_mm\", y=\"flipper_length_mm\")"
   ]
  },
  {
   "cell_type": "markdown",
   "id": "48036436-cf26-4c80-944f-e1baaaf216d4",
   "metadata": {},
   "source": [
    ":::{seealso}\n",
    "See the [Bivariate plots](../../ref/api/manual/hvplot.hvPlot.bivariate.ipynb) section of the API reference guide for more.\n",
    ":::"
   ]
  }
 ],
 "metadata": {
  "language_info": {
   "name": "python",
   "pygments_lexer": "ipython3"
  }
 },
 "nbformat": 4,
 "nbformat_minor": 5
}
