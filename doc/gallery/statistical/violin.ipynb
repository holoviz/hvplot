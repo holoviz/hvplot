{
 "cells": [
  {
   "cell_type": "markdown",
   "id": "e31ea59b-67bd-4fc7-aae0-842e0ec9f1ae",
   "metadata": {},
   "source": [
    "# Violin Plot\n",
    "\n",
    "A violin plot showing the distribution of flipper lengths for each penguin species.  \n",
    "This combines box plot structure with a smoothed density curve."
   ]
  },
  {
   "cell_type": "code",
   "execution_count": null,
   "id": "c979f2ee-d38b-487e-898c-ae0569b2933b",
   "metadata": {},
   "outputs": [],
   "source": [
    "import hvplot.pandas  # noqa\n",
    "import hvsampledata\n",
    "\n",
    "df = hvsampledata.penguins('pandas')\n",
    "\n",
    "df.hvplot.violin(\n",
    "    y='flipper_length_mm',\n",
    "    by='species',\n",
    "    title='Violin Plot by Species (Bokeh)',\n",
    "    ylabel='Flipper Length (mm)',\n",
    "    violin_fill_alpha=0\n",
    ") * df.hvplot.scatter(\n",
    "    x='species',  # the `by` column\n",
    "    y='flipper_length_mm',  # the `y` column\n",
    "    color=\"black\",\n",
    "    alpha=0.7,\n",
    "    size=8,\n",
    ").opts(jitter=0.25)"
   ]
  },
  {
   "cell_type": "code",
   "execution_count": null,
   "id": "f3dba609-6156-453c-a634-fa870be9565e",
   "metadata": {},
   "outputs": [],
   "source": [
    "import hvplot.pandas  # noqa\n",
    "import hvsampledata\n",
    "import numpy as np\n",
    "\n",
    "hvplot.extension('matplotlib')\n",
    "\n",
    "df = hvsampledata.penguins('pandas')\n",
    "df = df[df['species'].notna()].copy()\n",
    "df = df.sort_values('species')\n",
    "\n",
    "species_map = {'Adelie': 0, 'Chinstrap': 1, 'Gentoo': 2}\n",
    "df['x'] = df['species'].map(species_map) + np.random.uniform(-0.2, 0.2, size=len(df))\n",
    "\n",
    "df.hvplot.violin(\n",
    "    y='flipper_length_mm',\n",
    "    by='species',\n",
    "    title='Violin Plot by Species (Matplotlib)',\n",
    "    ylabel='Flipper Length (mm)',\n",
    ") * df.hvplot.scatter(\n",
    "    x='x',  # the `by` column\n",
    "    y='flipper_length_mm',  # the `y` column\n",
    "    color='black',\n",
    "    alpha=0.7,\n",
    "    size=20,\n",
    ")"
   ]
  },
  {
   "cell_type": "markdown",
   "id": "03dd4dc0-ba1e-423b-938e-bc27ad30dc79",
   "metadata": {},
   "source": [
    ":::{seealso}\n",
    "See the [Violin Plot documentation](../../ref/api/manual/hvplot.hvPlot.violin.ipynb) for more options.\n",
    ":::"
   ]
  }
 ],
 "metadata": {
  "language_info": {
   "name": "python",
   "pygments_lexer": "ipython3"
  }
 },
 "nbformat": 4,
 "nbformat_minor": 5
}
