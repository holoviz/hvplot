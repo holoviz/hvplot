{
 "cells": [
  {
   "cell_type": "markdown",
   "id": "e6cab841-9e56-4074-9160-02f789680144",
   "metadata": {},
   "source": [
    "# Simple Line Plot\n",
    "\n",
    "A basic line chart showing a trend over time. This example demonstrates the default line plotting behavior in hvPlot."
   ]
  },
  {
   "cell_type": "code",
   "execution_count": null,
   "id": "4af9bb48-b443-4dae-98e0-a5746e071556",
   "metadata": {},
   "outputs": [],
   "source": [
    "import pandas as pd\n",
    "import hvplot.pandas  # noqa\n",
    "\n",
    "df = pd.DataFrame({\n",
    "    'day': list(range(1, 8)),\n",
    "    'value': [5, 7, 6, 8, 7, 9, 10]\n",
    "})\n",
    "\n",
    "\n",
    "df.hvplot.line(x='day', y='value', title='Simple Line Plot (Bokeh)')"
   ]
  },
  {
   "cell_type": "code",
   "execution_count": null,
   "id": "dadaef9f-e907-46f0-97c0-d6f7b061ba69",
   "metadata": {},
   "outputs": [],
   "source": [
    "import pandas as pd\n",
    "import hvplot.pandas  # noqa\n",
    "import hvplot\n",
    "hvplot.extension('matplotlib')\n",
    "\n",
    "\n",
    "df = pd.DataFrame({\n",
    "    'day': list(range(1, 8)),\n",
    "    'value': [5, 7, 6, 8, 7, 9, 10]\n",
    "})\n",
    "\n",
    "df.hvplot.line(x='day', y='value', title='Simple Line Plot (Matplotlib)')"
   ]
  },
  {
   "cell_type": "markdown",
   "id": "46b204a3-4750-4791-bab8-7776c210e9d8",
   "metadata": {},
   "source": [
    ":::{note}\n",
    "For more line plot options, see the [Line Plots documentation](../../ref/api/manual/hvplot.hvPlot.line.ipynb).\n",
    ":::"
   ]
  }
 ],
 "metadata": {
  "language_info": {
   "name": "python",
   "pygments_lexer": "ipython3"
  }
 },
 "nbformat": 4,
 "nbformat_minor": 5
}
