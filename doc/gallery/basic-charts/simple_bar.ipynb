{
 "cells": [
  {
   "cell_type": "markdown",
   "id": "29a4d191-1160-4a02-af2e-ee238bdcafd5",
   "metadata": {},
   "source": [
    "# Simple Bar Chart\n",
    "\n",
    "A basic bar chart showing the count of items in each category. This example uses a small pandas DataFrame to demonstrate categorical bar plots."
   ]
  },
  {
   "cell_type": "code",
   "execution_count": null,
   "id": "d6d79d69-6e9d-4aee-b4e2-a9f1ef46fb2c",
   "metadata": {},
   "outputs": [],
   "source": [
    "import pandas as pd\n",
    "import hvplot.pandas  # noqa\n",
    "\n",
    "df = pd.DataFrame({\n",
    "    'category': ['A', 'B', 'C', 'A', 'B', 'C', 'A', 'B', 'C', 'A'],\n",
    "})\n",
    "counts = df['category'].value_counts().sort_index()\n",
    "\n",
    "counts.hvplot.bar(title='Simple Bar Chart (Bokeh)', xlabel='Category', ylabel='Count')"
   ]
  },
  {
   "cell_type": "code",
   "execution_count": null,
   "id": "04213f6e-6ee4-43f5-ba8d-c3de6ca9d02a",
   "metadata": {},
   "outputs": [],
   "source": [
    "import pandas as pd\n",
    "import hvplot.pandas  # noqa\n",
    "hvplot.extension('matplotlib')\n",
    "\n",
    "df = pd.DataFrame({\n",
    "    'category': ['A', 'B', 'C', 'A', 'B', 'C', 'A', 'B', 'C', 'A'],\n",
    "})\n",
    "counts = df['category'].value_counts().sort_index()\n",
    "\n",
    "counts.hvplot.bar(title='Simple Bar Chart (Matplotlib)', xlabel='Category', ylabel='Count')"
   ]
  },
  {
   "cell_type": "markdown",
   "id": "44127e08-ff7d-40d2-8ebf-47a04ab9749a",
   "metadata": {},
   "source": [
    ":::{seealso}\n",
    "See the [Bar Plots documentation](../../ref/api/manual/hvplot.hvPlot.bar.ipynb) for more bar chart options and the [Categorical section](../categorical/index.md) for more complex bar plots.\n",
    ":::"
   ]
  }
 ],
 "metadata": {
  "language_info": {
   "name": "python",
   "pygments_lexer": "ipython3"
  }
 },
 "nbformat": 4,
 "nbformat_minor": 5
}
