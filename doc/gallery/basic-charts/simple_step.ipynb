{
 "cells": [
  {
   "cell_type": "markdown",
   "id": "f68ddad8-153b-480f-a80d-9ba500424122",
   "metadata": {},
   "source": [
    "# Simple Step Chart\n",
    "\n",
    "A simple step chart that shows how values change at distinct intervals. This is useful for visualizing step-wise changes such as thresholds or categorical transitions."
   ]
  },
  {
   "cell_type": "code",
   "execution_count": null,
   "id": "4e9c807a-b3f3-4ce8-95fc-f79b931814f1",
   "metadata": {},
   "outputs": [],
   "source": [
    "import pandas as pd\n",
    "import hvplot.pandas  # noqa\n",
    "\n",
    "df = pd.DataFrame({\n",
    "    'x': list(range(10)),\n",
    "    'value': [1, 2, 2, 3, 3, 4, 5, 5, 6, 6]\n",
    "})\n",
    "\n",
    "df.hvplot.step(x='x', y='value', title='Simple Step Chart (Bokeh)')"
   ]
  },
  {
   "cell_type": "code",
   "execution_count": null,
   "id": "97ae26cb-5cfd-41e0-849f-e7263ed0cbe4",
   "metadata": {},
   "outputs": [],
   "source": [
    "import pandas as pd\n",
    "import hvplot.pandas  # noqa\n",
    "import hvplot\n",
    "hvplot.extension('matplotlib')\n",
    "\n",
    "df = pd.DataFrame({\n",
    "    'x': list(range(10)),\n",
    "    'value': [1, 2, 2, 3, 3, 4, 5, 5, 6, 6]\n",
    "})\n",
    "\n",
    "df.hvplot.step(x='x', y='value', title='Simple Step Chart (Matplotlib)')"
   ]
  },
  {
   "cell_type": "markdown",
   "id": "98b7ce41-59e8-4992-b686-99cd57dd4076",
   "metadata": {},
   "source": [
    ":::{note}\n",
    "For more step chart options, see the [Step Plots documentation](../../ref/api/manual/hvplot.hvPlot.step.ipynb)."
   ]
  }
 ],
 "metadata": {
  "language_info": {
   "name": "python",
   "pygments_lexer": "ipython3"
  }
 },
 "nbformat": 4,
 "nbformat_minor": 5
}
