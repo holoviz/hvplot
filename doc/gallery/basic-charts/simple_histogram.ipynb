{
 "cells": [
  {
   "cell_type": "markdown",
   "id": "374d549c-9d67-4611-8455-1681b796e9da",
   "metadata": {},
   "source": [
    "# Simple Histogram\n",
    "\n",
    "A histogram showing the distribution of values in a dataset. This example demonstrates how to create a histogram and adjust the number of bins."
   ]
  },
  {
   "cell_type": "code",
   "execution_count": null,
   "id": "d7123868-1a70-4631-ae59-1b18cf9068d3",
   "metadata": {},
   "outputs": [],
   "source": [
    "import pandas as pd\n",
    "import numpy as np\n",
    "import hvplot.pandas  # noqa\n",
    "\n",
    "np.random.seed(1)\n",
    "df = pd.DataFrame({\n",
    "    'values': np.random.normal(loc=0, scale=1, size=200)\n",
    "})\n",
    "\n",
    "df.hvplot.hist(y='values', bins=20, title='Simple Histogram (Bokeh)')"
   ]
  },
  {
   "cell_type": "code",
   "execution_count": null,
   "id": "26d9d79b-1882-45d0-aaed-7659fe03fb24",
   "metadata": {},
   "outputs": [],
   "source": [
    "import pandas as pd\n",
    "import numpy as np\n",
    "import hvplot.pandas  # noqa\n",
    "import hvplot\n",
    "hvplot.extension('matplotlib')\n",
    "\n",
    "np.random.seed(1)\n",
    "df = pd.DataFrame({\n",
    "    'values': np.random.normal(loc=0, scale=1, size=200)\n",
    "})\n",
    "\n",
    "df.hvplot.hist(y='values', bins=20, title='Simple Histogram (Matplotlib)')"
   ]
  },
  {
   "cell_type": "markdown",
   "id": "61320208-5d20-461e-861c-60b29b464f53",
   "metadata": {},
   "source": [
    ":::{note}\n",
    "For more histogram options, see the [Histogram Plots documentation](../../ref/api/manual/hvplot.hvPlot.hist.ipynb)."
   ]
  }
 ],
 "metadata": {
  "language_info": {
   "name": "python",
   "pygments_lexer": "ipython3"
  }
 },
 "nbformat": 4,
 "nbformat_minor": 5
}
