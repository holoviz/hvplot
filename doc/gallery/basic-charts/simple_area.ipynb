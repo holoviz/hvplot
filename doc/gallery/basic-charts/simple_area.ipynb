{
 "cells": [
  {
   "cell_type": "markdown",
   "id": "14b634d4-d40c-45a1-8da6-97141f0ac184",
   "metadata": {},
   "source": [
    "# Simple Area Chart\n",
    "\n",
    "A filled area chart representing values over a sequence. This example uses simple numeric data to show how area plots work in hvPlot."
   ]
  },
  {
   "cell_type": "code",
   "execution_count": null,
   "id": "8b2a9abc-67d3-4af7-a93f-9401da4de96f",
   "metadata": {},
   "outputs": [],
   "source": [
    "import pandas as pd\n",
    "import hvplot.pandas  # noqa\n",
    "\n",
    "df = pd.DataFrame({\n",
    "    'x': range(10),\n",
    "    'y': [3, 4, 6, 8, 7, 6, 4, 5, 6, 7]\n",
    "})\n",
    "\n",
    "df.hvplot.area(x='x', y='y', title='Simple Area Chart (Bokeh)')"
   ]
  },
  {
   "cell_type": "code",
   "execution_count": null,
   "id": "087c113e-6ad7-49d3-8923-252196fd8884",
   "metadata": {},
   "outputs": [],
   "source": [
    "import pandas as pd\n",
    "import hvplot.pandas  # noqa\n",
    "hvplot.extension('matplotlib')\n",
    "\n",
    "df = pd.DataFrame({\n",
    "    'x': range(10),\n",
    "    'y': [3, 4, 6, 8, 7, 6, 4, 5, 6, 7]\n",
    "})\n",
    "\n",
    "df.hvplot.area(x='x', y='y', title='Simple Area Chart (Matplotlib)')"
   ]
  },
  {
   "cell_type": "markdown",
   "id": "a0c7b2dc-1a60-4afb-97d6-45f0aa886691",
   "metadata": {},
   "source": [
    ":::{seealso}\n",
    "- [Area Plots reference documentation](../../ref/api/manual/hvplot.hvPlot.area.ipynb).\n",
    ":::"
   ]
  }
 ],
 "metadata": {
  "language_info": {
   "name": "python",
   "pygments_lexer": "ipython3"
  }
 },
 "nbformat": 4,
 "nbformat_minor": 5
}
