{
 "cells": [
  {
   "cell_type": "markdown",
   "id": "aa57212c-5753-4e7b-adae-53c757e01695",
   "metadata": {},
   "source": [
    "# Simple Scatter Plot\n",
    "\n",
    "A basic scatter plot using two numeric variables. This example uses random data to demonstrate how to quickly visualize point relationships.\n"
   ]
  },
  {
   "cell_type": "code",
   "execution_count": null,
   "id": "8657f983-2d30-41da-9edd-5ea60c18b1bc",
   "metadata": {},
   "outputs": [],
   "source": [
    "import pandas as pd\n",
    "import numpy as np\n",
    "import hvplot.pandas  # noqa\n",
    "\n",
    "np.random.seed(42)\n",
    "df = pd.DataFrame({\n",
    "    'x': np.random.rand(50),\n",
    "    'y': np.random.rand(50)\n",
    "})\n",
    "\n",
    "df.hvplot.scatter(x='x', y='y', title='Simple Scatter Plot (Bokeh)')"
   ]
  },
  {
   "cell_type": "code",
   "execution_count": null,
   "id": "c836183e-12d3-4297-bee4-3a252601e012",
   "metadata": {},
   "outputs": [],
   "source": [
    "import pandas as pd\n",
    "import numpy as np\n",
    "import hvplot.pandas  # noqa\n",
    "hvplot.extension('matplotlib')\n",
    "\n",
    "np.random.seed(42)\n",
    "df = pd.DataFrame({\n",
    "    'x': np.random.rand(50),\n",
    "    'y': np.random.rand(50)\n",
    "})\n",
    "\n",
    "df.hvplot.scatter(x='x', y='y', title='Simple Scatter Plot (Matplotlib)')"
   ]
  },
  {
   "cell_type": "markdown",
   "id": "4902add2-3c83-4bea-90c8-9ee0683fd236",
   "metadata": {},
   "source": [
    ":::{seealso}\n",
    "For more scatter plot options, see the [Scatter Plots documentation](../../ref/api/manual/hvplot.hvPlot.scatter.ipynb)."
   ]
  }
 ],
 "metadata": {
  "language_info": {
   "name": "python",
   "pygments_lexer": "ipython3"
  }
 },
 "nbformat": 4,
 "nbformat_minor": 5
}
