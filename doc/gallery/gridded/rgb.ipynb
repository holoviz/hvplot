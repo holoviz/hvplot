{
 "cells": [
  {
   "cell_type": "markdown",
   "id": "c73d803c-a005-496f-9812-7eb414ce6449",
   "metadata": {},
   "source": [
    "# RGB Plot\n",
    "\n",
    "An RGB (Red, Green, Blue) plot displaying a penguins family."
   ]
  },
  {
   "cell_type": "code",
   "execution_count": null,
   "id": "ac5ea091-6484-4fc8-9852-d48acd90cc74",
   "metadata": {},
   "outputs": [],
   "source": [
    "import hvplot.xarray  # noqa\n",
    "\n",
    "ds = hvplot.sampledata.penguins_rgba(\"xarray\")\n",
    "\n",
    "ds.hvplot.rgb(\n",
    "    x=\"x\",\n",
    "    y=\"y\",\n",
    "    bands=\"channel\",\n",
    "    flip_yaxis=True,\n",
    "    aspect=1,\n",
    "    title=\"RGB Plot (Bokeh)\",\n",
    ")"
   ]
  },
  {
   "cell_type": "code",
   "execution_count": null,
   "id": "c4c8c776-8bf1-4054-a5cc-1b82515a8525",
   "metadata": {},
   "outputs": [],
   "source": [
    "import hvplot.xarray  # noqa\n",
    "hvplot.extension(\"matplotlib\")\n",
    "\n",
    "ds = hvplot.sampledata.penguins_rgba(\"xarray\")\n",
    "\n",
    "ds.hvplot.rgb(\n",
    "    x=\"x\",\n",
    "    y=\"y\",\n",
    "    bands=\"channel\",\n",
    "    flip_yaxis=True,\n",
    "    aspect=1,\n",
    "    title=\"RGB Plot (Matplotlib)\",\n",
    ")"
   ]
  },
  {
   "cell_type": "markdown",
   "id": "4f0cd955-3e03-42a5-b581-f828036e1716",
   "metadata": {},
   "source": [
    ":::{seealso}\n",
    "- [RGB reference documentation](../../ref/api/manual/hvplot.hvPlot.rgb.ipynb).\n",
    ":::"
   ]
  }
 ],
 "metadata": {
  "language_info": {
   "name": "python",
   "pygments_lexer": "ipython3"
  }
 },
 "nbformat": 4,
 "nbformat_minor": 5
}
