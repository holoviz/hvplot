{
 "cells": [
  {
   "cell_type": "markdown",
   "id": "c73d803c-a005-496f-9812-7eb414ce6449",
   "metadata": {},
   "source": [
    "# RGB Plot of Satellite Imagery\n",
    "\n",
    "An RGB (Red, Green, Blue) plot displaying satellite imagery. The example loads the dataset using [rioxarray](https://corteva.github.io/rioxarray) and sets [`geo=True`](option-geo) ([GeoViews](https://geoviews.org/) must be installed) to correctly position the image on the earth."
   ]
  },
  {
   "cell_type": "code",
   "execution_count": null,
   "id": "ac5ea091-6484-4fc8-9852-d48acd90cc74",
   "metadata": {},
   "outputs": [],
   "source": [
    "import hvplot.xarray  # noqa\n",
    "\n",
    "ds = hvplot.sampledata.landsat_rgb(\"rioxarray\")\n",
    "\n",
    "ds.hvplot.rgb(\n",
    "    x=\"x\",\n",
    "    y=\"y\",\n",
    "    geo=True,\n",
    "    tiles=True,\n",
    "    padding=1,\n",
    "    title=\"RGB Satellite Imagery (Bokeh)\",\n",
    ")"
   ]
  },
  {
   "cell_type": "code",
   "execution_count": null,
   "id": "67b3394b-44ac-46f8-9170-8be3de232c9d",
   "metadata": {},
   "outputs": [],
   "source": [
    "import hvplot.xarray  # noqa\n",
    "hvplot.extension(\"matplotlib\")\n",
    "\n",
    "ds = hvplot.sampledata.landsat_rgb(\"rioxarray\")\n",
    "\n",
    "ds.hvplot.rgb(\n",
    "    x=\"x\",\n",
    "    y=\"y\",\n",
    "    geo=True,\n",
    "    features=[\"coastline\"],\n",
    "    title=\"RGB Satellite Imagery (Matplotlib)\",\n",
    ")"
   ]
  },
  {
   "cell_type": "markdown",
   "id": "4f0cd955-3e03-42a5-b581-f828036e1716",
   "metadata": {},
   "source": [
    ":::{seealso}\n",
    "- [RGB reference documentation](../../ref/api/manual/hvplot.hvPlot.rgb.ipynb).\n",
    ":::"
   ]
  }
 ],
 "metadata": {
  "language_info": {
   "name": "python",
   "pygments_lexer": "ipython3"
  }
 },
 "nbformat": 4,
 "nbformat_minor": 5
}
