{
 "cells": [
  {
   "cell_type": "markdown",
   "id": "c73d803c-a005-496f-9812-7eb414ce6449",
   "metadata": {},
   "source": [
    "# Image Plot\n",
    "\n",
    "A 2D image plot showing surface air temperature values across latitude and longitude."
   ]
  },
  {
   "cell_type": "code",
   "execution_count": null,
   "id": "909d1398-d6f7-4d92-9b41-125ff48a0b08",
   "metadata": {},
   "outputs": [],
   "source": [
    "import hvplot.xarray  # noqa\n",
    "\n",
    "ds = hvplot.sampledata.air_temperature('xarray').sel(time='2014-02-25 12:00')\n",
    "\n",
    "ds.hvplot.image(\n",
    "    x='lon',\n",
    "    y='lat',\n",
    "    cmap='coolwarm',\n",
    "    title='Air Temperature on 2014-02-25 (Bokeh)',\n",
    ")"
   ]
  },
  {
   "cell_type": "code",
   "execution_count": null,
   "id": "bf8d109a-2a14-4ea8-9a4b-6c357a4ce25c",
   "metadata": {},
   "outputs": [],
   "source": [
    "import hvplot.xarray  # noqa\n",
    "hvplot.extension('matplotlib')\n",
    "\n",
    "ds = hvplot.sampledata.air_temperature('xarray').sel(time='2014-02-25 12:00')\n",
    "\n",
    "ds.hvplot.image(\n",
    "    x='lon',\n",
    "    y='lat',\n",
    "    cmap='coolwarm',\n",
    "    title='Air Temperature on 2014-02-25 (Matplotlib)',\n",
    ")"
   ]
  },
  {
   "cell_type": "markdown",
   "id": "4f0cd955-3e03-42a5-b581-f828036e1716",
   "metadata": {},
   "source": [
    ":::{seealso}\n",
    "- [Image reference documentation](../../ref/api/manual/hvplot.hvPlot.image.ipynb).\n",
    ":::"
   ]
  }
 ],
 "metadata": {
  "language_info": {
   "name": "python",
   "pygments_lexer": "ipython3"
  }
 },
 "nbformat": 4,
 "nbformat_minor": 5
}
