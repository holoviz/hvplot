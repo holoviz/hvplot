{
 "cells": [
  {
   "cell_type": "markdown",
   "id": "faf0f0e8-8b07-48d8-81aa-4ea71923a50f",
   "metadata": {},
   "source": [
    "# Function Stem Plot with Custom Segments\n",
    "\n",
    "A simulated stem plot showing values of the function `y=exp(sin(x))`.  \n",
    "This example uses `hv.Segments`, `Scatter`, and `HLine` to compose a stem-style plot."
   ]
  },
  {
   "cell_type": "code",
   "execution_count": null,
   "id": "13a60429-db54-44f1-b42c-bad4df87986b",
   "metadata": {},
   "outputs": [],
   "source": [
    "import numpy as np\n",
    "import pandas as pd\n",
    "import holoviews as hv\n",
    "import hvplot.pandas  # noqa\n",
    "\n",
    "hv.extension('bokeh')\n",
    "\n",
    "x = np.linspace(0.1, 2 * np.pi, 41)\n",
    "y = np.exp(np.sin(x))\n",
    "\n",
    "df = pd.DataFrame({'x': x, 'y': y})\n",
    "\n",
    "# Create line segments for each stem\n",
    "segments = hv.Segments([(xv, 0, xv, yv) for xv, yv in zip(df['x'], df['y'])])\n",
    "# Markers at the top\n",
    "markers = df.hvplot.scatter(x='x', y='y', size=12)\n",
    "# Horizontal baseline at y=0\n",
    "baseline = hv.HLine(0).opts(color='#b70100')\n",
    "\n",
    "(segments * markers * baseline).opts(\n",
    "    height=300,\n",
    "    width=600,\n",
    "    xlabel='x',\n",
    "    ylabel='exp(sin(x))',\n",
    "    title='Simulated Stem Plot with Segments'\n",
    ")"
   ]
  },
  {
   "cell_type": "markdown",
   "id": "5a0d1208-d760-4ac7-8fcc-899b3eeaf80b",
   "metadata": {},
   "source": [
    ":::{seealso}\n",
    "See the [HoloViews Composing Elements guide](https://holoviews.org/user_guide/Composing_Elements.html) to learn more about overlaying HoloViews elements.\n",
    ":::"
   ]
  }
 ],
 "metadata": {
  "language_info": {
   "name": "python",
   "pygments_lexer": "ipython3"
  }
 },
 "nbformat": 4,
 "nbformat_minor": 5
}
