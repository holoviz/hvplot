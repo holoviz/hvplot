{
 "cells": [
  {
   "cell_type": "markdown",
   "id": "6f0faff3-7b67-420b-87db-8dfbe4acad2e",
   "metadata": {},
   "source": [
    "# Geographic Paths and Labels\n",
    "\n",
    "A geographic plot connecting two locations using `paths()` and `labels()`.  \n",
    "This example demonstrates how to compose map-based annotations using HoloViews and hvPlot."
   ]
  },
  {
   "cell_type": "code",
   "execution_count": null,
   "id": "0667e6a0-b9aa-4277-abc2-f3bceabaf2fb",
   "metadata": {},
   "outputs": [],
   "source": [
    "import pandas as pd\n",
    "import hvplot.pandas  # noqa\n",
    "import cartopy.crs as ccrs\n",
    "\n",
    "df = pd.DataFrame({\n",
    "    'city': ['New York', 'Delhi'],\n",
    "    'lon': [-74.006, 77.1025],\n",
    "    'lat': [40.7128, 28.7041]\n",
    "})\n",
    "\n",
    "# Shared plot args\n",
    "common_kwargs = dict(\n",
    "    x='lon',\n",
    "    y='lat',\n",
    "    geo=True,\n",
    "    project=True,\n",
    "    projection=ccrs.GOOGLE_MERCATOR,\n",
    "    global_extent=True,\n",
    ")\n",
    "\n",
    "# Create paths, points, and labels\n",
    "shortest_path = df.hvplot.paths(color=\"blue\", crs=ccrs.Geodetic(), tiles=True, **common_kwargs)\n",
    "straight_path = df.hvplot.paths(color='grey', line_dash='dashed', line_width=2, **common_kwargs)\n",
    "points = df.hvplot.points(color='red', size=10, **common_kwargs)\n",
    "labels = df.hvplot.labels(text='city', text_baseline='bottom', text_align='left', **common_kwargs)\n",
    "\n",
    "# Compose the final plot\n",
    "shortest_path * straight_path * points * labels"
   ]
  },
  {
   "cell_type": "markdown",
   "id": "8a9a75b1-f129-4d93-9552-a0161f84aaf2",
   "metadata": {},
   "source": [
    ":::{seealso}\n",
    "See the [Paths documentation](../../ref/api/manual/hvplot.hvPlot.paths.ipynb) and [Labels documentation](../../ref/api/manual/hvplot.hvPlot.labels.ipynb) for more annotation options.\n",
    ":::"
   ]
  }
 ],
 "metadata": {
  "language_info": {
   "name": "python",
   "pygments_lexer": "ipython3"
  }
 },
 "nbformat": 4,
 "nbformat_minor": 5
}
