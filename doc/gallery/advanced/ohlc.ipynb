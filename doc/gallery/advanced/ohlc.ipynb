{
 "cells": [
  {
   "cell_type": "markdown",
   "id": "9bb2caa2-3422-433b-8b3d-418f167ec936",
   "metadata": {},
   "source": [
    "# OHLC Plot with Interactive Range Tool\n",
    "\n",
    "An OHLC (Open–High–Low–Close) plot displaying stock price movements for Apple Inc.  \n",
    "This example uses HoloViews-level customization to enable an interactive range selection tool and layout composition.\n",
    "\n",
    ":::{tip}\n",
    "You can **zoom** into the OHLC chart by using the tools in the upper right corner of the plot.  \n",
    "The **top plot** acts as a range selector — drag the handles to filter the main view by time.\n",
    ":::"
   ]
  },
  {
   "cell_type": "code",
   "execution_count": null,
   "id": "34766ae4-a3b4-4e74-9805-927d9b5e3573",
   "metadata": {},
   "outputs": [],
   "source": [
    "import hvplot.pandas  # noqa\n",
    "import hvsampledata\n",
    "import holoviews as hv\n",
    "from holoviews.plotting.links import RangeToolLink\n",
    "\n",
    "hv.extension('bokeh')\n",
    "\n",
    "df = hvsampledata.apple_stocks(\"pandas\")\n",
    "df = df.iloc[-100:]\n",
    "\n",
    "# Main OHLC plot\n",
    "ohlc_plot = df.hvplot.ohlc(\n",
    "    ylabel='Price ($)',\n",
    "    grid=True,\n",
    "    width=700,\n",
    "    height=300,\n",
    ")\n",
    "\n",
    "# Overview OHLC plot for interactive range selection\n",
    "overview = df.hvplot.ohlc(\n",
    "    width=700,\n",
    "    height=150,\n",
    "    ylabel='',\n",
    "    xaxis=None,\n",
    "    yaxis=None,\n",
    ")\n",
    "\n",
    "# Link the range between overview and main plot\n",
    "RangeToolLink(overview.get(0), ohlc_plot.get(0))\n",
    "\n",
    "# Stack the plots vertically\n",
    "(overview + ohlc_plot).cols(1)"
   ]
  }
 ],
 "metadata": {
  "language_info": {
   "name": "python",
   "pygments_lexer": "ipython3"
  }
 },
 "nbformat": 4,
 "nbformat_minor": 5
}
