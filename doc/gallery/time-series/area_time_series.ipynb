{
 "cells": [
  {
   "cell_type": "markdown",
   "id": "fcdfee5a-76a9-4860-b429-3da6ac7e5bc2",
   "metadata": {},
   "source": [
    "# Time-Series Area Chart\n",
    "\n",
    "A filled area chart to visualize how values accumulate or change over time. This example uses a simple time-indexed dataset to show cumulative trends."
   ]
  },
  {
   "cell_type": "code",
   "execution_count": null,
   "id": "f9573c5b-5d5d-4391-82eb-a1fe8bada95e",
   "metadata": {},
   "outputs": [],
   "source": [
    "import pandas as pd\n",
    "import numpy as np\n",
    "import hvplot.pandas  # noqa\n",
    "\n",
    "np.random.seed(0)\n",
    "dates = pd.date_range(\"2024-01-01\", periods=30, freq=\"D\")\n",
    "df = pd.DataFrame({'value': np.cumsum(np.random.randn(30))}, index=dates)\n",
    "\n",
    "df.hvplot.area(title=\"Time-Series Area Chart (Bokeh)\", ylabel=\"Cumulative Value\")"
   ]
  },
  {
   "cell_type": "code",
   "execution_count": null,
   "id": "2ac8a1cc-ad72-40f0-8d1e-adabe4a8d703",
   "metadata": {},
   "outputs": [],
   "source": [
    "import pandas as pd\n",
    "import numpy as np\n",
    "import hvplot.pandas  # noqa\n",
    "hvplot.extension('matplotlib')\n",
    "\n",
    "np.random.seed(0)\n",
    "dates = pd.date_range(\"2024-01-01\", periods=30, freq=\"D\")\n",
    "df = pd.DataFrame({'value': np.cumsum(np.random.randn(30))}, index=dates)\n",
    "\n",
    "df.hvplot.area(title=\"Time-Series Area Chart (Matplotlib)\", ylabel=\"Cumulative Value\")"
   ]
  },
  {
   "cell_type": "markdown",
   "id": "1b03b3e4-6bb0-4a5a-b42b-16306fa48601",
   "metadata": {},
   "source": [
    ":::{seealso}\n",
    "For more area chart options, see the [Area Plots documentation](../../ref/api/manual/hvplot.hvPlot.area.ipynb)."
   ]
  }
 ],
 "metadata": {
  "language_info": {
   "name": "python",
   "pygments_lexer": "ipython3"
  }
 },
 "nbformat": 4,
 "nbformat_minor": 5
}
