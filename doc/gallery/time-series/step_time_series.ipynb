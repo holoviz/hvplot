{
 "cells": [
  {
   "cell_type": "markdown",
   "id": "398ee793-69c6-46ab-bdae-30133d9a0f39",
   "metadata": {},
   "source": [
    "# Time-Series Step Plot\n",
    "\n",
    "A step plot to visualize values that change at discrete time intervals. This is useful for state transitions, pricing tiers, or events that update periodically."
   ]
  },
  {
   "cell_type": "code",
   "execution_count": null,
   "id": "1de1d7cd-7bd4-402f-8f91-c15dca78a1a6",
   "metadata": {},
   "outputs": [],
   "source": [
    "import hvplot.pandas  # noqa\n",
    "\n",
    "df = hvplot.sampledata.apple_stocks(\"pandas\").set_index(\"date\").loc[\"2024-01-01\": \"2024-03-31\"]\n",
    "\n",
    "df.hvplot.step(\n",
    "    y=\"open\",\n",
    "    ylabel=\"Opening Price ($)\",\n",
    "    title=\"Time-Series Step Plot (Bokeh)\",\n",
    ")"
   ]
  },
  {
   "cell_type": "code",
   "execution_count": null,
   "id": "6e67e2c1-5885-495f-bc54-3d5f8eb7d406",
   "metadata": {},
   "outputs": [],
   "source": [
    "import hvplot.pandas  # noqa\n",
    "hvplot.extension(\"matplotlib\")\n",
    "\n",
    "df = hvplot.sampledata.apple_stocks(\"pandas\").set_index(\"date\").loc[\"2024-01-01\": \"2024-03-31\"]\n",
    "\n",
    "df.hvplot.step(\n",
    "    y=\"open\",\n",
    "    ylabel=\"Opening Price ($)\",\n",
    "    title=\"Time-Series Step Plot (Matplotlib)\",\n",
    ")"
   ]
  },
  {
   "cell_type": "markdown",
   "id": "52b0a44a-0bd4-4e6c-a295-6829bbf3b29c",
   "metadata": {},
   "source": [
    ":::{seealso}\n",
    "- [Step Plots reference documentation](../../ref/api/manual/hvplot.hvPlot.step.ipynb).\n",
    ":::"
   ]
  }
 ],
 "metadata": {
  "language_info": {
   "name": "python",
   "pygments_lexer": "ipython3"
  }
 },
 "nbformat": 4,
 "nbformat_minor": 5
}
