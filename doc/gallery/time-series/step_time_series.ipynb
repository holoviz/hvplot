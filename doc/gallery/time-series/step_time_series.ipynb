{
 "cells": [
  {
   "cell_type": "markdown",
   "id": "398ee793-69c6-46ab-bdae-30133d9a0f39",
   "metadata": {},
   "source": [
    "# Time-Series Step Plot\n",
    "\n",
    "A step plot to visualize values that change at discrete time intervals. This is useful for state transitions, pricing tiers, or events that update periodically."
   ]
  },
  {
   "cell_type": "code",
   "execution_count": null,
   "id": "1de1d7cd-7bd4-402f-8f91-c15dca78a1a6",
   "metadata": {},
   "outputs": [],
   "source": [
    "import pandas as pd\n",
    "import numpy as np\n",
    "import hvplot.pandas  # noqa\n",
    "\n",
    "np.random.seed(0)\n",
    "dates = pd.date_range(\"2024-01-01\", periods=20, freq=\"D\")\n",
    "values = np.random.choice([0, 1, 2, 3], size=20)\n",
    "df = pd.DataFrame({'value': values}, index=dates)\n",
    "\n",
    "df.hvplot.step(title=\"Time-Series Step Plot (Bokeh)\", ylabel=\"State\")"
   ]
  },
  {
   "cell_type": "code",
   "execution_count": null,
   "id": "6e67e2c1-5885-495f-bc54-3d5f8eb7d406",
   "metadata": {},
   "outputs": [],
   "source": [
    "import pandas as pd\n",
    "import numpy as np\n",
    "import hvplot.pandas  # noqa\n",
    "hvplot.extension('matplotlib')\n",
    "\n",
    "np.random.seed(0)\n",
    "dates = pd.date_range(\"2024-01-01\", periods=20, freq=\"D\")\n",
    "values = np.random.choice([0, 1, 2, 3], size=20)\n",
    "df = pd.DataFrame({'value': values}, index=dates)\n",
    "\n",
    "df.hvplot.step(title=\"Time-Series Step Plot (Matplotlib)\", ylabel=\"State\", rot=45)"
   ]
  },
  {
   "cell_type": "markdown",
   "id": "52b0a44a-0bd4-4e6c-a295-6829bbf3b29c",
   "metadata": {},
   "source": [
    ":::{seealso}\n",
    "For more step plot options, see the [Step Plots documentation](../../ref/api/manual/hvplot.hvPlot.step.ipynb).\n",
    ":::"
   ]
  }
 ],
 "metadata": {
  "language_info": {
   "name": "python",
   "pygments_lexer": "ipython3"
  }
 },
 "nbformat": 4,
 "nbformat_minor": 5
}
