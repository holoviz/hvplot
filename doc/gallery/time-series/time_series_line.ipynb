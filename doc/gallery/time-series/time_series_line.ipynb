{
 "cells": [
  {
   "cell_type": "markdown",
   "id": "cdb78989-501a-419d-9d5c-032652e37fda",
   "metadata": {},
   "source": [
    "# Simple Time-Series Line Plot\n",
    "\n",
    "A basic time-series line plot showing values across dates. This example demonstrates how to visualize trends over time using datetime indexes."
   ]
  },
  {
   "cell_type": "code",
   "execution_count": null,
   "id": "543cdb28-f080-4977-b7fe-626cd310f468",
   "metadata": {},
   "outputs": [],
   "source": [
    "import pandas as pd\n",
    "import numpy as np\n",
    "import hvplot.pandas  # noqa\n",
    "\n",
    "np.random.seed(0)\n",
    "dates = pd.date_range(\"2024-01-01\", periods=30, freq=\"D\")\n",
    "values = np.cumsum(np.random.randn(30))\n",
    "df = pd.DataFrame({'date': dates, 'value': values}).set_index('date')\n",
    "\n",
    "df.hvplot.line(title=\"Simple Time-Series Line Plot (Bokeh)\", rot=45)"
   ]
  },
  {
   "cell_type": "code",
   "execution_count": null,
   "id": "091895ee-49b8-45a2-ac26-f9610e38305f",
   "metadata": {},
   "outputs": [],
   "source": [
    "import pandas as pd\n",
    "import numpy as np\n",
    "import hvplot.pandas  # noqa\n",
    "hvplot.extension('matplotlib')\n",
    "\n",
    "np.random.seed(0)\n",
    "dates = pd.date_range(\"2024-01-01\", periods=30, freq=\"D\")\n",
    "values = np.cumsum(np.random.randn(30))\n",
    "df = pd.DataFrame({'date': dates, 'value': values}).set_index('date')\n",
    "\n",
    "df.hvplot.line(title=\"Simple Time-Series Line Plot (Matplotlib)\", rot=45)"
   ]
  }
 ],
 "metadata": {
  "language_info": {
   "name": "python",
   "pygments_lexer": "ipython3"
  }
 },
 "nbformat": 4,
 "nbformat_minor": 5
}
