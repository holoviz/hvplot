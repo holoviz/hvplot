{
 "cells": [
  {
   "cell_type": "markdown",
   "id": "6a78b434-9e25-4f16-85d4-00f19db515bd",
   "metadata": {},
   "source": [
    "# Geographic Scatter Plot\n",
    "\n",
    "A scatter plot showing earthquake locations by longitude and latitude.  \n",
    "This example uses the `earthquakes` dataset from `hvsampledata`."
   ]
  },
  {
   "cell_type": "code",
   "execution_count": null,
   "id": "873d530b-58a5-4225-8083-e9d375677bd4",
   "metadata": {},
   "outputs": [],
   "source": [
    "import hvplot.pandas  # noqa\n",
    "import hvsampledata\n",
    "\n",
    "df = hvsampledata.earthquakes(\"pandas\")\n",
    "\n",
    "df.hvplot.points(\n",
    "    x='lon',\n",
    "    y='lat',\n",
    "    title='Earthquake Locations (Bokeh)',\n",
    "    xlabel='Longitude',\n",
    "    ylabel='Latitude',\n",
    "    alpha=0.5,\n",
    "    color='mag',\n",
    "    cmap='viridis_r',\n",
    "    features=[\"coastline\"],\n",
    "   )"
   ]
  },
  {
   "cell_type": "code",
   "execution_count": null,
   "id": "d2c100f2-e730-4d89-a027-442ca13c8fa1",
   "metadata": {},
   "outputs": [],
   "source": [
    "import hvplot.pandas  # noqa\n",
    "import hvsampledata\n",
    "hvplot.extension('matplotlib')\n",
    "\n",
    "df = hvsampledata.earthquakes(\"pandas\")\n",
    "\n",
    "df.hvplot.points(\n",
    "    x='lon',\n",
    "    y='lat',\n",
    "    title='Earthquake Locations (Matplotlib)',\n",
    "    xlabel='Longitude',\n",
    "    ylabel='Latitude',\n",
    "    alpha=0.5,\n",
    "    color='mag',\n",
    "    cmap='viridis_r',\n",
    "    features=[\"coastline\"]\n",
    ")"
   ]
  },
  {
   "cell_type": "markdown",
   "id": "222060ed-8262-42c2-86bf-d9d0aa2c6865",
   "metadata": {},
   "source": [
    ":::{seealso}\n",
    "See the [Points documentation](../../ref/api/manual/hvplot.hvPlot.points.ipynb) for more styling and interactivity options.\n",
    ":::"
   ]
  }
 ],
 "metadata": {
  "language_info": {
   "name": "python",
   "pygments_lexer": "ipython3"
  }
 },
 "nbformat": 4,
 "nbformat_minor": 5
}
