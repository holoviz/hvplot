{
 "cells": [
  {
   "cell_type": "markdown",
   "id": "735a23ad-5b23-4a7b-a39b-500ddaf112d3",
   "metadata": {},
   "source": [
    "# Datashaded Earthquake Map\n",
    "\n",
    "A datashaded map showing global earthquake event density using a large dataset from the HoloViz Data Catalog. This technique is ideal for efficiently visualizing large volumes of geospatial points."
   ]
  },
  {
   "cell_type": "code",
   "execution_count": null,
   "id": "a5a8c94a-b462-44b2-afb9-0676df64b378",
   "metadata": {},
   "outputs": [],
   "source": [
    "import hvplot.pandas  # noqa\n",
    "import pandas as pd\n",
    "\n",
    "url = 'https://datasets.holoviz.org/earthquakes/v1/earthquakes-projected.parq'\n",
    "df = pd.read_parquet(url)\n",
    "\n",
    "df.hvplot.points(\n",
    "    x='longitude',\n",
    "    y='latitude',\n",
    "    rasterize=True,\n",
    "    cmap='fire',\n",
    "    cnorm='eq_hist',\n",
    "    dynspread=True,\n",
    "    title='Datashaded Earthquake Map (Bokeh)',\n",
    ")"
   ]
  },
  {
   "cell_type": "markdown",
   "id": "51318366-348b-431b-ae99-e725f757e1b2",
   "metadata": {},
   "source": [
    ":::{note}\n",
    "Datashading and similar techniques are only supported in the **Bokeh** backend. The Matplotlib backend does not support `rasterize=True`.\n",
    "\n",
    "See the [Resampling Options](../../ref/plotting_options/resampling.ipynb#rasterize) for more on using `rasterize=True` with large datasets.\n",
    ":::"
   ]
  }
 ],
 "metadata": {
  "language_info": {
   "name": "python",
   "pygments_lexer": "ipython3"
  }
 },
 "nbformat": 4,
 "nbformat_minor": 5
}
