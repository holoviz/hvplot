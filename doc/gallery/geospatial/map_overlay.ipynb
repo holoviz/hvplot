{
 "cells": [
  {
   "cell_type": "markdown",
   "id": "96f096cf-705b-4a4a-ab60-02cac99181aa",
   "metadata": {},
   "source": [
    "# Map Overlay with Tiles\n",
    "\n",
    "A map overlay showing earthquake locations on top of a tile map. This example uses `tiles=True` to render geographic context underneath the data."
   ]
  },
  {
   "cell_type": "code",
   "execution_count": null,
   "id": "ce1701b5-7f59-455d-95fe-06dfc32ddbf2",
   "metadata": {},
   "outputs": [],
   "source": [
    "import hvplot.pandas  # noqa\n",
    "\n",
    "df = hvplot.sampledata.earthquakes(\"pandas\")\n",
    "\n",
    "df.hvplot.points(\n",
    "    x='lon',\n",
    "    y='lat',\n",
    "    tiles=True,\n",
    "    tiles_opts={'alpha': 0.3},\n",
    "    alpha=0.6,\n",
    "    color='mag',\n",
    "    cmap='viridis_r',\n",
    "    title='Earthquake Map Overlay (Bokeh)',\n",
    "    xlabel='Longitude',\n",
    "    ylabel='Latitude',\n",
    ")"
   ]
  },
  {
   "cell_type": "markdown",
   "id": "753fbf24-e6e8-4df6-ae19-1ae040aeeed5",
   "metadata": {},
   "source": [
    ":::{note}\n",
    "Map overlays using `tiles=True` are only supported in the **Bokeh** backend. The Matplotlib backend does not support rendering web map tiles.\n",
    ":::\n",
    "\n",
    ":::{seealso}\n",
    "- [Points Plots reference documentation](../../ref/api/manual/hvplot.hvPlot.points.ipynb).\n",
    ":::"
   ]
  }
 ],
 "metadata": {
  "language_info": {
   "name": "python",
   "pygments_lexer": "ipython3"
  }
 },
 "nbformat": 4,
 "nbformat_minor": 5
}
