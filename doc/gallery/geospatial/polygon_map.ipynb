{
 "cells": [
  {
   "cell_type": "markdown",
   "id": "efd60251-5052-42e9-a933-a117e19cf142",
   "metadata": {},
   "source": [
    "# Geographic Polygon Plot\n",
    "\n",
    "A geographic map where countries are colored by their continent. This example uses `geopandas` and `hvplot.polygons` to display geographic shapes with categorical color mapping."
   ]
  },
  {
   "cell_type": "code",
   "execution_count": null,
   "id": "171868bd-140e-45fa-8849-03536cb4bfe8",
   "metadata": {},
   "outputs": [],
   "source": [
    "import geopandas as gpd\n",
    "import hvplot.pandas  # noqa\n",
    "\n",
    "url = \"https://naciscdn.org/naturalearth/110m/cultural/ne_110m_admin_0_countries.zip\"\n",
    "gdf = gpd.read_file(url)\n",
    "\n",
    "gdf.hvplot.polygons(\n",
    "    geo=True,\n",
    "    color='CONTINENT',\n",
    "    cmap='Category20',\n",
    "    hover_cols=['NAME', 'CONTINENT', 'POP_EST'],\n",
    "    title='World Countries Colored by Continent (Bokeh)'\n",
    ")"
   ]
  },
  {
   "cell_type": "code",
   "execution_count": null,
   "id": "5df595c1-a5d7-44d1-8cac-94458b989f92",
   "metadata": {},
   "outputs": [],
   "source": [
    "import geopandas as gpd\n",
    "import hvplot.pandas  # noqa\n",
    "hvplot.extension('matplotlib')\n",
    "\n",
    "url = \"https://naciscdn.org/naturalearth/110m/cultural/ne_110m_admin_0_countries.zip\"\n",
    "gdf = gpd.read_file(url)\n",
    "\n",
    "gdf.hvplot.polygons(\n",
    "    geo=True,\n",
    "    color='CONTINENT',\n",
    "    cmap='Category20',\n",
    "    height=400,\n",
    "    width=700,\n",
    "    title='World Countries Colored by Continent(Matplotlib)'\n",
    ")\n"
   ]
  },
  {
   "cell_type": "markdown",
   "id": "18c91492-9f5c-4114-98ee-29a405812277",
   "metadata": {},
   "source": [
    ":::{seealso}\n",
    "See the [Polygons documentation](../../ref/api/manual/hvplot.hvPlot.polygons.ipynb) for more options including coloring and CRS handling.\n",
    ":::"
   ]
  }
 ],
 "metadata": {
  "language_info": {
   "name": "python",
   "pygments_lexer": "ipython3"
  }
 },
 "nbformat": 4,
 "nbformat_minor": 5
}
