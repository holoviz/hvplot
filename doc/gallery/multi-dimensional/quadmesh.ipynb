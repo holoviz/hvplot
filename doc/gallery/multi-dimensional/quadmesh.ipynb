{
 "cells": [
  {
   "cell_type": "markdown",
   "id": "5622d657-56d3-4eb8-9db2-29114afa9610",
   "metadata": {},
   "source": [
    "# Quadmesh of Air Temperature\n",
    "\n",
    "This example visualizes gridded air temperature data using a quadmesh. It works well with xarray datasets to display continuous variables over a regular 2D grid."
   ]
  },
  {
   "cell_type": "code",
   "execution_count": null,
   "id": "ed6edbaa-ccd5-40bf-b3d7-05489b81ede0",
   "metadata": {},
   "outputs": [],
   "source": [
    "import hvplot.xarray  # noqa\n",
    "import hvsampledata\n",
    "\n",
    "ds = hvsampledata.air_temperature(\"xarray\").sel(time=\"2014-02-25 12:00\")\n",
    "ds.hvplot.quadmesh(\n",
    "    x=\"lon\",\n",
    "    y=\"lat\",\n",
    "    cmap=\"coolwarm\",\n",
    "    title='Air Temperature on 2014-02-25 (Bokeh)',\n",
    ")"
   ]
  },
  {
   "cell_type": "code",
   "execution_count": null,
   "id": "477ddce4-8101-4580-baa5-a30a7a632e26",
   "metadata": {},
   "outputs": [],
   "source": [
    "import hvplot.xarray  # noqa\n",
    "import hvsampledata\n",
    "hvplot.extension(\"matplotlib\")\n",
    "\n",
    "ds = hvsampledata.air_temperature(\"xarray\").sel(time=\"2014-02-25 12:00\")\n",
    "\n",
    "ds.hvplot.quadmesh(\n",
    "    x=\"lon\",\n",
    "    y=\"lat\",\n",
    "    cmap=\"coolwarm\",\n",
    "    title='Air Temperature on 2014-02-25 (Matplotlib)'\n",
    ")"
   ]
  },
  {
   "cell_type": "markdown",
   "id": "eb2dee10-8e25-4df8-b200-5e5153b33090",
   "metadata": {},
   "source": [
    ":::{seealso}\n",
    "See the [Quadmesh documentation](../../ref/api/manual/hvplot.hvPlot.quadmesh.ipynb) for more options and supported xarray dimensions.\n",
    ":::"
   ]
  }
 ],
 "metadata": {
  "language_info": {
   "name": "python",
   "pygments_lexer": "ipython3"
  }
 },
 "nbformat": 4,
 "nbformat_minor": 5
}
