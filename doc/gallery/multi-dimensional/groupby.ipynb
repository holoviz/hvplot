{
 "cells": [
  {
   "cell_type": "markdown",
   "id": "f2e2b2d2-67a1-4346-bfa3-73f5b286b0ac",
   "metadata": {},
   "source": [
    "# Faceted Time Series using Groupby\n",
    "\n",
    "A multi-dimensional plot showing how air temperature changes over time. This example uses the `groupby` option with an xarray Dataset to explore values interactively."
   ]
  },
  {
   "cell_type": "code",
   "execution_count": null,
   "id": "2d0d8b47-bf26-49ae-a2c7-6777b62b0377",
   "metadata": {},
   "outputs": [],
   "source": [
    "import hvplot.xarray  # noqa\n",
    "import hvsampledata\n",
    "\n",
    "ds = hvsampledata.air_temperature('xarray')\n",
    "\n",
    "ds.hvplot.image(\n",
    "    x='lon',\n",
    "    y='lat',\n",
    "    cmap='coolwarm',\n",
    "    groupby='time',\n",
    "    frame_width=400,\n",
    "    title='Air Temperature Over Time (Bokeh)',\n",
    ")"
   ]
  },
  {
   "cell_type": "markdown",
   "id": "957dee20-536c-490a-ab6d-84e6dee7dca7",
   "metadata": {},
   "source": [
    ":::{note}\n",
    "The `groupby` widget interactivity is only supported in the **Bokeh** backend  \n",
    "and requires a **live Python environment** (e.g. Jupyter Notebook, JupyterLab, or Panel app).\n",
    "\n",
    "See the [Groupby Option](../../ref/plotting_options/data.ipynb#groupby) for more.\n",
    ":::"
   ]
  }
 ],
 "metadata": {
  "language_info": {
   "name": "python",
   "pygments_lexer": "ipython3"
  }
 },
 "nbformat": 4,
 "nbformat_minor": 5
}
