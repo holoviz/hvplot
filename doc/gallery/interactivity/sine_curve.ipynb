{
 "cells": [
  {
   "cell_type": "markdown",
   "id": "e42f1695-d27b-4e6b-95f1-1bf823972573",
   "metadata": {},
   "source": [
    "# Interactive Function Plot\n",
    "\n",
    "A dynamic sine curve that updates based on user-controlled amplitude and frequency.  \n",
    "This example uses `pn.bind()` to link [Panel](https://panel.holoviz.org) widgets with a plotting function."
   ]
  },
  {
   "cell_type": "code",
   "execution_count": null,
   "id": "dea49469-0a57-4eb3-b6b7-b207421ca2d6",
   "metadata": {},
   "outputs": [],
   "source": [
    "import numpy as np\n",
    "import pandas as pd\n",
    "import hvplot.pandas  # noqa\n",
    "import panel as pn\n",
    "\n",
    "pn.extension()\n",
    "\n",
    "x = np.linspace(0, 4 * np.pi, 200)\n",
    "df = pd.DataFrame({'x': x})\n",
    "\n",
    "amp_slider = pn.widgets.FloatSlider(name='Amplitude', start=-5.0, end=5.0, step=0.1, value=1.0, width=200)\n",
    "freq_slider = pn.widgets.FloatSlider(name='Frequency', start=0.1, end=5.1, step=0.1, value=1.0, width=200)\n",
    "\n",
    "def sine_plot(amplitude, frequency):\n",
    "    df['y'] = amplitude * np.sin(frequency * df['x'])\n",
    "    return df.hvplot.line(x='x', y='y', title='Interactive Sine Wave', frame_width=400)\n",
    "\n",
    "plot = pn.bind(sine_plot, amplitude=amp_slider, frequency=freq_slider)\n",
    "pn.Row(pn.Column(amp_slider, freq_slider), plot)"
   ]
  },
  {
   "cell_type": "markdown",
   "id": "4ffd2db9-3e2e-4fae-a687-7c07153158b1",
   "metadata": {},
   "source": [
    ":::{seealso}\n",
    "See the [Panel documentation](https://panel.holoviz.org/tutorials/basic/pn_bind.html) for more on `pn.bind()` and building interactive apps.\n",
    ":::"
   ]
  }
 ],
 "metadata": {
  "language_info": {
   "name": "python",
   "pygments_lexer": "ipython3"
  }
 },
 "nbformat": 4,
 "nbformat_minor": 5
}
