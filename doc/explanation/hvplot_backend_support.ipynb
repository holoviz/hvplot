{
 "cells": [
  {
   "cell_type": "markdown",
   "id": "360bd599",
   "metadata": {},
   "source": [
    "# How hvPlot Supports Multiple Plotting Backends\n",
    "\n",
    "hvPlot provides a unified API for creating interactive visualizations using different plotting libraries, including [Bokeh](https://docs.bokeh.org), [Matplotlib](https://matplotlib.org/), and [Plotly](https://plotly.com/). This flexibility is made possible by its integration with [HoloViews](https://holoviews.org/), which acts as an abstraction layer for rendering plots."
   ]
  },
  {
   "cell_type": "markdown",
   "id": "f27d8593",
   "metadata": {},
   "source": [
    "## hvPlot Architecture\n",
    "\n",
    "When you use hvPlot (e.g. `df.hvplot.line()`), hvPlot creates a HoloViews object that can be rendered by any supported backend. The choice of backend is controlled by the `extension()` and `output()` functions. See the [How-to guide on loading and switching plotting extensions](../how_to/load_switch_plotting_extensions.ipynb) for practical usage."
   ]
  },
  {
   "cell_type": "markdown",
   "id": "fcbd6dcc",
   "metadata": {},
   "source": [
    "## Switching Backends\n",
    "\n",
    "You can switch between backends (e.g., Bokeh and Matplotlib) at any point in your notebook using `hvplot.output(backend=...)`. This allows you to reuse the same plotting code with different visual styles and interactive capabilities. For step-by-step instructions, see the [How-to guide on styling plots by backend](../how_to/style_plots_by_backend.ipynb)."
   ]
  },
  {
   "cell_type": "markdown",
   "id": "75356549",
   "metadata": {},
   "source": [
    "## Styling and Compatibility Mode\n",
    "\n",
    "Each backend supports its own set of styling options. For example, Bokeh uses `line_dash`, while Matplotlib uses `linestyle`. hvPlot offers a compatibility mode that lets you use Bokeh-style options with Matplotlib, making it easier to reuse code across backends. Learn more in the [How-to guide on styling plots by backend](../how_to/style_plots_by_backend.ipynb)."
   ]
  },
  {
   "cell_type": "markdown",
   "id": "f3d4b164-7bcc-4fd2-ac83-f3a47274bf67",
   "metadata": {},
   "source": [
    "## Limitations and Best Practices\n",
    "\n",
    "Not all options are supported across all backends, and some advanced features may only be available in specific libraries. For best results, use the backend-specific options for advanced customization, and refer to the [reference documentation](../ref/plotting_options/index.md) for details on available options.\n",
    "\n",
    "hvPlot's backend flexibility allows you to choose the best visualization library for your needs, while keeping your plotting code consistent and reusable.\n",
    "\n",
    ":::{admonition} Suggested Readings\n",
    ":class: seealso\n",
    "[Loading and switching plotting extensions](../how_to/load_switch_plotting_extensions.ipynb)\n",
    "\n",
    "[Styling plots by backend](../how_to/style_plots_by_backend.ipynb)\n",
    "\n",
    "[Plotting Options](../ref/plotting_options/index.md)\n",
    ":::"
   ]
  }
 ],
 "metadata": {
  "language_info": {
   "name": "python",
   "pygments_lexer": "ipython3"
  }
 },
 "nbformat": 4,
 "nbformat_minor": 5
}
