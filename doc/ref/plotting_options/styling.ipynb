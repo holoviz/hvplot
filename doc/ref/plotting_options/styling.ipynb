{
 "cells": [
  {
   "cell_type": "markdown",
   "id": "5fb7798b-4c96-44e7-9822-6da31cd9ceba",
   "metadata": {},
   "source": [
    "# Styling Options\n",
    "\n",
    ":::{note}\n",
    "These are the styling options shared by all the supported plotting backends. Backend-specific options can be found on the reference page of each plotting method (e.g. {meth}`hvplot.hvPlot.scatter`) or by executing `hvplot.help('scatter', docstring=False, generic=False, style=True)`.\n",
    ":::\n",
    "\n",
    "Visual styling options to adjust colors, fonts, and other aesthetic elements of the plot:\n",
    "\n",
    "```{eval-rst}\n",
    ".. plotting-options-table:: Styling Options\n",
    "```"
   ]
  },
  {
   "cell_type": "markdown",
   "id": "881751c3-4dc2-4027-9b7f-147fbe64a4f6",
   "metadata": {},
   "source": [
    "(option-fontscale)=\n",
    "## `fontscale`\n",
    "\n",
    "The `fontscale` option scales all the fonts in the plot by the provided numeric factor. For example, setting `fontscale=1.5` enlarges the title, tick labels, and axis labels by 50%. This is useful when you want to emphasize text for presentations or detailed viewing."
   ]
  },
  {
   "cell_type": "code",
   "execution_count": null,
   "id": "c1ddd044-1771-43a3-a09d-580749371644",
   "metadata": {},
   "outputs": [],
   "source": [
    "import hvplot.pandas  # noqa\n",
    "import hvsampledata\n",
    "\n",
    "df = hvsampledata.penguins(\"pandas\")\n",
    "df.hvplot.scatter(\n",
    "    x='bill_length_mm', y='bill_depth_mm', by='species',\n",
    "    fontscale=1.5, title=\"Penguins Species\",\n",
    ")"
   ]
  },
  {
   "cell_type": "markdown",
   "id": "ee479a25-5270-4b60-91c3-5da24ae2a501",
   "metadata": {},
   "source": [
    "(option-fontsize)=\n",
    "## `fontsize`\n",
    "\n",
    "The `fontsize` option sets the font size for different text elements in the plot. It can be:\n",
    "\n",
    "- A single value (e.g. `12`) to apply to all text elements.\n",
    "- A dictionary to control specific elements like the title, axis labels, and ticks.  \n",
    "  Example: `{'title': '15pt', 'xlabel': '12pt', 'ylabel': '12pt', 'ticks': 10}`\n",
    "\n",
    "This option is useful for precise text control in reports, presentations, and dashboards.\n",
    "\n",
    "::: {note}\n",
    "**Backend-specific behavior**\n",
    "\n",
    "- The **Bokeh** backend supports both numeric values and strings with units like `'12pt'` or `'10px'`.\n",
    "- The **Matplotlib** backend only accepts **numeric values**. Using strings like `'14pt'` will not work.\n",
    "\n",
    "To ensure compatibility across backends, prefer using numbers unless you're specifically targeting Bokeh.\n",
    ":::"
   ]
  },
  {
   "cell_type": "markdown",
   "id": "1a2b11d7-91af-4600-aad1-910c85278b22",
   "metadata": {},
   "source": [
    "**Bokeh backend**"
   ]
  },
  {
   "cell_type": "code",
   "execution_count": null,
   "id": "cb067733-9f58-42a6-9588-ca7b230407d3",
   "metadata": {},
   "outputs": [],
   "source": [
    "import hvplot.pandas  # noqa\n",
    "import hvsampledata\n",
    "\n",
    "df = hvsampledata.penguins(\"pandas\")\n",
    "\n",
    "df.hvplot.scatter(\n",
    "    x='bill_length_mm', y='bill_depth_mm', by='species',\n",
    "    fontsize={'title': '16pt', 'xlabel': '12pt', 'ylabel': '14pt', 'ticks': 10},\n",
    "    title=\"Penguins Measurements by Species\"\n",
    ")"
   ]
  },
  {
   "cell_type": "markdown",
   "id": "3d50c50e-bf28-427f-8f7f-63514ead3a1c",
   "metadata": {},
   "source": [
    "**Matplotlib backend**"
   ]
  },
  {
   "cell_type": "code",
   "execution_count": null,
   "id": "408becf8-7758-4386-ae1f-b4daa8a80595",
   "metadata": {},
   "outputs": [],
   "source": [
    "import hvplot.pandas  # noqa\n",
    "import hvsampledata\n",
    "\n",
    "hvplot.extension('matplotlib')\n",
    "\n",
    "df = hvsampledata.penguins(\"pandas\")\n",
    "\n",
    "df.hvplot.scatter(\n",
    "    x='bill_length_mm', y='bill_depth_mm', by='species',\n",
    "    fontsize={'title': 22, 'xlabel': 16, 'ylabel': 18, 'ticks': 12},\n",
    "    title=\"Penguins Measurements by Species\"\n",
    ")"
   ]
  },
  {
   "cell_type": "markdown",
   "id": "20b26423",
   "metadata": {},
   "source": [
    "(option-grid)=\n",
    "## `grid`\n",
    "\n",
    "Turns grid lines on or off behind your data. By default grids are disabled; use `grid=True` to draw horizontal and vertical lines at each major tick mark."
   ]
  },
  {
   "cell_type": "code",
   "execution_count": null,
   "id": "633c39bd",
   "metadata": {},
   "outputs": [],
   "source": [
    "import hvplot.pandas  # noqa\n",
    "import hvsampledata\n",
    "\n",
    "df = hvsampledata.stocks(\"pandas\", engine_kwargs={\"index_col\" : \"date\"})\n",
    "\n",
    "plot1 = df.hvplot(group_label=\"Company\", width=400, title=\"Default: grid=False\")\n",
    "plot2 = df.hvplot(group_label=\"Company\", grid=True, width=400, title=\"grid=True\")\n",
    "\n",
    "plot1 + plot2"
   ]
  }
 ],
 "metadata": {
  "language_info": {
   "name": "python",
   "pygments_lexer": "ipython3"
  }
 },
 "nbformat": 4,
 "nbformat_minor": 5
}
