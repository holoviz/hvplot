{
 "cells": [
  {
   "cell_type": "markdown",
   "id": "5fb7798b-4c96-44e7-9822-6da31cd9ceba",
   "metadata": {},
   "source": [
    "# Styling Options\n",
    "\n",
    "\n",
    "```{eval-rst}\n",
    ".. plotting-options-table:: Styling Options\n",
    "```"
   ]
  },
  {
   "cell_type": "markdown",
   "id": "1f05c88c-9ba7-4a2c-8f61-24ed4c0fd3cf",
   "metadata": {},
   "source": [
    "(option-bgcolor)=\n",
    "## `bgcolor`\n",
    "\n",
    "The `bgcolor` option sets the background color of the data area of the plot. It accepts any valid CSS color string such as 'white', 'lightgray', or hex codes like '#f0f0f0'. This can be useful to improve contrast or match the theme of a larger dashboard or presentation."
   ]
  },
  {
   "cell_type": "code",
   "execution_count": null,
   "id": "5f05fd7d-bf2d-472b-b049-85ade434c653",
   "metadata": {},
   "outputs": [],
   "source": [
    "import hvplot.pandas  # noqa\n",
    "import hvsampledata\n",
    "\n",
    "df = hvsampledata.earthquakes(\"pandas\")\n",
    "\n",
    "df.hvplot.scatter(\n",
    "    x='lon',\n",
    "    y='lat',\n",
    "    c='mag',\n",
    "    cmap='inferno_r',\n",
    "    bgcolor='#f5f5f5',  # light gray background\n",
    "    title=\"Earthquake Magnitudes by Location\"\n",
    ")"
   ]
  },
  {
   "cell_type": "markdown",
   "id": "ebc3e58d-2f6e-4ea5-8958-f21446e9a8a6",
   "metadata": {},
   "source": [
    "(option-color)=\n",
    "## `color`\n",
    "\n",
    "The `color` option sets the color of the plotted elements. It accepts:\n",
    "- A single color name or hex code (e.g., 'red', '#1f77b4') to apply uniformly.\n",
    "- A list of colors to cycle through when plotting multiple groups.\n",
    "- A column name to map colors to values, enabling color encoding.\n",
    "- An array-like object to assign individual colors.\n",
    "\n",
    "If both `color` and `c` are provided, `color` takes precedence. For categorical data, hvPlot automatically uses a discrete colormap unless overridden."
   ]
  },
  {
   "cell_type": "code",
   "execution_count": null,
   "id": "eb51c665-3b3a-4425-b71a-0723e19cb35f",
   "metadata": {},
   "outputs": [],
   "source": [
    "import hvplot.pandas  # noqa\n",
    "import hvsampledata\n",
    "\n",
    "df = hvsampledata.penguins(\"pandas\")\n",
    "\n",
    "# Color by species column\n",
    "df.hvplot.scatter(\n",
    "    x=\"flipper_length_mm\",\n",
    "    y=\"body_mass_g\",\n",
    "    color=\"species\",\n",
    "    title=\"Penguins Body Mass by Flipper Length\"\n",
    ")"
   ]
  },
  {
   "cell_type": "markdown",
   "id": "7a03fc23-d338-44df-9777-9f06ad1096eb",
   "metadata": {},
   "source": [
    "(option-c)=\n",
    "## `c`\n",
    "\n",
    "Alias for [`color`](option-color) above."
   ]
  },
  {
   "cell_type": "markdown",
   "id": "3a1bc8fd-4667-483c-996a-d015da754cff",
   "metadata": {},
   "source": [
    "(option-cmap)=\n",
    "## `cmap`\n",
    "\n",
    "The `cmap` option controls the colormap used when mapping numerical or categorical data values to color. It supports:\n",
    "- Named colormaps (e.g., 'viridis', 'plasma', 'coolwarm')\n",
    "- Lists of color strings or hex codes (for custom sequences)\n",
    "- Dictionaries (for categorical color mappings)\n",
    "- Colormap objects from Matplotlib or HoloViews\n",
    "\n",
    "hvPlot selects a default colormap based on the data type, but cmap lets you override this behavior. Only one of `cmap`, `colormap`, or `color_key` should be used at a time."
   ]
  },
  {
   "cell_type": "code",
   "execution_count": null,
   "id": "3c66bedd-6ec9-40ce-8c6b-2c5cf9526c5c",
   "metadata": {},
   "outputs": [],
   "source": [
    "import hvplot.pandas  # noqa\n",
    "import hvsampledata\n",
    "\n",
    "df = hvsampledata.earthquakes(\"pandas\")\n",
    "\n",
    "# Use a continuous colormap for magnitude\n",
    "df.hvplot.scatter(\n",
    "    x=\"lon\",\n",
    "    y=\"lat\",\n",
    "    c=\"mag\",\n",
    "    cmap=\"plasma_r\",\n",
    "    title=\"Earthquakes Colored by Magnitude\"\n",
    ")"
   ]
  },
  {
   "cell_type": "markdown",
   "id": "1c34a309-d7c0-423e-adc7-9743f3d7a331",
   "metadata": {},
   "source": [
    "(option-colormap)=\n",
    "## `colormap`\n",
    "\n",
    "Alias for [`cmap`](option-cmap) above."
   ]
  },
  {
   "cell_type": "markdown",
   "id": "3290b419-10a3-4d2b-ac99-0e50c644fbcc",
   "metadata": {},
   "source": [
    "(option-color_key)=\n",
    "## `color_key`\n",
    "\n",
    "The `color_key` option defines a categorical color mapping, primarily used with `datashade=True`. It maps distinct categories in your dataset to specific colors.\n",
    "\n",
    "It accepts:\n",
    "- A list of colors (matched to unique categories in order)\n",
    "- A dictionary mapping category values to colors\n",
    "\n",
    "If not provided, hvPlot uses a default categorical colormap. Only one of `cmap`, `colormap`, or `color_key` should be used at a time."
   ]
  },
  {
   "cell_type": "code",
   "execution_count": null,
   "id": "c7c13149-05de-4fcd-96eb-6bd6e84dea06",
   "metadata": {},
   "outputs": [],
   "source": [
    "import hvplot.pandas  # noqa\n",
    "import hvsampledata\n",
    "\n",
    "df = hvsampledata.earthquakes(\"pandas\")\n",
    "\n",
    "# Define explicit color mapping for depth_class\n",
    "depth_colors = {\n",
    "    'Shallow': '#33ff58',\n",
    "    'Intermediate': '#ffc300',\n",
    "    'Deep': '#f74a64'\n",
    "}\n",
    "\n",
    "df.hvplot.scatter(\n",
    "    x='lon',\n",
    "    y='lat',\n",
    "    c='depth_class',\n",
    "    color_key=depth_colors,\n",
    "    title=\"Earthquakes with Custom Color Key\"\n",
    ")"
   ]
  },
  {
   "cell_type": "markdown",
   "id": "b27eb1cc-3a6e-400b-816d-094a22bffac9",
   "metadata": {},
   "source": [
    "(option-clim)=\n",
    "## `clim`\n",
    "\n",
    "The `clim` option sets the lower and upper bounds of the color scale for continuous color mapping. It accepts a tuple like (min, max) and is useful when:\n",
    "- You want consistent color scaling across multiple plots.\n",
    "- You want to clip outliers or focus on a specific data range.\n",
    "\n",
    "If `clim` is not specified, the color scale is determined from the data (or percentiles if `robust=True`)."
   ]
  },
  {
   "cell_type": "code",
   "execution_count": null,
   "id": "74d74cec-a37a-4be3-b8e2-9a607e20590d",
   "metadata": {},
   "outputs": [],
   "source": [
    "import hvplot.pandas  # noqa\n",
    "import hvsampledata\n",
    "\n",
    "df = hvsampledata.earthquakes(\"pandas\")\n",
    "\n",
    "# Clamp the color scale to between 4.0 and 6.0\n",
    "df.hvplot.scatter(\n",
    "    x='lon',\n",
    "    y='lat',\n",
    "    c='mag',\n",
    "    cmap='viridis',\n",
    "    clim=(4.5, 6.5),\n",
    "    title=\"Earthquakes with Clipped Magnitude Scale\"\n",
    ") # It doesn't look like it worked"
   ]
  },
  {
   "cell_type": "markdown",
   "id": "ffefa45e-7fe7-49f8-8e38-9ba5f6ecd275",
   "metadata": {},
   "source": [
    "::: {seealso}\n",
    "[`robust`](option-robust).\n",
    ":::"
   ]
  },
  {
   "cell_type": "markdown",
   "id": "35b5e132-8fde-4637-8289-e29bc0bb4cb5",
   "metadata": {},
   "source": [
    "(option-cnorm)=\n",
    "## `cnorm`\n",
    "\n",
    "The `cnorm` option controls how data values are mapped to colors in a colormap. It affects the distribution of colors across the range of values.\n",
    "\n",
    "Accepted values:\n",
    "- 'linear' (default): evenly maps values across the colormap.\n",
    "- 'log': applies logarithmic scaling, useful for data with large dynamic range.\n",
    "- 'eq_hist': uses histogram equalization to emphasize contrast in sparse or skewed data."
   ]
  },
  {
   "cell_type": "code",
   "execution_count": null,
   "id": "18379de6-42dd-4e1d-9a6c-740c6fe226a7",
   "metadata": {},
   "outputs": [],
   "source": [
    "import hvplot.pandas  # noqa\n",
    "import hvsampledata\n",
    "\n",
    "df = hvsampledata.earthquakes(\"pandas\")\n",
    "\n",
    "df.hvplot.scatter(\n",
    "    x='lon',\n",
    "    y='lat',\n",
    "    c='depth',\n",
    "    cmap='inferno_r',\n",
    "    bgcolor='#f5f5f5',\n",
    "    cnorm='eq_hist',\n",
    "    title=\"Earthquakes with Histogram Equalization color scaling\"\n",
    ")"
   ]
  },
  {
   "cell_type": "markdown",
   "id": "7dc82357-e05f-4313-9599-8b7eeb0ac2ff",
   "metadata": {},
   "source": [
    ":::{tip}\n",
    "Change the `cnorm` value to 'log' and then 'linear' to see how the color distribution changes\n",
    ":::"
   ]
  },
  {
   "cell_type": "markdown",
   "id": "881751c3-4dc2-4027-9b7f-147fbe64a4f6",
   "metadata": {},
   "source": [
    "(option-fontscale)=\n",
    "## `fontscale`\n",
    "\n",
    "The `fontscale` option scales all the fonts in the plot by the provided numeric factor. For example, setting `fontscale=1.5` enlarges the title, tick labels, and axis labels by 50%. This is useful when you want to emphasize text for presentations or detailed viewing."
   ]
  },
  {
   "cell_type": "code",
   "execution_count": null,
   "id": "c1ddd044-1771-43a3-a09d-580749371644",
   "metadata": {},
   "outputs": [],
   "source": [
    "import hvplot.pandas  # noqa\n",
    "import hvsampledata\n",
    "\n",
    "df = hvsampledata.penguins(\"pandas\")\n",
    "df.hvplot.scatter(\n",
    "    x='bill_length_mm',\n",
    "    y='bill_depth_mm',\n",
    "    by='species',\n",
    "    fontscale=1.5,\n",
    "    title=\"Penguins Species\"\n",
    ")"
   ]
  },
  {
   "cell_type": "markdown",
   "id": "ee479a25-5270-4b60-91c3-5da24ae2a501",
   "metadata": {},
   "source": [
    "(option-fontsize)=\n",
    "## `fontsize`\n",
    "\n",
    "The `fontsize` option sets the font size for different text elements in the plot. It can be:\n",
    "- A single value (e.g. 12, '14pt', or '10px') to apply to all text.\n",
    "- A dictionary to control individual elements like title, axes labels, or ticks.\n",
    "Example: {'title': '15pt', 'xlabel': '12pt', 'ylabel': '12pt', 'ticks': 10}\n",
    "\n",
    "Use this for precise control over text appearance, especially in static reports or dense layouts."
   ]
  },
  {
   "cell_type": "code",
   "execution_count": null,
   "id": "722250c2-6461-4934-ab19-e8ef3cf3b2e0",
   "metadata": {},
   "outputs": [],
   "source": [
    "import hvplot.pandas  # noqa\n",
    "import hvsampledata\n",
    "\n",
    "df = hvsampledata.penguins(\"pandas\")\n",
    "\n",
    "df.hvplot.scatter(\n",
    "    x='bill_length_mm',\n",
    "    y='bill_depth_mm',\n",
    "    by='species',\n",
    "    fontsize={'title': '16pt', 'xlabel': '12pt', 'ylabel': '14pt', 'ticks': 10},\n",
    "    title=\"Penguins Measurements by Species\"\n",
    ")"
   ]
  },
  {
   "cell_type": "markdown",
   "id": "2b7b0baa-bcc9-4195-b721-84dca8006cbe",
   "metadata": {},
   "source": [
    "(option-rescale_discrete_levels)=\n",
    "## `rescale_discrete_levels`\n",
    "\n",
    "The `rescale_discrete_levels` option improves the visual contrast of discrete values when using `cnorm='eq_hist'`. By default, it adjusts the lower bound of the colormap so that non-zero values appear higher on the scale–helpful when low counts would otherwise appear faded.\n",
    "\n",
    "This only has an effect if:\n",
    "- `cnorm='eq_hist'` is set\n",
    "- The color values are discrete (e.g., counts or categories)."
   ]
  },
  {
   "cell_type": "code",
   "execution_count": null,
   "id": "8f08a504-dde4-435c-acf2-2e77449b402c",
   "metadata": {},
   "outputs": [],
   "source": [
    "import hvplot.pandas  # noqa\n",
    "import hvsampledata\n",
    "\n",
    "df = hvsampledata.earthquakes(\"pandas\")\n",
    "\n",
    "# Simulate discrete values by binning magnitude\n",
    "df['mag_bin'] = df['mag'].round()\n",
    "\n",
    "df.hvplot.scatter(\n",
    "    x='lon',\n",
    "    y='lat',\n",
    "    c='mag_bin',\n",
    "    cmap='viridis_r',\n",
    "    cnorm='eq_hist',\n",
    "    rescale_discrete_levels=True,\n",
    "    title=\"Earthquakes with Histogram-Equalized Discrete Color Scaling\"\n",
    ")"
   ]
  },
  {
   "cell_type": "markdown",
   "id": "353f7840-ab51-4ba5-a89c-78415c43fca3",
   "metadata": {
    "tags": []
   },
   "source": [
    "(option-robust)=\n",
    "## `robust`\n",
    "\n",
    "The `robust` option adjusts how the colormap range is computed for image plots. When set to `True` and no explicit color limits (`clim`) are provided, hvPlot calculates the color limits based on the 2nd and 98th percentiles rather than the extreme minimum and maximum values, reducing the impact of outliers."
   ]
  },
  {
   "cell_type": "code",
   "execution_count": null,
   "id": "40221654-a338-4533-9a5a-6cd29e28a94d",
   "metadata": {},
   "outputs": [],
   "source": [
    "import hvsampledata\n",
    "import hvplot.xarray  # noqa\n",
    "\n",
    "ds = hvsampledata.air_temperature(\"xarray\").sel(time=\"2014-02-25 12:00\")\n",
    "\n",
    "plot1 = ds.hvplot.image(width=350)\n",
    "plot2 = ds.hvplot.image(robust=True, width=350)\n",
    "\n",
    "plot1 + plot2"
   ]
  },
  {
   "cell_type": "markdown",
   "id": "9d9133b9-38f9-425f-a1fd-899f31f620ac",
   "metadata": {},
   "source": [
    "Notice how the colorbar in the second plot is now clipped to within the range of 240 to 290."
   ]
  },
  {
   "cell_type": "markdown",
   "id": "2577d4dd-3822-4b86-980b-3692eb3f73dd",
   "metadata": {},
   "source": [
    "(option-symmetric)=\n",
    "## `symmetric`\n",
    "\n",
    "The `symmetric` option controls whether the colormap range is centered around zero. If you do not explicitly set `symmetric=True` and no color limits are provided via `clim`, hvPlot automatically checks your data by computing the 5th and 95th percentiles. If the 5th percentile is below 0 and the 95th percentile is above 0, the option is enabled so that the colormap is balanced about 0.\n",
    "\n",
    "::: {note}\n",
    "For lazily loaded or very large xarray datasets, this check is skipped for performance reasons and defaults to `False`.\n",
    ":::"
   ]
  },
  {
   "cell_type": "code",
   "execution_count": null,
   "id": "9b53e6d2-d877-46bb-ab6b-c7089148dab2",
   "metadata": {},
   "outputs": [],
   "source": [
    "import hvplot.xarray  # noqa\n",
    "import hvsampledata\n",
    "\n",
    "ds = hvsampledata.air_temperature(\"xarray\")\n",
    "# Select a single date and convert to Celsius to get\n",
    "# both negative and positive values around 0\n",
    "data = ds.sel(time='2014-02-25 12:00') - 273\n",
    "plot1 = data.hvplot.image(title=\"Symmetric True by default\", width=350)\n",
    "plot2 = data.hvplot.image(symmetric=False, title=\"Symmetric=False\", width=350)\n",
    "\n",
    "plot1 + plot2"
   ]
  },
  {
   "cell_type": "markdown",
   "id": "636c5a77-94a7-4faa-ae9b-ffeb9c3b3bf8",
   "metadata": {},
   "source": [
    "In this example, the left image uses the symmetric colormap scaling (centered at zero), while the right image shows the default color scaling without enforcing symmetry. Notice that when the temperature values are symmetric around 0, the “coolwarm” colormap is used by default."
   ]
  },
  {
   "cell_type": "markdown",
   "id": "65477e9f-4a98-46ba-9734-26174da09a87",
   "metadata": {},
   "source": [
    "(option-check_symmetric_max)=\n",
    "## `check_symmetric_max`\n",
    "\n",
    "The `check_symmetric_max` option sets an upper limit on the number of data elements for which the automatic symmetry check is performed. When the dataset’s size exceeds this threshold, hvPlot skips the symmetry check and defaults to treating the data as non-symmetric. By default this limit is **1,000,000** elements which usually works well for most datasets. However, you can adjust it if you want to force or avoid the symmetric check for smaller or larger datasets."
   ]
  },
  {
   "cell_type": "code",
   "execution_count": null,
   "id": "e9be88ac-fbeb-4f1c-abca-270d1cc60347",
   "metadata": {},
   "outputs": [],
   "source": [
    "import hvplot.xarray  # noqa\n",
    "import hvsampledata\n",
    "\n",
    "ds = hvsampledata.air_temperature(\"xarray\").sel(time=\"2014-02-25 12:00\")\n",
    "\n",
    "plot1 = (ds - 273).hvplot.image(width=350, title=\"Default check for symmetry\")\n",
    "plot2 = (ds - 273).hvplot.image(check_symmetric_max=10, width=350, title=\"Avoid symmetry check above 10\")\n",
    "\n",
    "plot1 + plot2"
   ]
  }
 ],
 "metadata": {
  "language_info": {
   "name": "python",
   "pygments_lexer": "ipython3"
  }
 },
 "nbformat": 4,
 "nbformat_minor": 5
}
