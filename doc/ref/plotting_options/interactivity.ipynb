{
 "cells": [
  {
   "cell_type": "markdown",
   "id": "3418e1c4-390c-4d91-9845-20bd4521a0e7",
   "metadata": {},
   "source": [
    "# Interactivity Options\n",
    "\n",
    "```{eval-rst}\n",
    ".. plotting-options-table:: Interactivity Options\n",
    "```"
   ]
  },
  {
   "cell_type": "markdown",
   "id": "111051e1-7835-471f-a30f-f46d17194d3a",
   "metadata": {},
   "source": [
    "(options-hover)=\n",
    "## `hover`\n",
    "\n",
    "Enables or disables hover tooltips on the plot.\n",
    "\n",
    "This option is True by default for most plots, but is automatically set to False when `datashade=True` since [Datashader](https://datashader.org/) returns an image that doesn’t support interactivity.\n",
    "\n",
    "If you’re using `datashade=True` and still want interactivity, consider alternatives like using `rasterize=True` or combining datashade with [dynspread](https://datashader.org/api.html#datashader.transfer_functions.dynspread) and overlays that retain interactivity.\n",
    "\n",
    "::: {note}\n",
    "- errorbars plots: Hover is always disabled because Bokeh’s annotation glyphs (used for error bars) don’t support hover interaction.\n",
    "- ohlc plots: Hover is enabled by default, but tooltips may not display all expected information due to limitations in how Bokeh renders complex glyphs.\n",
    ":::"
   ]
  },
  {
   "cell_type": "code",
   "execution_count": null,
   "id": "da0bfb04-d546-4bad-bd34-3a9ba17fbcd7",
   "metadata": {},
   "outputs": [],
   "source": [
    "import hvplot.pandas  # noqa\n",
    "import hvsampledata\n",
    "\n",
    "df = hvsampledata.penguins(\"pandas\")\n",
    "\n",
    "opts = dict(\n",
    "    x='bill_length_mm',\n",
    "    y='bill_depth_mm',\n",
    "    by='species',\n",
    "    frame_width=250,\n",
    ")\n",
    "\n",
    "plot1 = df.hvplot.scatter(title='Scatter with hover tool (Default)', **opts)\n",
    "plot2 = df.hvplot.scatter(hover=False, title='Scatter without hover tool', **opts)\n",
    "\n",
    "plot1 + plot2"
   ]
  },
  {
   "cell_type": "markdown",
   "id": "30839bfb-e814-42d8-bac6-d61b5b84cead",
   "metadata": {},
   "source": [
    "(options-hover_cols)=\n",
    "## `hover_cols`\n",
    "\n",
    "Specifies additional columns from the dataset to be shown in the hover tooltip.\n",
    "- Accepts a list of column names, a single column name as a string, or 'all' to include all available columns.\n",
    "- When set to 'all', it includes index columns only if `use_index=True`.\n",
    "- Ignored for `datashade=True` plots, as those do not support interactivity.\n",
    "\n",
    "::: {note} \n",
    "`hover_cols` complements the default dimensions shown in the tooltip but does not override them.\n",
    ":::"
   ]
  },
  {
   "cell_type": "code",
   "execution_count": null,
   "id": "028678e4-0bbf-4eee-b39e-7aef71f1de2f",
   "metadata": {},
   "outputs": [],
   "source": [
    "import hvplot.pandas  # noqa\n",
    "import hvsampledata\n",
    "\n",
    "df = hvsampledata.penguins(\"pandas\")\n",
    "\n",
    "opts = dict(\n",
    "    x='bill_length_mm',\n",
    "    y='bill_depth_mm',\n",
    "    by='species',\n",
    "    frame_width=250,\n",
    ")\n",
    "\n",
    "plot1 = df.hvplot.scatter(title='Default hover_cols', **opts)\n",
    "plot2 = df.hvplot.scatter(\n",
    "    hover_cols=['sex', 'body_mass_g'], title='Additional hover columns', **opts\n",
    ")\n",
    "plot3 = df.hvplot.scatter(\n",
    "    hover_cols='all', title='All hover columns', **opts\n",
    ")\n",
    "\n",
    "plot4 = df.hvplot.scatter(\n",
    "    hover_cols='all',\n",
    "    use_index=False,\n",
    "    title='All hover columns without index',\n",
    "    **opts\n",
    ")\n",
    "\n",
    "(plot1 + plot2 + plot3 + plot4).cols(2)"
   ]
  },
  {
   "cell_type": "markdown",
   "id": "2560fd13-ccc7-4be1-805f-08f60912c487",
   "metadata": {},
   "source": [
    "Hover on the points in each of the examples to see the displayed hover information."
   ]
  },
  {
   "cell_type": "markdown",
   "id": "3e2e2707-5c15-4ae5-bc4d-dc3f14bee454",
   "metadata": {},
   "source": [
    "(options-hover_formatters)=\n",
    "## `hover_formatters`\n",
    "\n",
    "A dictionary that controls how values appear in hover tooltips. Keys are column names or dimensions. Values must be one of:\n",
    "- 'numeral' – for abbreviated numbers (e.g. 1k, 3.2M)\n",
    "- 'datetime' – for date/time values\n",
    "- 'printf' – for precision control like '%.2f'\n",
    "- CustomJSHover – for custom JavaScript formatting logic\n"
   ]
  },
  {
   "cell_type": "code",
   "execution_count": null,
   "id": "7a7871fa-636f-4fb0-9c36-db7bf3fd2832",
   "metadata": {},
   "outputs": [],
   "source": [
    "import hvplot.pandas  # noqa\n",
    "import hvsampledata\n",
    "\n",
    "df = hvsampledata.stocks(\"pandas\")\n",
    "\n",
    "plot1 = df.hvplot.line(x='date', frame_width=300,)\n",
    "\n",
    "plot2 = df.hvplot.line(x='date',\n",
    "    hover_tooltips=[\n",
    "        ('Company', '@{Variable}'),\n",
    "        ('Date', '@{date}{%b %Y}'),\n",
    "        ('Price', '@{value}{$0.2f}')\n",
    "],\n",
    "frame_width=300,\n",
    ")\n",
    "\n",
    "plot1 + plot2"
   ]
  },
  {
   "cell_type": "markdown",
   "id": "0daabb1e-0ea6-4d81-8f4c-1213d271ee84",
   "metadata": {},
   "source": [
    "::: {seealso}\n",
    "See [`bokeh formatters`](https://docs.bokeh.org/en/latest/docs/reference/models/formatters.html) for more information about the formatter types.\n",
    ":::"
   ]
  },
  {
   "cell_type": "markdown",
   "id": "eb86944e-467a-4c01-a9b5-46cf09a0bb63",
   "metadata": {},
   "source": [
    "(options-hover_tooltips)=\n",
    "## `hover_tooltips`\n",
    "\n",
    "Controls the contents and layout of the hover tooltip using a list of tooltips. Each tooltip is either:\n",
    "- A 2-tuple like (\"label\", \"@<column_name>\"), or\n",
    "- A string representing a Bokeh field (e.g., \"@<column_name>\")\n",
    "\n",
    "If set, it overrides the default auto-generated tooltips.\n",
    "\n",
    "::: {tip} \n",
    "Be sure to use @-prefixed column names inside each tooltip.\n",
    ":::\n"
   ]
  },
  {
   "cell_type": "code",
   "execution_count": null,
   "id": "df7a80d9-db4c-4353-9b61-2a274b9fbe04",
   "metadata": {},
   "outputs": [],
   "source": [
    "import hvplot.pandas  # noqa\n",
    "import hvsampledata\n",
    "\n",
    "df = hvsampledata.penguins(\"pandas\")\n",
    "\n",
    "opts = dict(\n",
    "    x='bill_length_mm',\n",
    "    y='bill_depth_mm',\n",
    "    hover_cols='body_mass_g', # add additional hover column\n",
    "    frame_width=250,\n",
    ")\n",
    "\n",
    "plot1 = df.hvplot.scatter(\n",
    "    hover_tooltips=[\n",
    "        ('Length (mm)', '@bill_length_mm'),\n",
    "        ('Depth (mm)', '@bill_depth_mm'),\n",
    "        ('Mass (g)', '@body_mass_g')\n",
    "    ],\n",
    "    title='Tooltips as list of tuples',\n",
    "    **opts\n",
    ")\n",
    "\n",
    "plot2 = df.hvplot.scatter(\n",
    "    hover_tooltips=[\n",
    "        '@bill_length_mm',\n",
    "        '@body_mass_g',\n",
    "    ], # show only these 2 columns in the tooltip\n",
    "    title='Tooltips as list of strings',\n",
    "    **opts\n",
    ")\n",
    "\n",
    "plot1 + plot2"
   ]
  },
  {
   "cell_type": "markdown",
   "id": "2a1fc016-b6bd-4ba9-bbbd-3a06660c93a8",
   "metadata": {},
   "source": [
    "(options-tools)=\n",
    "## `tools`\n",
    "A list of interactive tools to enable on the plot. These are Bokeh tool names or tool instances (e.g., `tap`, `box_select`, or `HoverTool()`). \n",
    "\n",
    "Tools typically appear as a vertical toolbar on the right-hand side of the plot. Common options include:\n",
    "- `hover` – show tooltips\n",
    "- `tap` – click to select points\n",
    "- `box_select`, `lasso_select` – select a region\n",
    "- `wheel_zoom`, `pan`, `reset` – for navigation\n",
    "\n",
    "The `hover` tool is automatically added by default when not already in `tools`."
   ]
  },
  {
   "cell_type": "code",
   "execution_count": null,
   "id": "ca916ac3-b5be-4add-aa35-7995fa6ad7d0",
   "metadata": {},
   "outputs": [],
   "source": [
    "import hvplot.pandas  # noqa\n",
    "import hvsampledata\n",
    "\n",
    "df = hvsampledata.penguins(\"pandas\")\n",
    "\n",
    "df.hvplot.scatter(\n",
    "    x='bill_length_mm',\n",
    "    y='bill_depth_mm',\n",
    "    tools=['tap', 'lasso_select'],\n",
    "    title='Interactive plot with additional tools'\n",
    ")"
   ]
  }
 ],
 "metadata": {
  "language_info": {
   "name": "python",
   "pygments_lexer": "ipython3"
  }
 },
 "nbformat": 4,
 "nbformat_minor": 5
}
