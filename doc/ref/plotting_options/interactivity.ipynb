{
 "cells": [
  {
   "cell_type": "markdown",
   "id": "3418e1c4-390c-4d91-9845-20bd4521a0e7",
   "metadata": {},
   "source": [
    "# Interactivity Options\n",
    "\n",
    "```{eval-rst}\n",
    ".. plotting-options-table:: Interactivity Options\n",
    "```"
   ]
  }
 ],
 "metadata": {
  "language_info": {
   "name": "python",
   "pygments_lexer": "ipython3"
  }
 },
 "nbformat": 4,
 "nbformat_minor": 5
}
