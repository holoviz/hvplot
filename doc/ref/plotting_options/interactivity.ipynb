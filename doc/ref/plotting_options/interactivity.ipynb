{
 "cells": [
  {
   "cell_type": "markdown",
   "id": "3418e1c4-390c-4d91-9845-20bd4521a0e7",
   "metadata": {},
   "source": [
    "# Interactivity Options\n",
    "\n",
    "```{eval-rst}\n",
    ".. plotting-options-table:: Interactivity Options\n",
    "```"
   ]
  },
  {
   "cell_type": "markdown",
   "id": "c715d684-32a5-4a4b-a903-08648775fc6f",
   "metadata": {},
   "source": [
    "::: {note}\n",
    "The *hover* and *tools* options introduced in this page are only compatible with the [Bokeh](plot-ext-bokeh) backend.\n",
    ":::"
   ]
  },
  {
   "cell_type": "markdown",
   "id": "111051e1-7835-471f-a30f-f46d17194d3a",
   "metadata": {},
   "source": [
    "(options-hover)=\n",
    "## `hover`\n",
    "\n",
    "Enables or disables hover tooltips on the plot, also accepts `'hline'` and `'vline'` to change the hit-testing mode.\n",
    "\n",
    "::: {note}\n",
    "This option is `True` by default for most plots, but is automatically set to `False` when [`datashade=True`](option-datashade) and [`selector`](option-selector) is not set, since no relevant data can be displayed as HoloViews returns to the front-end an RGB element that doesn’t include the aggregated data. If you’re using `datashade=True` and still want interactivity, consider alternatives like using [`rasterize=True`](option-rasterize), combining `datashade` with [`dynspread`](option-dynspread), or enabling [`resample_when`](option-resample_when).\n",
    ":::\n",
    "\n",
    "::: {note}\n",
    "- `errorbars` plots: Hover is always disabled because Bokeh’s annotation glyphs (used for error bars) don’t support hover interaction.\n",
    ":::"
   ]
  },
  {
   "cell_type": "code",
   "execution_count": null,
   "id": "da0bfb04-d546-4bad-bd34-3a9ba17fbcd7",
   "metadata": {},
   "outputs": [],
   "source": [
    "import hvplot.pandas  # noqa\n",
    "import hvsampledata\n",
    "\n",
    "df = hvsampledata.penguins(\"pandas\")\n",
    "\n",
    "opts = dict(\n",
    "    x='bill_length_mm',\n",
    "    y='bill_depth_mm',\n",
    "    by='species',\n",
    "    frame_width=250,\n",
    ")\n",
    "\n",
    "plot1 = df.hvplot.scatter(title='Scatter with hover tool (Default)', **opts)\n",
    "plot2 = df.hvplot.scatter(hover=False, title='Scatter without hover tool', **opts)\n",
    "\n",
    "plot1 + plot2"
   ]
  },
  {
   "cell_type": "markdown",
   "id": "0bd3d86b-b390-4193-97eb-74d67e212f62",
   "metadata": {},
   "source": [
    "Particularly useful for time series plots, `hover='vline'` displays tooltips with data collected from points that intersect vertically with the cursor."
   ]
  },
  {
   "cell_type": "code",
   "execution_count": null,
   "id": "c3e57a8f-b94a-4182-a3ea-7f7aab15199d",
   "metadata": {},
   "outputs": [],
   "source": [
    "import hvplot.pandas  # noqa\n",
    "import hvsampledata\n",
    "\n",
    "df = hvsampledata.stocks(\"pandas\").set_index(\"date\")[\"Apple\"]\n",
    "\n",
    "df.hvplot.line(hover=\"vline\", title=\"hover with vline mode\")"
   ]
  },
  {
   "cell_type": "markdown",
   "id": "30839bfb-e814-42d8-bac6-d61b5b84cead",
   "metadata": {},
   "source": [
    "(options-hover_cols)=\n",
    "## `hover_cols`\n",
    "\n",
    "Specifies additional columns from the dataset to be shown in the hover tooltip.\n",
    "- Accepts a list of column names, a single column name as a string, or 'all' to include all available columns.\n",
    "- When set to 'all', it includes index columns only if [`use_index=True`](option-use_index).\n",
    "\n",
    "::: {note} \n",
    "`hover_cols` complements the default dimensions shown in the tooltip but does not override them.\n",
    ":::"
   ]
  },
  {
   "cell_type": "code",
   "execution_count": null,
   "id": "028678e4-0bbf-4eee-b39e-7aef71f1de2f",
   "metadata": {},
   "outputs": [],
   "source": [
    "import hvplot.pandas  # noqa\n",
    "import hvsampledata\n",
    "\n",
    "df = hvsampledata.penguins(\"pandas\")\n",
    "\n",
    "opts = dict(\n",
    "    x='bill_length_mm',\n",
    "    y='bill_depth_mm',\n",
    "    by='species',\n",
    "    frame_width=250,\n",
    ")\n",
    "\n",
    "plot1 = df.hvplot.scatter(title='Default hover_cols', **opts)\n",
    "plot2 = df.hvplot.scatter(\n",
    "    hover_cols=['sex', 'body_mass_g'], title='Additional hover columns', **opts\n",
    ")\n",
    "plot3 = df.hvplot.scatter(\n",
    "    hover_cols='all', title='All hover columns', **opts\n",
    ")\n",
    "\n",
    "plot4 = df.hvplot.scatter(\n",
    "    hover_cols='all',\n",
    "    use_index=False,\n",
    "    title='All hover columns without index',\n",
    "    **opts\n",
    ")\n",
    "\n",
    "(plot1 + plot2 + plot3 + plot4).cols(2)"
   ]
  },
  {
   "cell_type": "markdown",
   "id": "2560fd13-ccc7-4be1-805f-08f60912c487",
   "metadata": {},
   "source": [
    "Hover on the points in each of the examples to see the displayed hover information."
   ]
  },
  {
   "cell_type": "markdown",
   "id": "eb86944e-467a-4c01-a9b5-46cf09a0bb63",
   "metadata": {},
   "source": [
    "(options-hover_tooltips)=\n",
    "## `hover_tooltips`\n",
    "\n",
    "Controls the contents and layout of the hover tooltip using a list of tooltips. Each tooltip is a 2-tuple like `(\"label\", \"@<column_name>\")` used for specifying the name and format of the hover tooltip.\n",
    "\n",
    "Formatting options in the tooltips can be one of:\n",
    "\n",
    "- numeral format – for abbreviated numbers (e.g. 1k, 3.2M)\n",
    "- datetime format – for date/time values\n",
    "- printf format – for precision control like \"%.2f\"\n",
    "\n",
    "If set, it overrides the default auto-generated tooltips.\n",
    "\n",
    "::: {tip} \n",
    "Be sure to use @-prefixed dimension names inside each tooltip for the dimension names.\n",
    ":::\n"
   ]
  },
  {
   "cell_type": "code",
   "execution_count": null,
   "id": "df7a80d9-db4c-4353-9b61-2a274b9fbe04",
   "metadata": {},
   "outputs": [],
   "source": [
    "import hvplot.pandas  # noqa\n",
    "import hvsampledata\n",
    "\n",
    "df = hvsampledata.stocks(\"pandas\")\n",
    "\n",
    "opts = dict(\n",
    "    x='date',\n",
    "    frame_width=250,\n",
    "    group_label=\"Company\" # rename group label\n",
    ")\n",
    "\n",
    "plot1 = df.hvplot.line(**opts, title=\"Default hover tooltips\")\n",
    "\n",
    "plot2 = df.hvplot.line(\n",
    "    hover_tooltips=[\n",
    "        (\"Company\", \"@Company\"), # No formatting\n",
    "        (\"Date\", \"@date{%b %Y}\"), # datetime format to Month Year style\n",
    "        (\"Price\", \"@value{$0.0f}\"), # printf format to 2 decimal\n",
    "    ],\n",
    "    title=\"Customized hover tooltips\",\n",
    "    **opts\n",
    ")\n",
    "plot1 + plot2"
   ]
  },
  {
   "cell_type": "markdown",
   "id": "069d4a51-b1bf-41ee-ade3-9a5d8a65f935",
   "metadata": {},
   "source": [
    "::: {seealso}\n",
    "See [`bokeh formatters`](https://docs.bokeh.org/en/latest/docs/user_guide/interaction/tools.html#formatting-tooltip-fields) for more information about formatting the tooltips.\n",
    ":::"
   ]
  },
  {
   "cell_type": "markdown",
   "id": "2a1fc016-b6bd-4ba9-bbbd-3a06660c93a8",
   "metadata": {},
   "source": [
    "(options-tools)=\n",
    "## `tools`\n",
    "A list of interactive tools to enable on the plot. These are Bokeh tool names or tool instances (e.g., `tap`, `box_select`, or `HoverTool()`). \n",
    "\n",
    "Tools typically appear as a vertical toolbar on the right-hand side of the plot. Common options include:\n",
    "- `hover` – show tooltips\n",
    "- `tap` – click to select points\n",
    "- `box_select`, `lasso_select` – select a region\n",
    "- `wheel_zoom`, `pan`, `reset` – for navigation\n",
    "\n",
    "The `hover` tool is automatically added by default when not already in `tools`."
   ]
  },
  {
   "cell_type": "code",
   "execution_count": null,
   "id": "ca916ac3-b5be-4add-aa35-7995fa6ad7d0",
   "metadata": {},
   "outputs": [],
   "source": [
    "import hvplot.pandas  # noqa\n",
    "import hvsampledata\n",
    "\n",
    "df = hvsampledata.penguins(\"pandas\")\n",
    "\n",
    "df.hvplot.scatter(\n",
    "    x='bill_length_mm',\n",
    "    y='bill_depth_mm',\n",
    "    tools=['tap', 'lasso_select'],\n",
    "    title='Interactive plot with additional tools'\n",
    ")"
   ]
  },
  {
   "cell_type": "markdown",
   "id": "86796d94-6a6a-46d3-94c7-5e8af3f80370",
   "metadata": {},
   "source": [
    "(options-widget_location)=\n",
    "## `widget_location`\n",
    "\n",
    "Control where widgets appear. Valid values are `'right'` (default), `'left'`, `'bottom'`, `'right'`, `'top'`, `'top_left'`, `'top_right'`, `'bottom_left'`, `'bottom_right'`, `'left_top'`, `'left_bottom'`, `'right_top'`, `'right_bottom'`.\n",
    "\n",
    "::: {warning}\n",
    "When this option is set the object returned is no longer a HoloViews object but a Panel layout. In the future we hope to address that, follow [this issue](https://github.com/holoviz/holoviews/issues/6590) for more information.\n",
    ":::"
   ]
  },
  {
   "cell_type": "code",
   "execution_count": null,
   "id": "4fcee759-3c44-4cc1-a702-4c8f74e66798",
   "metadata": {},
   "outputs": [],
   "source": [
    "import hvplot.pandas  # noqa\n",
    "import hvsampledata\n",
    "\n",
    "df = hvsampledata.penguins(\"pandas\")\n",
    "\n",
    "opts = dict(\n",
    "    x='bill_length_mm',\n",
    "    y='bill_depth_mm',\n",
    "    groupby='species',\n",
    "    frame_width=250,\n",
    ")\n",
    "\n",
    "df.hvplot.scatter(title='Default widget location', **opts)"
   ]
  },
  {
   "cell_type": "code",
   "execution_count": null,
   "id": "051907a5-bcfc-44e7-9d7f-562d307f18ab",
   "metadata": {},
   "outputs": [],
   "source": [
    "df.hvplot.scatter(\n",
    "    widget_location='top',\n",
    "    title='Widget on the top',\n",
    "    **opts\n",
    ")"
   ]
  }
 ],
 "metadata": {
  "language_info": {
   "name": "python",
   "pygments_lexer": "ipython3"
  }
 },
 "nbformat": 4,
 "nbformat_minor": 5
}
