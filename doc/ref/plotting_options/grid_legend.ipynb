{
 "cells": [
  {
   "cell_type": "markdown",
   "id": "48c92d94-f7f0-4d07-b96b-4eeae31df55f",
   "metadata": {},
   "source": [
    "# Grid and Legend Options\n",
    "\n",
    "```{eval-rst}\n",
    ".. plotting-options-table:: Grid and Legend Options\n",
    "```"
   ]
  },
  {
   "cell_type": "markdown",
   "id": "80d84d3f-9354-4e6a-a170-708bf5601aa5",
   "metadata": {},
   "source": [
    "(option-colorbar)=\n",
    "## `colorbar`\n",
    "\n",
    "Toggles the display of a colorbar alongside your plot. By default, some plots (e.g. heatmap, image, contour) show a colorbar when mapping a numerical dimension to color. Setting `colorbar=False` will hide it, while `colorbar=True` forces it on even for rasterized or non-default cases."
   ]
  },
  {
   "cell_type": "code",
   "execution_count": null,
   "id": "69fbe598-529c-446b-9f7a-12ef12f061c2",
   "metadata": {},
   "outputs": [],
   "source": [
    "import hvplot.xarray  # noqa\n",
    "import hvsampledata\n",
    "\n",
    "df = hvsampledata.air_temperature(\"xarray\").sel(time=\"2014-02-25 12:00\")\n",
    "plot1 = df.hvplot.image(title=\"Default: colorbar=True\", width=350)\n",
    "plot2 = df.hvplot.image(title=\"colorbar=False\", width=350, colorbar=False)\n",
    "\n",
    "plot1 + plot2"
   ]
  },
  {
   "cell_type": "markdown",
   "id": "09881e22-1836-4c68-b3e6-9e19eb6867fc",
   "metadata": {},
   "source": [
    "(options-grid)=\n",
    "## `grid`\n",
    "\n",
    "Turns grid lines on or off behind your data. By default grids are disabled; use `grid=True` to draw horizontal and vertical lines at each major tick mark."
   ]
  },
  {
   "cell_type": "code",
   "execution_count": null,
   "id": "9ab460f6-0e0c-4e6e-9e61-17b4dfe5dae6",
   "metadata": {},
   "outputs": [],
   "source": [
    "import hvplot.pandas  # noqa\n",
    "import hvsampledata\n",
    "\n",
    "df = hvsampledata.stocks(\"pandas\", engine_kwargs={\"index_col\" : \"date\"})\n",
    "df.head(3)"
   ]
  },
  {
   "cell_type": "code",
   "execution_count": null,
   "id": "9be537ec-49d2-4d66-9d1d-7e86718280e0",
   "metadata": {},
   "outputs": [],
   "source": [
    "plot1 = df.hvplot(group_label=\"Company\", width=400, title=\"Default: grid=False\")\n",
    "plot2 = df.hvplot(group_label=\"Company\", grid=True, width=400, title=\"grid=True\")\n",
    "\n",
    "plot1 + plot2"
   ]
  },
  {
   "cell_type": "markdown",
   "id": "7c6cc816-2cc3-4af6-94a5-ed04b3bfe3ce",
   "metadata": {},
   "source": [
    "(options-legend)=\n",
    "## `legend`\n",
    "\n",
    "Controls whether and where the legend appears. Use `legend=True` (or `legend='right'`) to show it in the default position, `legend=False` to hide it, or supply one of ('top','bottom','left','right') to choose its placement."
   ]
  },
  {
   "cell_type": "code",
   "execution_count": null,
   "id": "6d07e0f0-8cde-4e2f-9ab9-47dc06be11b6",
   "metadata": {},
   "outputs": [],
   "source": [
    "import hvplot.pandas  # noqa\n",
    "import hvsampledata\n",
    "\n",
    "df = hvsampledata.penguins(\"pandas\")\n",
    "\n",
    "plot1 = df.hvplot.scatter(x='flipper_length_mm', y='body_mass_g', by='species',\n",
    "                        title=\"Default: legend=right\", frame_width=300)\n",
    "plot2 = df.hvplot.scatter(x='flipper_length_mm', y='body_mass_g', by='species',\n",
    "                        legend='left', title=\"legend=left\", frame_width=300)\n",
    "\n",
    "plot1 + plot2"
   ]
  }
 ],
 "metadata": {
  "language_info": {
   "name": "python",
   "pygments_lexer": "ipython3"
  }
 },
 "nbformat": 4,
 "nbformat_minor": 5
}
