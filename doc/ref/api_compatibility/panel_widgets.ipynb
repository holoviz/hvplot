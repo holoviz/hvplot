{
 "cells": [
  {
   "cell_type": "markdown",
   "id": "16cbd331",
   "metadata": {},
   "source": [
    "# Panel Widgets\n",
    "\n",
    "This reference shows advanced widget functionality using Panel for fine-grained control over hvPlot interactivity. Panel provides extensive customization options beyond hvPlot's built-in widget support."
   ]
  },
  {
   "cell_type": "markdown",
   "id": "06bb92b5",
   "metadata": {},
   "source": [
    ":::{warning}\n",
    "This functionality requires Panel to be installed. The API shown here may change in future versions.\n",
    ":::\n",
    ":::{note}\n",
    "  When viewing on a static website, the widgets will be inoperable. To explore this functionality fully, download the notebook and run it in a live python environment.\n",
    ":::"
   ]
  },
  {
   "cell_type": "code",
   "execution_count": null,
   "id": "2830d9e5",
   "metadata": {},
   "outputs": [],
   "source": [
    "import panel as pn\n",
    "import hvplot.pandas  # noqa\n",
    "\n",
    "penguins = hvplot.sampledata.penguins(\"pandas\").dropna()"
   ]
  },
  {
   "cell_type": "markdown",
   "id": "945104bd",
   "metadata": {},
   "source": [
    "## Using Widgets as Plot Arguments\n",
    "\n",
    "Panel widgets can be used directly as arguments to hvPlot methods, allowing users to interactively select plot parameters like axes and plot types."
   ]
  },
  {
   "cell_type": "code",
   "execution_count": null,
   "id": "fbda9b9e",
   "metadata": {},
   "outputs": [],
   "source": [
    "x = pn.widgets.Select(name='x', options=['bill_length_mm', 'bill_depth_mm'])\n",
    "y = pn.widgets.Select(name='y', options=['flipper_length_mm', 'body_mass_g'])\n",
    "kind = pn.widgets.Select(name='kind', value='scatter', options=['scatter', 'bivariate'])\n",
    "\n",
    "plot = penguins.hvplot(x=x, y=y, kind=kind, colorbar=False, width=600)\n",
    "pn.Row(pn.WidgetBox(x, y, kind), plot)"
   ]
  },
  {
   "cell_type": "markdown",
   "id": "2534030a",
   "metadata": {},
   "source": [
    "## Using Functions with `pn.depends`\n",
    "\n",
    "For more complex interactions, you can create functions decorated with `pn.depends` that respond to widget changes."
   ]
  },
  {
   "cell_type": "code",
   "execution_count": null,
   "id": "990e3783",
   "metadata": {},
   "outputs": [],
   "source": [
    "x = pn.widgets.Select(name='x', options=['bill_length_mm', 'bill_depth_mm'])\n",
    "y = pn.widgets.Select(name='y', options=['flipper_length_mm', 'body_mass_g'])\n",
    "kind = pn.widgets.Select(name='kind', value='scatter', options=['scatter', 'bivariate'])\n",
    "by_species = pn.widgets.Checkbox(name='By species')\n",
    "color = pn.widgets.ColorPicker(value='#ff0000')\n",
    "\n",
    "@pn.depends(by_species, color)\n",
    "def by_species_fn(by_species, color):\n",
    "    return 'species' if by_species else color\n",
    "\n",
    "plot = penguins.hvplot(x=x, y=y, kind=kind, c=by_species_fn, colorbar=False, width=400, legend='top_right')\n",
    "\n",
    "pn.Row(pn.WidgetBox(x, y, kind, color, by_species), plot)"
   ]
  },
  {
   "cell_type": "markdown",
   "id": "db5027d9",
   "metadata": {},
   "source": [
    "## Widget Callbacks and Interactions\n",
    "\n",
    "You can also add callbacks to create more sophisticated widget interactions, such as enabling/disabling widgets based on other widget values."
   ]
  },
  {
   "cell_type": "code",
   "execution_count": null,
   "id": "9535677a",
   "metadata": {},
   "outputs": [],
   "source": [
    "def update(event):\n",
    "    if kind.value == 'bivariate':\n",
    "        color.disabled = True\n",
    "        by_species.disabled = True\n",
    "    else:\n",
    "        color.disabled = False\n",
    "        by_species.disabled = False\n",
    "\n",
    "kind.param.watch(update, 'value');"
   ]
  },
  {
   "cell_type": "markdown",
   "id": "28cd0a30",
   "metadata": {},
   "source": [
    ":::{admonition} Additional Resources\n",
    ":class: seealso\n",
    "- [Panel HoloViews Pane Documentation](https://panel.pyviz.org/reference/panes/HoloViews.html)\n",
    "- [Panel Widgets Reference Gallery](https://panel.pyviz.org/reference/index.html)\n",
    "- [Panel API Documentation](https://panel.pyviz.org/api/)\n",
    ":::"
   ]
  }
 ],
 "metadata": {
  "language_info": {
   "name": "python",
   "pygments_lexer": "ipython3"
  }
 },
 "nbformat": 4,
 "nbformat_minor": 5
}
