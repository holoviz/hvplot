{
 "cells": [
  {
   "cell_type": "markdown",
   "id": "0ff60267",
   "metadata": {},
   "source": [
    "# hvPlot.line\n",
    "\n",
    "```{eval-rst}\n",
    ".. currentmodule:: hvplot\n",
    "\n",
    ".. automethod:: hvPlot.line\n",
    "```\n",
    "\n",
    "## Backend-specific styling options\n",
    "\n",
    "```{eval-rst}\n",
    ".. backend-styling-options:: line\n",
    "```\n",
    "\n",
    "## Examples\n",
    "\n",
    "TBD"
   ]
  }
 ],
 "metadata": {
  "language_info": {
   "name": "python",
   "pygments_lexer": "ipython3"
  }
 },
 "nbformat": 4,
 "nbformat_minor": 4
}
