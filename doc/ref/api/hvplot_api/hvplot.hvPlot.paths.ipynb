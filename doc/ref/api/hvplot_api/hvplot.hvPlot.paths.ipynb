{
 "cells": [
  {
   "cell_type": "markdown",
   "id": "a148906a",
   "metadata": {},
   "source": [
    "# hvPlot.paths\n",
    "\n",
    "```{eval-rst}\n",
    ".. currentmodule:: hvplot\n",
    "\n",
    ".. automethod:: hvPlot.paths\n",
    "```\n",
    "\n",
    "## Backend-specific styling options\n",
    "\n",
    "```{eval-rst}\n",
    ".. backend-styling-options:: paths\n",
    "```\n",
    "\n",
    "## Examples\n",
    "\n",
    "TBD"
   ]
  }
 ],
 "metadata": {
  "language_info": {
   "name": "python",
   "pygments_lexer": "ipython3"
  }
 },
 "nbformat": 4,
 "nbformat_minor": 2
}
