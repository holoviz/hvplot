{
 "cells": [
  {
   "cell_type": "markdown",
   "id": "b5550786",
   "metadata": {},
   "source": [
    "# hvPlot.explorer\n",
    "\n",
    "```{eval-rst}\n",
    ".. currentmodule:: hvplot\n",
    "\n",
    ".. automethod:: hvPlot.explorer\n",
    "```\n",
    "\n",
    "## Examples\n",
    "\n",
    "TBD"
   ]
  }
 ],
 "metadata": {
  "language_info": {
   "name": "python",
   "pygments_lexer": "ipython3"
  }
 },
 "nbformat": 4,
 "nbformat_minor": 4
}
