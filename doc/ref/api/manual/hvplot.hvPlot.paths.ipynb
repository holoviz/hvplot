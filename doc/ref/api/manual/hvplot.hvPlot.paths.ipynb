{
 "cells": [
  {
   "cell_type": "markdown",
   "metadata": {},
   "source": [
    "# hvPlot.paths\n",
    "\n",
    "```{eval-rst}\n",
    ".. currentmodule:: hvplot\n",
    "\n",
    ".. automethod:: hvPlot.paths\n",
    "```\n",
    "\n",
    "## Backend-specific styling options\n",
    "\n",
    "```{eval-rst}\n",
    ".. backend-styling-options:: paths\n",
    "```\n",
    "\n",
    "## Examples\n",
    "\n",
    "### `Lissajous Curve`\n",
    "\n",
    "This example uses a parametric equation to generate a [Lissajous curve](https://en.wikipedia.org/wiki/Lissajous_curve), visualized as a smooth connected path."
   ]
  },
  {
   "cell_type": "code",
   "execution_count": null,
   "metadata": {},
   "outputs": [],
   "source": [
    "import numpy as np\n",
    "import pandas as pd\n",
    "import hvplot.pandas # noqa\n",
    "\n",
    "# Generate Lissajous curve data\n",
    "t = np.linspace(0, 2 * np.pi, 500)\n",
    "x = np.sin(3 * t + np.pi / 2)\n",
    "y = np.sin(5 * t)\n",
    "\n",
    "df = pd.DataFrame({'x': x, 'y': y, 't': t})\n",
    "\n",
    "df.hvplot.paths(\n",
    "    x='x',\n",
    "    y='y',\n",
    "    line_width=3,\n",
    "    line_dash='dotted',\n",
    "    color='t',\n",
    "    cmap='viridis',\n",
    "    aspect='equal',\n",
    "    title='Lissajous Curve'\n",
    ")"
   ]
  }
 ],
 "metadata": {
  "language_info": {
   "name": "python",
   "pygments_lexer": "ipython3"
  }
 },
 "nbformat": 4,
 "nbformat_minor": 4
}
