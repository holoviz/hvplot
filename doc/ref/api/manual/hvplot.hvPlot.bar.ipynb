{
 "cells": [
  {
   "cell_type": "markdown",
   "metadata": {},
   "source": [
    "# hvPlot.bar\n",
    "\n",
    "```{eval-rst}\n",
    ".. currentmodule:: hvplot\n",
    "\n",
    ".. automethod:: hvPlot.bar\n",
    "```\n",
    "\n",
    "## Backend-specific styling options\n",
    "\n",
    "```{eval-rst}\n",
    ".. backend-styling-options:: bar\n",
    "```\n",
    "\n",
    "## Examples"
   ]
  },
  {
   "cell_type": "markdown",
   "metadata": {},
   "source": [
    "### Simple Vertical Bar Plot\n",
    "\n",
    "Bar plots are ideal for comparing quantities across different categories. Here’s how to create a basic vertical bar chart using hvPlot:"
   ]
  },
  {
   "cell_type": "code",
   "execution_count": null,
   "metadata": {},
   "outputs": [],
   "source": [
    "import pandas as pd\n",
    "import hvplot.pandas  # noqa\n",
    "\n",
    "data = pd.DataFrame({\n",
    "    'Framework': ['hvPlot', 'HoloViews', 'Panel'],\n",
    "    'Stars': [1200, 2800, 5200]\n",
    "})\n",
    "\n",
    "data.hvplot.bar(x='Framework', y='Stars', color='gold',\n",
    "                title='GitHub Stars per Framework', ylabel='⭐')"
   ]
  },
  {
   "cell_type": "markdown",
   "metadata": {},
   "source": [
    "### Multi-Index Bar Plot\n",
    "\n",
    "When working with multi-index data, hvPlot can automatically interpret the hierarchical index to create nested categories on the x-axis."
   ]
  },
  {
   "cell_type": "code",
   "execution_count": null,
   "metadata": {},
   "outputs": [],
   "source": [
    "import hvplot.pandas  # noqa\n",
    "import hvsampledata\n",
    "\n",
    "penguins = hvsampledata.penguins(\"pandas\")\n",
    "penguins.head(3)"
   ]
  },
  {
   "cell_type": "code",
   "execution_count": null,
   "metadata": {},
   "outputs": [],
   "source": [
    "multi_index_df = penguins.groupby(['species', 'sex'])['body_mass_g'].mean()\n",
    "multi_index_df"
   ]
  },
  {
   "cell_type": "code",
   "execution_count": null,
   "metadata": {},
   "outputs": [],
   "source": [
    "multi_index_df.hvplot.bar(title='Average body mass by species and sex')"
   ]
  },
  {
   "cell_type": "markdown",
   "metadata": {},
   "source": [
    "### Wide-Form vs. Long-Form Data\n",
    "\n",
    "Understanding the difference between wide-form and long-form data is important for effective plotting.\n",
    "\n",
    "#### Wide-Form Data\n",
    "\n",
    "In wide-form data, each variable is in its own column."
   ]
  },
  {
   "cell_type": "code",
   "execution_count": null,
   "metadata": {},
   "outputs": [],
   "source": [
    "import hvplot.pandas  # noqa\n",
    "import hvsampledata\n",
    "\n",
    "df = hvsampledata.penguins(\"pandas\")\n",
    "wide_df = df.groupby('species')[['bill_length_mm', 'bill_depth_mm']].mean()\n",
    "wide_df.head(2)"
   ]
  },
  {
   "cell_type": "code",
   "execution_count": null,
   "metadata": {},
   "outputs": [],
   "source": [
    "wide_df.hvplot.bar(y=['bill_length_mm', 'bill_depth_mm'], legend='bottom_right',\n",
    "                   title='Average Bill Measurements by Species (Wide-Form)', rot=45)"
   ]
  },
  {
   "cell_type": "markdown",
   "metadata": {},
   "source": [
    "#### Long-Form Data\n",
    "\n",
    "In long-form data, variables are stored in a single column, and an additional column indicates the variable name."
   ]
  },
  {
   "cell_type": "code",
   "execution_count": null,
   "metadata": {},
   "outputs": [],
   "source": [
    "import pandas as pd\n",
    "import hvplot.pandas  # noqa\n",
    "import hvsampledata\n",
    "\n",
    "df = hvsampledata.penguins(\"pandas\")\n",
    "grouped_df = df.groupby('species')[['bill_length_mm', 'bill_depth_mm']].mean()\n",
    "long_df = grouped_df.melt(ignore_index=False, var_name='measurement', value_name='value').reset_index()\n",
    "\n",
    "long_df.head(2)"
   ]
  },
  {
   "cell_type": "code",
   "execution_count": null,
   "metadata": {},
   "outputs": [],
   "source": [
    "long_df.hvplot.bar(x='species', y='value', by='measurement',legend='bottom_right',\n",
    "                   title='Average Bill Measurements by Species (Long-Form)', rot=45)"
   ]
  },
  {
   "cell_type": "markdown",
   "metadata": {},
   "source": [
    "This approach is beneficial when dealing with a variable number of measurement types, as it allows for dynamic grouping and coloring based on the measurement column."
   ]
  },
  {
   "cell_type": "markdown",
   "metadata": {},
   "source": [
    "### Customizing bar colors\n",
    "\n",
    "You can customize the appearance of bar plots by assigning specific colors to each variable. This makes it easier to distinguish between multiple bars in stacked or grouped charts."
   ]
  },
  {
   "cell_type": "code",
   "execution_count": null,
   "metadata": {},
   "outputs": [],
   "source": [
    "import hvplot.pandas  # noqa\n",
    "import hvsampledata\n",
    "\n",
    "\n",
    "df = hvsampledata.penguins(\"pandas\")\n",
    "\n",
    "grouped_df = df.groupby(\"species\")[[\"bill_length_mm\", \"bill_depth_mm\"]].mean()\n",
    "grouped_df.head(3)"
   ]
  },
  {
   "cell_type": "code",
   "execution_count": null,
   "metadata": {},
   "outputs": [],
   "source": [
    "grouped_df.hvplot.bar(\n",
    "    y=[\"bill_length_mm\", \"bill_depth_mm\"],\n",
    "    stacked=True,\n",
    "    color=[\"forestgreen\", \"gold\"],\n",
    "    legend='bottom_right',\n",
    "    title='Custom Bar Colors'\n",
    ")"
   ]
  },
  {
   "cell_type": "markdown",
   "metadata": {},
   "source": [
    "Here, each bar represents a species, with stacked segments showing the average bill length and depth."
   ]
  }
 ],
 "metadata": {
  "language_info": {
   "name": "python",
   "pygments_lexer": "ipython3"
  }
 },
 "nbformat": 4,
 "nbformat_minor": 4
}
