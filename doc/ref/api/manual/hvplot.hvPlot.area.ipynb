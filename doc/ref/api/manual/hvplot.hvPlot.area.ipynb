{
 "cells": [
  {
   "cell_type": "markdown",
   "metadata": {},
   "source": [
    "# hvPlot.area"
   ]
  },
  {
   "cell_type": "markdown",
   "metadata": {},
   "source": [
    "```{eval-rst}\n",
    ".. currentmodule:: hvplot\n",
    "\n",
    ".. automethod:: hvPlot.area\n",
    "```\n",
    "\n",
    "## Backend-specific styling options\n",
    "\n",
    "```{eval-rst}\n",
    ".. backend-styling-options:: area\n",
    "```\n",
    "\n",
    "## Examples \n",
    "\n",
    "### `Single Area Plot`\n",
    "\n",
    "This example displays the area under Apple’s stock adjusted closing price over time."
   ]
  },
  {
   "cell_type": "code",
   "execution_count": null,
   "metadata": {},
   "outputs": [],
   "source": [
    "import hvplot.pandas # noqa\n",
    "import hvsampledata\n",
    "\n",
    "df = hvsampledata.apple_stocks(\"pandas\")\n",
    "\n",
    "df.hvplot.area(x=\"date\", y=\"adj_close\", color=\"#1e85f7\", alpha=0.5, height=300)"
   ]
  },
  {
   "cell_type": "markdown",
   "metadata": {},
   "source": [
    "### `Stacked Area for Multiple Series`\n",
    "\n",
    "This example shows stacked areas for several tech company stock prices."
   ]
  },
  {
   "cell_type": "code",
   "execution_count": null,
   "metadata": {},
   "outputs": [],
   "source": [
    "import hvplot.pandas # noqa\n",
    "import hvsampledata\n",
    "\n",
    "df = hvsampledata.stocks(\"pandas\")\n",
    "\n",
    "df.hvplot.area(x=\"date\", y=[\"Apple\", \"Amazon\", \"Netflix\"], alpha=0.4, ylim=(1, None))"
   ]
  },
  {
   "cell_type": "markdown",
   "metadata": {},
   "source": [
    "### `Area Between Two Lines Using y and y2`\n",
    "\n",
    "This example fills the space between the stock price changes of two selected tech companies."
   ]
  },
  {
   "cell_type": "code",
   "execution_count": null,
   "metadata": {},
   "outputs": [],
   "source": [
    "import hvplot.pandas # noqa\n",
    "import hvsampledata\n",
    "\n",
    "df = hvsampledata.stocks(\"pandas\")\n",
    "\n",
    "df.hvplot.area(\n",
    "    x=\"date\",\n",
    "    y=\"Apple\",\n",
    "    y2=\"Microsoft\",\n",
    "    alpha=0.4,\n",
    "    line_color=\"#e87508\",\n",
    "    ylabel=\"Normed prices\",\n",
    "    ylim=(1, None),\n",
    "    hover=False,\n",
    ")"
   ]
  }
 ],
 "metadata": {
  "language_info": {
   "name": "python",
   "pygments_lexer": "ipython3"
  }
 },
 "nbformat": 4,
 "nbformat_minor": 4
}
