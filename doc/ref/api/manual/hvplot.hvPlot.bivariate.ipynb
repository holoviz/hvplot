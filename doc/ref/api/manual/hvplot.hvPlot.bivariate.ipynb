{
 "cells": [
  {
   "cell_type": "markdown",
   "metadata": {},
   "source": [
    "# hvPlot.bivariate\n",
    "\n",
    "```{eval-rst}\n",
    ".. currentmodule:: hvplot\n",
    "\n",
    ".. automethod:: hvPlot.bivariate\n",
    "```\n",
    "\n",
    "## Backend-specific styling options\n",
    "\n",
    "```{eval-rst}\n",
    ".. backend-styling-options:: bivariate\n",
    "```\n",
    "\n",
    "## Examples\n",
    "\n",
    "### `Basic Bivariate Distribution`\n",
    "\n",
    "This example shows the joint distribution of bill length and bill depth in penguins using a 2D density estimate."
   ]
  },
  {
   "cell_type": "code",
   "execution_count": null,
   "metadata": {},
   "outputs": [],
   "source": [
    "import hvplot.pandas # noqa\n",
    "import hvsampledata\n",
    "\n",
    "df = hvsampledata.penguins(\"pandas\")\n",
    "\n",
    "df.hvplot.bivariate(\n",
    "    x='bill_length_mm',\n",
    "    y='bill_depth_mm',\n",
    ")"
   ]
  },
  {
   "cell_type": "markdown",
   "metadata": {},
   "source": [
    "### `Control Binning and Smoothing with levels and bandwidth`\n",
    "\n",
    "You can control the smoothness of the estimate using the `bandwidth` parameter. Smaller values yield more detail. The `filled` parameter specifies whether the contours should be filled."
   ]
  },
  {
   "cell_type": "code",
   "execution_count": null,
   "metadata": {},
   "outputs": [],
   "source": [
    "import hvplot.pandas # noqa\n",
    "import hvsampledata\n",
    "\n",
    "df = hvsampledata.penguins(\"pandas\")\n",
    "\n",
    "df.hvplot.bivariate(\n",
    "    x='bill_length_mm',\n",
    "    y='bill_depth_mm',\n",
    "    cmap='plasma_r',\n",
    "    bandwidth=0.3,\n",
    "    filled=True,\n",
    "    levels=20,\n",
    ")"
   ]
  }
 ],
 "metadata": {
  "language_info": {
   "name": "python",
   "pygments_lexer": "ipython3"
  }
 },
 "nbformat": 4,
 "nbformat_minor": 4
}
