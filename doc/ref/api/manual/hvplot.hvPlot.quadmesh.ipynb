{
 "cells": [
  {
   "cell_type": "markdown",
   "metadata": {},
   "source": [
    "# hvPlot.quadmesh\n",
    "\n",
    "```{eval-rst}\n",
    ".. currentmodule:: hvplot\n",
    "\n",
    ".. automethod:: hvPlot.quadmesh\n",
    "```\n",
    "\n",
    "## Backend-specific styling options\n",
    "\n",
    "```{eval-rst}\n",
    ".. backend-styling-options:: quadmesh\n",
    "```\n",
    "\n",
    "## Examples\n",
    "\n",
    "### Basic quadmesh plot\n",
    "\n",
    "This plot shows how air temperature varies across latitude and longitude for a single time slice. `colorbar` is True by default."
   ]
  },
  {
   "cell_type": "code",
   "execution_count": null,
   "metadata": {},
   "outputs": [],
   "source": [
    "import hvplot.xarray  # noqa\n",
    "import hvsampledata\n",
    "\n",
    "ds = hvsampledata.air_temperature(\"xarray\").sel(time=\"2014-02-25 12:00\")\n",
    "# Emulate irregular grid\n",
    "ds.coords[\"lat\"] = ds.coords[\"lat\"]**2\n",
    "\n",
    "ds.hvplot.quadmesh(x=\"lon\", y=\"lat\", z=\"air\", cmap=\"blues\", width=400, height=400)"
   ]
  }
 ],
 "metadata": {
  "language_info": {
   "name": "python",
   "pygments_lexer": "ipython3"
  }
 },
 "nbformat": 4,
 "nbformat_minor": 4
}
