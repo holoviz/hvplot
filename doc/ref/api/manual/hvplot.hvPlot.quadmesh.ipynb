{
 "cells": [
  {
   "cell_type": "markdown",
   "id": "223ae36d",
   "metadata": {},
   "source": [
    "# hvPlot.quadmesh\n",
    "\n",
    "```{eval-rst}\n",
    ".. currentmodule:: hvplot\n",
    "\n",
    ".. automethod:: hvPlot.quadmesh\n",
    "```\n",
    "\n",
    "## Backend-specific styling options\n",
    "\n",
    "```{eval-rst}\n",
    ".. backend-styling-options:: quadmesh\n",
    "```\n",
    "\n",
    "## Examples\n",
    "\n",
    "TBD"
   ]
  }
 ],
 "metadata": {
  "language_info": {
   "name": "python",
   "pygments_lexer": "ipython3"
  }
 },
 "nbformat": 4,
 "nbformat_minor": 4
}
