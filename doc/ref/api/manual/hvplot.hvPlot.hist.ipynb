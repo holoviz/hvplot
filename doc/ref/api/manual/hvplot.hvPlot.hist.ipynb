{
 "cells": [
  {
   "cell_type": "markdown",
   "metadata": {},
   "source": [
    "# hvPlot.hist\n",
    "\n",
    "```{eval-rst}\n",
    ".. currentmodule:: hvplot\n",
    "\n",
    ".. automethod:: hvPlot.hist\n",
    "```\n",
    "\n",
    "## Backend-specific styling options\n",
    "\n",
    "```{eval-rst}\n",
    ".. backend-styling-options:: hist\n",
    "```\n",
    "\n",
    "## Examples\n",
    "\n",
    "Histograms are used to approximate the distribution of continuous data by dividing the range into bins and counting the number of observations in each bin."
   ]
  },
  {
   "cell_type": "markdown",
   "metadata": {},
   "source": [
    "### Basic Histogram with bins\n",
    "\n",
    "You can control the number of bins or specify bin edges."
   ]
  },
  {
   "cell_type": "code",
   "execution_count": null,
   "metadata": {},
   "outputs": [],
   "source": [
    "import hvplot.pandas  # noqa\n",
    "import pandas as pd\n",
    "import numpy as np\n",
    "\n",
    "df = pd.DataFrame({'values': np.random.normal(loc=0, scale=1, size=1000)})\n",
    "df.hvplot.hist(y='values', bins=30, title='Histogram with 30 Bins')"
   ]
  },
  {
   "cell_type": "markdown",
   "metadata": {},
   "source": [
    "### Histogram with bin_range\n",
    "\n",
    "This limits the histogram to a specific range of values."
   ]
  },
  {
   "cell_type": "code",
   "execution_count": null,
   "metadata": {},
   "outputs": [],
   "source": [
    "import hvplot.pandas  # noqa\n",
    "import pandas as pd\n",
    "import numpy as np\n",
    "\n",
    "df = pd.DataFrame({'values': np.random.normal(loc=0, scale=1, size=1000)})\n",
    "df.hvplot.hist(y='values', bin_range=(-1, 1), title='Histogram in Range -1 to 1') # Didn't work?"
   ]
  },
  {
   "cell_type": "markdown",
   "metadata": {},
   "source": [
    "### Normalized Histogram (normed=True)\n",
    "\n",
    "You can normalize the histogram to show density instead of raw counts."
   ]
  },
  {
   "cell_type": "code",
   "execution_count": null,
   "metadata": {},
   "outputs": [],
   "source": [
    "import hvplot.pandas  # noqa\n",
    "import pandas as pd\n",
    "import numpy as np\n",
    "\n",
    "df = pd.DataFrame({'values': np.random.normal(loc=0, scale=1, size=1000)})\n",
    "df.hvplot.hist(y='values', normed=True, title='Normalized Histogram')"
   ]
  },
  {
   "cell_type": "markdown",
   "metadata": {},
   "source": [
    ":::{note}\n",
    "`normed=True` is equivalent to `density=True` in `np.histogram`.\n",
    ":::"
   ]
  },
  {
   "cell_type": "markdown",
   "metadata": {},
   "source": [
    "### Cumulative Histogram\n",
    "\n",
    "This type shows a running total of counts up to each bin."
   ]
  },
  {
   "cell_type": "code",
   "execution_count": null,
   "metadata": {},
   "outputs": [],
   "source": [
    "import hvplot.pandas  # noqa\n",
    "import pandas as pd\n",
    "import numpy as np\n",
    "\n",
    "df = pd.DataFrame({'values': np.random.normal(loc=0, scale=1, size=1000)})\n",
    "df.hvplot.hist(y='values', cumulative=True, title='Cumulative Histogram')"
   ]
  }
 ],
 "metadata": {
  "language_info": {
   "name": "python",
   "pygments_lexer": "ipython3"
  }
 },
 "nbformat": 4,
 "nbformat_minor": 4
}
