{
 "cells": [
  {
   "cell_type": "markdown",
   "metadata": {},
   "source": [
    "# hvPlot.step\n",
    "\n",
    "```{eval-rst}\n",
    ".. currentmodule:: hvplot\n",
    "\n",
    ".. automethod:: hvPlot.step\n",
    "```\n",
    "\n",
    "## Backend-specific styling options\n",
    "\n",
    "```{eval-rst}\n",
    ".. backend-styling-options:: step\n",
    "```\n",
    "\n",
    "## Examples\n",
    "\n",
    "### `Basic Step plot for stock prices`\n",
    "\n",
    "This example shows Apple’s adjusted closing prices using a step plot to visualize discrete daily changes."
   ]
  },
  {
   "cell_type": "code",
   "execution_count": null,
   "metadata": {},
   "outputs": [],
   "source": [
    "import hvplot.pandas # noqa\n",
    "import hvsampledata\n",
    "\n",
    "df = hvsampledata.apple_stocks(\"pandas\")\n",
    "\n",
    "df[:50].hvplot.step(x='date', y='adj_close') # show last 50 days"
   ]
  },
  {
   "cell_type": "markdown",
   "metadata": {},
   "source": [
    "### `Step plot with custom options`"
   ]
  },
  {
   "cell_type": "code",
   "execution_count": null,
   "metadata": {},
   "outputs": [],
   "source": [
    "import hvplot.pandas # noqa\n",
    "import hvsampledata\n",
    "\n",
    "df = hvsampledata.apple_stocks(\"pandas\")\n",
    "\n",
    "df[:50].hvplot.step(\n",
    "    x='date',\n",
    "    y='adj_close',\n",
    "    where='post',\n",
    "    line_color='green',\n",
    "    line_width=5,\n",
    ")"
   ]
  }
 ],
 "metadata": {
  "language_info": {
   "name": "python",
   "pygments_lexer": "ipython3"
  }
 },
 "nbformat": 4,
 "nbformat_minor": 4
}
