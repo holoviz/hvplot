{
 "cells": [
  {
   "cell_type": "markdown",
   "metadata": {},
   "source": [
    "# hvPlot.kde\n",
    "\n",
    "```{eval-rst}\n",
    ".. currentmodule:: hvplot\n",
    "\n",
    ".. automethod:: hvPlot.kde\n",
    "```\n",
    "\n",
    "## Backend-specific styling options\n",
    "\n",
    "```{eval-rst}\n",
    ".. backend-styling-options:: kde\n",
    "```\n",
    "\n",
    "## Examples\n",
    "\n",
    "### `KDE from Wide-Form Data`\n",
    "\n",
    "This example uses multiple numerical columns from the penguins dataset to compare their distributions using a kernel density estimate."
   ]
  },
  {
   "cell_type": "code",
   "execution_count": null,
   "metadata": {},
   "outputs": [],
   "source": [
    "import hvplot.pandas # noqa\n",
    "import hvsampledata\n",
    "\n",
    "df = hvsampledata.penguins(\"pandas\")\n",
    "\n",
    "df.hvplot.kde(\n",
    "    y=[\"bill_length_mm\", \"bill_depth_mm\"], color=[\"orange\", \"green\"], hover=False\n",
    ")"
   ]
  },
  {
   "cell_type": "markdown",
   "metadata": {},
   "source": [
    "### `KDE from Long-Form Data`\n",
    "\n",
    "This example shows how to use the `by` keyword to compare the distribution of bill lengths across penguin species."
   ]
  },
  {
   "cell_type": "code",
   "execution_count": null,
   "metadata": {},
   "outputs": [],
   "source": [
    "import hvplot.pandas # noqa\n",
    "import hvsampledata\n",
    "\n",
    "df = hvsampledata.penguins(\"pandas\")\n",
    "\n",
    "df.hvplot.kde(y=\"bill_length_mm\", by=\"species\", alpha=0.7, hover=False)"
   ]
  },
  {
   "cell_type": "markdown",
   "metadata": {},
   "source": [
    "### `Using bandwidth and cut`\n",
    "\n",
    "This example demonstrates how to control the shape and extent of the KDE curve using the `bandwidth` and `cut` parameters."
   ]
  },
  {
   "cell_type": "code",
   "execution_count": null,
   "metadata": {},
   "outputs": [],
   "source": [
    "import hvplot.pandas # noqa\n",
    "import hvsampledata\n",
    "\n",
    "df = hvsampledata.penguins(\"pandas\")\n",
    "\n",
    "# Use a smaller bandwidth for a more sensitive KDE, and limit the curve extent\n",
    "df.hvplot.kde(\n",
    "    y=\"bill_length_mm\", by=\"species\", bandwidth=0.2, cut=1, alpha=0.5, hover=False\n",
    ")"
   ]
  }
 ],
 "metadata": {
  "language_info": {
   "name": "python",
   "pygments_lexer": "ipython3"
  }
 },
 "nbformat": 4,
 "nbformat_minor": 4
}
