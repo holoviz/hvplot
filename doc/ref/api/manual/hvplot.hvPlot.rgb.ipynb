{
 "cells": [
  {
   "cell_type": "markdown",
   "metadata": {},
   "source": [
    "# hvPlot.rgb\n",
    "\n",
    "```{eval-rst}\n",
    ".. currentmodule:: hvplot\n",
    "\n",
    ".. automethod:: hvPlot.rgb\n",
    "```\n",
    "\n",
    "## Backend-specific styling options\n",
    "\n",
    "```{eval-rst}\n",
    ".. backend-styling-options:: rgb\n",
    "```\n",
    "\n",
    "## Examples\n",
    "\n",
    "This example demonstrates how to create a simple RGB image using synthetic data. Three 2D arrays representing the red, green, and blue color channels are stacked into a 3D [`xarray.DataArray`](inv:xarray#xarray.DataArray) and visualized using `hvplot.rgb`."
   ]
  },
  {
   "cell_type": "code",
   "execution_count": null,
   "metadata": {},
   "outputs": [],
   "source": [
    "import numpy as np\n",
    "import xarray as xr\n",
    "import hvplot.xarray # noqa\n",
    "\n",
    "# Create 10x10 color layers\n",
    "x = np.arange(10)\n",
    "y = np.arange(10)\n",
    "r = np.tile(np.linspace(0, 255, 10, dtype=np.uint8), (10, 1))       # Horizontal red\n",
    "g = np.tile(np.linspace(0, 255, 10, dtype=np.uint8), (10, 1)).T     # Vertical green\n",
    "b = np.full((10, 10), 128, dtype=np.uint8)                          # Constant blue\n",
    "\n",
    "# Stack into a 3D array\n",
    "rgb = np.stack([r, g, b], axis=0)\n",
    "\n",
    "# Create a 3D DataArray\n",
    "rgb_da = xr.DataArray(\n",
    "    rgb,\n",
    "    dims=('band', 'x', 'y'),\n",
    "    coords={\n",
    "        'band': ['R', 'G', 'B'],\n",
    "        'x': x,\n",
    "        'y': y\n",
    "    },\n",
    "    name='rgb'\n",
    ")\n",
    "\n",
    "# Plot using hvplot.rgb\n",
    "rgb_da.hvplot.rgb(x='x', y='y', bands='band', aspect='equal')"
   ]
  }
 ],
 "metadata": {
  "language_info": {
   "name": "python",
   "pygments_lexer": "ipython3"
  }
 },
 "nbformat": 4,
 "nbformat_minor": 4
}
