{
 "cells": [
  {
   "cell_type": "markdown",
   "metadata": {},
   "source": [
    "# hvPlot.heatmap\n",
    "\n",
    "```{eval-rst}\n",
    ".. currentmodule:: hvplot\n",
    "\n",
    ".. automethod:: hvPlot.heatmap\n",
    "```\n",
    "\n",
    "## Backend-specific styling options\n",
    "\n",
    "```{eval-rst}\n",
    ".. backend-styling-options:: heatmap\n",
    "```\n",
    "\n",
    "## Examples\n",
    "\n",
    "Heatmaps are ideal for visualizing values across two dimensions as a color-coded matrix. They are commonly used for temporal data, correlation grids, and density summaries."
   ]
  },
  {
   "cell_type": "markdown",
   "metadata": {},
   "source": [
    "### Heatmap of Earthquake counts by depth and magnitude\n",
    "This plot visualizes the frequency of earthquakes categorized by both depth and magnitude class. It gives a clear overview of how often each type of earthquake occurs."
   ]
  },
  {
   "cell_type": "code",
   "execution_count": null,
   "metadata": {},
   "outputs": [],
   "source": [
    "import hvsampledata\n",
    "import hvplot.pandas # noqa\n",
    "import numpy as np\n",
    "\n",
    "df = hvsampledata.earthquakes(\"pandas\")\n",
    "\n",
    "grouped_df = df.groupby([\"depth_class\", \"mag_class\"], observed=True)[\"mag_class\"].size().reset_index(name='count')\n",
    "grouped_df"
   ]
  },
  {
   "cell_type": "code",
   "execution_count": null,
   "metadata": {},
   "outputs": [],
   "source": [
    "grouped_df.hvplot.heatmap(x=\"mag_class\", y=\"depth_class\", C=\"count\", reduce_function=np.mean)"
   ]
  },
  {
   "cell_type": "markdown",
   "metadata": {},
   "source": [
    "### Use of `logz`\n",
    "\n",
    "This version applies a logarithmic color scale to better distinguish lower-frequency combinations, which may be overshadowed by dominant bins in a linear scale."
   ]
  },
  {
   "cell_type": "code",
   "execution_count": null,
   "metadata": {},
   "outputs": [],
   "source": [
    "grouped_df.hvplot.heatmap(x=\"mag_class\", y=\"depth_class\", C=\"count\", reduce_function=np.mean, logz=True)"
   ]
  }
 ],
 "metadata": {
  "language_info": {
   "name": "python",
   "pygments_lexer": "ipython3"
  }
 },
 "nbformat": 4,
 "nbformat_minor": 4
}
