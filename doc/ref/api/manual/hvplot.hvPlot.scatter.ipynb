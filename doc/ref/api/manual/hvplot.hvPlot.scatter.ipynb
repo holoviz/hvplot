{
 "cells": [
  {
   "cell_type": "markdown",
   "metadata": {},
   "source": [
    "# hvPlot.scatter\n",
    "\n",
    "```{eval-rst}\n",
    ".. currentmodule:: hvplot\n",
    "\n",
    ".. automethod:: hvPlot.scatter\n",
    "```\n",
    "\n",
    "## Backend-specific styling options\n",
    "\n",
    "```{eval-rst}\n",
    ".. backend-styling-options:: scatter\n",
    "```"
   ]
  },
  {
   "cell_type": "markdown",
   "metadata": {},
   "source": [
    "## Examples\n",
    "\n",
    "Scatter plots are useful for exploring relationships, distributions, and potential correlations between numeric variables."
   ]
  },
  {
   "cell_type": "markdown",
   "metadata": {},
   "source": [
    "### Basic Scatter plot\n",
    "\n",
    "This example shows how to plot bill length against flipper length for different penguin species."
   ]
  },
  {
   "cell_type": "code",
   "execution_count": null,
   "metadata": {},
   "outputs": [],
   "source": [
    "import hvplot.pandas  # noqa\n",
    "import hvsampledata\n",
    "\n",
    "df = hvsampledata.penguins(\"pandas\")\n",
    "\n",
    "df.hvplot.scatter(\n",
    "    x='bill_length_mm',\n",
    "    y='flipper_length_mm',\n",
    "    title='Bill Length vs Flipper Length'\n",
    ")"
   ]
  },
  {
   "cell_type": "markdown",
   "metadata": {},
   "source": [
    "### Grouping by categories\n",
    "\n",
    "To distinguish categories visually, you can use the by parameter. This automatically colors points based on the specified column."
   ]
  },
  {
   "cell_type": "code",
   "execution_count": null,
   "metadata": {},
   "outputs": [],
   "source": [
    "import hvplot.pandas  # noqa\n",
    "import hvsampledata\n",
    "\n",
    "df = hvsampledata.penguins(\"pandas\")\n",
    "\n",
    "df.hvplot.scatter(\n",
    "    x='bill_length_mm',\n",
    "    y='flipper_length_mm',\n",
    "    by='species',\n",
    "    title='Scatter Plot Colored by Species'\n",
    ")"
   ]
  },
  {
   "cell_type": "markdown",
   "metadata": {},
   "source": [
    "### Customizing Size and Color\n",
    "\n",
    "You can also vary marker size and color using numeric columns."
   ]
  },
  {
   "cell_type": "code",
   "execution_count": null,
   "metadata": {},
   "outputs": [],
   "source": [
    "import hvplot.pandas  # noqa\n",
    "import hvsampledata\n",
    "\n",
    "df = hvsampledata.earthquakes(\"pandas\")\n",
    "\n",
    "df.hvplot.scatter(\n",
    "    x='lon',\n",
    "    y='lat',\n",
    "    c='mag',\n",
    "    s='depth',\n",
    "    cmap=\"inferno\",\n",
    "    title='Earthquake depth (color by magnitude)',\n",
    ")"
   ]
  },
  {
   "cell_type": "markdown",
   "metadata": {},
   "source": [
    "### Scatter Plot with Scaling and Logarithmic Color Mapping\n",
    "\n",
    "This example shows how to fine-tune scatter plots by scaling point sizes and applying a logarithmic color scale."
   ]
  },
  {
   "cell_type": "code",
   "execution_count": null,
   "metadata": {},
   "outputs": [],
   "source": [
    "import pandas as pd\n",
    "import hvplot.pandas  # noqa\n",
    "import numpy as np\n",
    "\n",
    "df = pd.DataFrame({\n",
    "    'x': np.random.rand(100) * 10,\n",
    "    'y': np.random.rand(100) * 10,\n",
    "    'size': np.random.rand(100) * 50 + 10,\n",
    "    'intensity': np.random.lognormal(mean=2, sigma=1, size=100)\n",
    "})\n",
    "df.head(3)"
   ]
  },
  {
   "cell_type": "code",
   "execution_count": null,
   "metadata": {},
   "outputs": [],
   "source": [
    "df.hvplot.scatter(\n",
    "    x='x',\n",
    "    y='y',\n",
    "    s='size',\n",
    "    c='intensity',\n",
    "    scale=2,\n",
    "    cmap='plasma',\n",
    "    logz=True,\n",
    "    title='Scatter Plot with Size Scaling and Log Color'\n",
    ")"
   ]
  }
 ],
 "metadata": {
  "language_info": {
   "name": "python",
   "pygments_lexer": "ipython3"
  }
 },
 "nbformat": 4,
 "nbformat_minor": 4
}
