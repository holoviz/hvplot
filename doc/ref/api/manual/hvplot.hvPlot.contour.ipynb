{
 "cells": [
  {
   "cell_type": "markdown",
   "metadata": {},
   "source": [
    "# hvPlot.contour\n",
    "\n",
    "```{eval-rst}\n",
    ".. currentmodule:: hvplot\n",
    "\n",
    ".. automethod:: hvPlot.contour\n",
    "```\n",
    "\n",
    "## Backend-specific styling options\n",
    "\n",
    "```{eval-rst}\n",
    ".. backend-styling-options:: contour\n",
    "```\n",
    "\n",
    "## Examples\n",
    "\n",
    "### `Basic Contour Lines of Temperature`\n",
    "\n",
    "This plot draws iso-lines (contours) over a 2D field of air temperature for a single time slice."
   ]
  },
  {
   "cell_type": "code",
   "execution_count": null,
   "metadata": {},
   "outputs": [],
   "source": [
    "import hvplot.xarray # noqa\n",
    "import hvsampledata\n",
    "\n",
    "ds = hvsampledata.air_temperature(\"xarray\").sel(time=\"2014-02-25 12:00\")\n",
    "\n",
    "ds.hvplot.contour(\n",
    "    x='lon',\n",
    "    y='lat',\n",
    "    levels=20,\n",
    "    cmap='viridis_r',\n",
    ")"
   ]
  },
  {
   "cell_type": "markdown",
   "metadata": {},
   "source": [
    "### `Specify Contour levels and Colobar labels`\n",
    "\n",
    "You can manually control contour levels and add colorbar labels."
   ]
  },
  {
   "cell_type": "code",
   "execution_count": null,
   "metadata": {},
   "outputs": [],
   "source": [
    "import hvplot.xarray # noqa\n",
    "import hvsampledata\n",
    "\n",
    "ds = hvsampledata.air_temperature(\"xarray\").sel(time=\"2014-02-25 12:00\")\n",
    "\n",
    "ds.hvplot.contour(\n",
    "    x='lon',\n",
    "    y='lat',\n",
    "    levels=[240, 260, 280, 300],\n",
    "    cmap='plasma_r',\n",
    "    line_width=2,\n",
    "    clabel=\"Air Temperature Values\",\n",
    ")"
   ]
  }
 ],
 "metadata": {
  "language_info": {
   "name": "python",
   "pygments_lexer": "ipython3"
  }
 },
 "nbformat": 4,
 "nbformat_minor": 4
}
