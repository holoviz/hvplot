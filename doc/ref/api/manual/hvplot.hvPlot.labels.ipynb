{
 "cells": [
  {
   "cell_type": "markdown",
   "metadata": {},
   "source": [
    "# hvPlot.labels\n",
    "\n",
    "```{eval-rst}\n",
    ".. currentmodule:: hvplot\n",
    "\n",
    ".. automethod:: hvPlot.labels\n",
    "```\n",
    "\n",
    "## Backend-specific styling options\n",
    "\n",
    "```{eval-rst}\n",
    ".. backend-styling-options:: labels\n",
    "```\n",
    "\n",
    "## Examples\n",
    "\n",
    "This example shows how to overlay textual labels (e.g., location names) on a 2D scatter plot using a small sample of the earthquakes dataset."
   ]
  },
  {
   "cell_type": "code",
   "execution_count": null,
   "metadata": {},
   "outputs": [],
   "source": [
    "import hvplot.pandas # noqa\n",
    "import hvsampledata\n",
    "\n",
    "df = hvsampledata.earthquakes(\"pandas\")\n",
    "\n",
    "# Reduce dataset size and create shorter label column to reduce clutter\n",
    "df = df.sample(10)\n",
    "df['location'] = df['place'].apply(lambda x: x.split(', ')[-1])\n",
    "df.head(3)"
   ]
  },
  {
   "cell_type": "code",
   "execution_count": null,
   "metadata": {},
   "outputs": [],
   "source": [
    "df.hvplot.points(x=\"lon\", y=\"lat\") * \\\n",
    "df.hvplot.labels(\n",
    "    x=\"lon\",\n",
    "    y=\"lat\",\n",
    "    text=\"location\",\n",
    "    text_align=\"left\",\n",
    "    text_baseline=\"bottom\",\n",
    "    text_font_size='10pt'\n",
    ")"
   ]
  },
  {
   "cell_type": "markdown",
   "metadata": {},
   "source": [
    "This example shows how to use a template string for the text parameter to label each earthquake with both its location and magnitude."
   ]
  },
  {
   "cell_type": "code",
   "execution_count": null,
   "metadata": {},
   "outputs": [],
   "source": [
    "import hvplot.pandas # noqa\n",
    "import hvsampledata\n",
    "\n",
    "df = hvsampledata.earthquakes(\"pandas\")\n",
    "\n",
    "# Use only high-magnitude earthquakes to reduce clutter\n",
    "df = df[df.mag > 6]\n",
    "\n",
    "df.hvplot.points(x=\"lon\", y=\"lat\") * \\\n",
    "df.hvplot.labels(\n",
    "    x=\"lon\",\n",
    "    y=\"lat\",\n",
    "    text=\"{place} - Mag: {mag:.1f}\",\n",
    "    text_align=\"left\",\n",
    "    text_font_size=\"8pt\"\n",
    ")"
   ]
  }
 ],
 "metadata": {
  "language_info": {
   "name": "python",
   "pygments_lexer": "ipython3"
  }
 },
 "nbformat": 4,
 "nbformat_minor": 4
}
