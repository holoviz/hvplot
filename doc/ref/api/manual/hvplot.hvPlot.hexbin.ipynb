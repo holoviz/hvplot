{
 "cells": [
  {
   "cell_type": "markdown",
   "metadata": {},
   "source": [
    "# hvPlot.hexbin\n",
    "\n",
    "```{eval-rst}\n",
    ".. currentmodule:: hvplot\n",
    "\n",
    ".. automethod:: hvPlot.hexbin\n",
    "```\n",
    "\n",
    "## Backend-specific styling options\n",
    "\n",
    "```{eval-rst}\n",
    ".. backend-styling-options:: hexbin\n",
    "```\n",
    "\n",
    "## Examples\n",
    "\n",
    "###  `Basic 2D Density with Earthquake Locations`\n",
    "\n",
    "This example shows how to use hexbin to visualize the spatial density of earthquake events based on latitude and longitude."
   ]
  },
  {
   "cell_type": "code",
   "execution_count": null,
   "metadata": {},
   "outputs": [],
   "source": [
    "import hvplot.pandas # noqa\n",
    "import hvsampledata\n",
    "\n",
    "df = hvsampledata.earthquakes(\"pandas\")\n",
    "\n",
    "df.hvplot.hexbin(x=\"lon\", y=\"lat\", cmap=\"coolwarm\", min_count=1)"
   ]
  },
  {
   "cell_type": "markdown",
   "metadata": {},
   "source": [
    "### `Xarray Example`\n",
    "\n",
    "This example aggregates temperature readings across longitudes and latitudes using hexagonal bins. `logz=True` applies a logarithmic color scale, and `gridsize `controls hex resolution."
   ]
  },
  {
   "cell_type": "code",
   "execution_count": null,
   "metadata": {},
   "outputs": [],
   "source": [
    "import hvplot.xarray  # noqa\n",
    "import hvsampledata\n",
    "import numpy as np\n",
    "\n",
    "ds = hvsampledata.air_temperature(\"xarray\").sel(time=\"2014-02-25 12:00\")\n",
    "\n",
    "ds.hvplot.hexbin(\n",
    "    x=\"lon\",\n",
    "    y=\"lat\",\n",
    "    C=\"air\",\n",
    "    reduce_function=np.mean,\n",
    "    logz=True,\n",
    "    gridsize=50,\n",
    "    cmap=\"inferno\",\n",
    "    bgcolor=\"#020210\"\n",
    ")"
   ]
  }
 ],
 "metadata": {
  "language_info": {
   "name": "python",
   "pygments_lexer": "ipython3"
  }
 },
 "nbformat": 4,
 "nbformat_minor": 4
}
