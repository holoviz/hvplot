{
 "cells": [
  {
   "cell_type": "markdown",
   "metadata": {},
   "source": [
    "# hvPlot.explorer\n",
    "\n",
    "```{eval-rst}\n",
    ".. currentmodule:: hvplot\n",
    "\n",
    ".. automethod:: hvPlot.explorer\n",
    "```\n",
    "\n",
    "## Examples\n",
    "\n",
    "### Simple explorer"
   ]
  },
  {
   "cell_type": "code",
   "execution_count": null,
   "metadata": {},
   "outputs": [],
   "source": [
    "import hvplot.pandas  # noqa\n",
    "\n",
    "df = hvplot.sampledata.penguins(\"pandas\").dropna()\n",
    "\n",
    "hvexplorer = df.hvplot.explorer()\n",
    "# Start: only required for building the site\n",
    "hvexplorer.param.update(x='bill_length_mm', y_multi=['bill_depth_mm'], by=['species'])\n",
    "hvexplorer.labels.title = 'Penguins Scatter'\n",
    "# End\n",
    "hvexplorer"
   ]
  },
  {
   "cell_type": "markdown",
   "metadata": {},
   "source": [
    "### Explorer with Xarray data\n",
    "\n",
    "The explorer also works with Xarray datasets:"
   ]
  },
  {
   "cell_type": "code",
   "execution_count": null,
   "metadata": {},
   "outputs": [],
   "source": [
    "import hvplot.xarray  # noqa\n",
    "\n",
    "ds = hvplot.sampledata.air_temperature(\"xarray\")\n",
    "\n",
    "xr_explorer = ds.hvplot.explorer(x='lon', y='lat')\n",
    "xr_explorer"
   ]
  },
  {
   "cell_type": "markdown",
   "metadata": {},
   "source": [
    "### Exporting from the Explorer\n",
    "\n",
    "The explorer provides several methods to export your plot configuration:"
   ]
  },
  {
   "cell_type": "code",
   "execution_count": null,
   "metadata": {},
   "outputs": [],
   "source": [
    "# Get the generated code as a string\n",
    "print(\"1. Generated code:\\n\", hvexplorer.code, \"\\n\")\n",
    "\n",
    "# Get the settings as a dictionary\n",
    "print(\"2. Settings dictionary:\\n\", hvexplorer.settings(), \"\\n\")\n",
    "\n",
    "# Generate code with custom variable name\n",
    "print(\"3. Code with custom variable name:\\n\", hvexplorer.plot_code('penguins'))"
   ]
  },
  {
   "cell_type": "markdown",
   "metadata": {},
   "source": [
    "### Using the top-level explorer function\n",
    "\n",
    "You can also use the top-level `hvplot.explorer()` function:"
   ]
  },
  {
   "cell_type": "code",
   "execution_count": null,
   "metadata": {},
   "outputs": [],
   "source": [
    "from hvplot import explorer\n",
    "\n",
    "# Using the top-level function with pre-configured options\n",
    "top_level_explorer = explorer(df, x='flipper_length_mm', y='body_mass_g', by=['species'])\n",
    "top_level_explorer"
   ]
  }
 ],
 "metadata": {
  "language_info": {
   "name": "python",
   "pygments_lexer": "ipython3"
  }
 },
 "nbformat": 4,
 "nbformat_minor": 4
}
