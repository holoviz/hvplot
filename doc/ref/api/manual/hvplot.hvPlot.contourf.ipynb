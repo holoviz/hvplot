{
 "cells": [
  {
   "cell_type": "markdown",
   "metadata": {},
   "source": [
    "# hvPlot.contourf\n",
    "\n",
    "```{eval-rst}\n",
    ".. currentmodule:: hvplot\n",
    "\n",
    ".. automethod:: hvPlot.contourf\n",
    "```\n",
    "\n",
    "## Backend-specific styling options\n",
    "\n",
    "```{eval-rst}\n",
    ".. backend-styling-options:: contourf\n",
    "```\n",
    "\n",
    "## Examples\n",
    "\n",
    "### `Filled Contours for Temperature Regions`\n",
    "\n",
    "`contourf` fills the regions between contour lines with color, great for heatmap-like interpretation."
   ]
  },
  {
   "cell_type": "code",
   "execution_count": null,
   "metadata": {},
   "outputs": [],
   "source": [
    "import hvplot.xarray # noqa\n",
    "import hvsampledata\n",
    "\n",
    "ds = hvsampledata.air_temperature(\"xarray\").sel(time=\"2014-02-25 12:00\")\n",
    "\n",
    "ds.hvplot.contourf(\n",
    "    x='lon',\n",
    "    y='lat',\n",
    "    levels=10,\n",
    "    cmap='inferno_r',\n",
    ")"
   ]
  },
  {
   "cell_type": "markdown",
   "metadata": {},
   "source": [
    "### `Combining contourf with Transparency`\n",
    "\n",
    "Add semi-transparency (`alpha`) for further customization."
   ]
  },
  {
   "cell_type": "code",
   "execution_count": null,
   "metadata": {},
   "outputs": [],
   "source": [
    "import hvplot.xarray # noqa\n",
    "import hvsampledata\n",
    "\n",
    "ds = hvsampledata.air_temperature(\"xarray\").sel(time=\"2014-02-25 12:00\")\n",
    "\n",
    "ds.hvplot.contourf(\n",
    "    x='lon',\n",
    "    y='lat',\n",
    "    levels=20,\n",
    "    cmap='inferno_r',\n",
    "    alpha=0.6,\n",
    ")"
   ]
  }
 ],
 "metadata": {
  "language_info": {
   "name": "python",
   "pygments_lexer": "ipython3"
  }
 },
 "nbformat": 4,
 "nbformat_minor": 4
}
