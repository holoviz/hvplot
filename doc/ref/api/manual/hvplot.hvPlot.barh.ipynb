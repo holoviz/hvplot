{
 "cells": [
  {
   "cell_type": "markdown",
   "metadata": {},
   "source": [
    "# hvPlot.barh\n",
    "\n",
    "```{eval-rst}\n",
    ".. currentmodule:: hvplot\n",
    "\n",
    ".. automethod:: hvPlot.barh\n",
    "```\n",
    "\n",
    "## Backend-specific styling options\n",
    "\n",
    "```{eval-rst}\n",
    ".. backend-styling-options:: barh\n",
    "```\n",
    "\n",
    "## Examples"
   ]
  },
  {
   "cell_type": "markdown",
   "metadata": {},
   "source": [
    "Horizontal bar plots are especially helpful when category labels are long or when comparing data across fewer categories."
   ]
  },
  {
   "cell_type": "markdown",
   "metadata": {},
   "source": [
    "### Simple horizontal bar plot\n",
    "\n",
    "This example shows how to plot average flipper length across penguin species using a horizontal bar chart."
   ]
  },
  {
   "cell_type": "code",
   "execution_count": null,
   "metadata": {},
   "outputs": [],
   "source": [
    "import hvplot.pandas  # noqa\n",
    "import hvsampledata\n",
    "\n",
    "df = hvsampledata.penguins(\"pandas\")\n",
    "species = df.groupby('species')['flipper_length_mm'].mean()\n",
    "species.hvplot.barh(title=\"Flipper length by Species\")"
   ]
  },
  {
   "cell_type": "markdown",
   "metadata": {},
   "source": [
    "### Stacked barh plot\n",
    "\n",
    "To compare multiple measurements for each category, you can use a stacked horizontal bar plot."
   ]
  },
  {
   "cell_type": "code",
   "execution_count": null,
   "metadata": {},
   "outputs": [],
   "source": [
    "import hvplot.pandas  # noqa\n",
    "import hvsampledata\n",
    "\n",
    "df = hvsampledata.penguins(\"pandas\")\n",
    "\n",
    "grouped_df = df.groupby(\"species\")[[\"bill_length_mm\", \"bill_depth_mm\"]].mean()\n",
    "grouped_df.hvplot.barh(stacked=True, legend=\"bottom_right\")"
   ]
  },
  {
   "cell_type": "code",
   "execution_count": null,
   "metadata": {},
   "outputs": [],
   "source": [
    "import hvplot.pandas  # noqa\n",
    "import hvsampledata\n",
    "\n",
    "df = hvsampledata.penguins(\"pandas\")\n",
    "\n",
    "df = df.groupby(\"species\")[[\"bill_length_mm\", \"bill_depth_mm\"]].mean().reset_index()\n",
    "df.hvplot.barh(x=\"species\", y=[\"bill_length_mm\", \"bill_depth_mm\"],\n",
    "               stacked=True, color=[\"green\", \"yellow\"], title=\"Custom colored hbars\")"
   ]
  },
  {
   "cell_type": "markdown",
   "metadata": {},
   "source": [
    "### Grouped Horizontal Bar Plot\n",
    "\n",
    "Grouped bar plots (as opposed to stacked) are helpful when you want to compare sub-categories side by side instead of layering them."
   ]
  },
  {
   "cell_type": "code",
   "execution_count": null,
   "metadata": {},
   "outputs": [],
   "source": [
    "import hvplot.pandas  # noqa\n",
    "import hvsampledata\n",
    "\n",
    "df = hvsampledata.penguins(\"pandas\")\n",
    "\n",
    "grouped_df = df.groupby('species')[['bill_length_mm', 'bill_depth_mm']].mean()\n",
    "\n",
    "grouped_df.hvplot.barh()"
   ]
  },
  {
   "cell_type": "markdown",
   "metadata": {},
   "source": [
    "### Customizing bar colors\n",
    "\n"
   ]
  },
  {
   "cell_type": "code",
   "execution_count": null,
   "metadata": {},
   "outputs": [],
   "source": [
    "import hvplot.pandas  # noqa\n",
    "import hvsampledata\n",
    "\n",
    "df = hvsampledata.penguins(\"pandas\")\n",
    "\n",
    "df = df.groupby(\"species\")[[\"bill_length_mm\", \"bill_depth_mm\"]].mean()\n",
    "df.hvplot.barh(color=[\"green\", \"yellow\"])"
   ]
  }
 ],
 "metadata": {
  "language_info": {
   "name": "python",
   "pygments_lexer": "ipython3"
  }
 },
 "nbformat": 4,
 "nbformat_minor": 4
}
