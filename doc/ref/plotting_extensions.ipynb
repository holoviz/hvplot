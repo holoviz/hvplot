{
 "cells": [
  {
   "cell_type": "markdown",
   "metadata": {},
   "source": [
    "# Supported plotting extensions\n",
    "\n",
    "hvPlot supports generating plots with 3 different plotting extensions. Under the hood, hvPlot delegates plotting to HoloViews which itself calls these plotting libraries.\n",
    "\n",
    "The following below provides a summary of the supported plotting extensions. In the  *HoloViews support* column you will find an estimate of how well the extension is supported in HoloViews, and consequently in hvPlot:\n",
    "\n",
    "- Bokeh has become the de-facto default plotting extension across HoloViz and is the most used and tested one.\n",
    "- Matplotlib was originally the unique plotting extension of HoloViews and is still well supported. Being a static plotting library, the extension doesn't benefit from all the interactive features HoloViews can offer (hover, streams, etc.).\n",
    "- Plotly is another interactive plotting extension supported by HoloViews, and while it enables some unique features (e.g. 3D plots), it is not as well supported as its counterpart Bokeh.\n",
    "\n",
    "| Plotting extension                 | Type        | HoloViews support |\n",
    "| ---------------------------------- | ----------- | ----------------- |\n",
    "| [Bokeh](#plot-ext-bokeh)           | Interactive | ⭐⭐⭐            |\n",
    "| [Matplotlib](#plot-ext-matplotlib) | Static      | ⭐⭐              |\n",
    "| [Plotly](#plot-ext-plotly)         | Interactive | ⭐                |\n",
    "\n",
    "Follow the [Plotting Extensions Guide](../user_guide/Plotting_Extensions.ipynb) for more information.\n",
    "\n",
    ":::{note}\n",
    "Similarly to having to support many data sources, supporting three plotting extensions is hard work! We are aware they are not supported equivalently, you will get best support for Bokeh, followed by Matplotlib and finally Plotly. If you encounter any issue with a specific plotting extension please report it <a href='https://github.com/holoviz/hvplot/'>on GitHub</a>, we always welcome Pull Requests too!\n",
    ":::"
   ]
  },
  {
   "cell_type": "markdown",
   "metadata": {},
   "source": [
    "(plot-ext-bokeh)=\n",
    "## Bokeh (default)\n",
    "\n",
    "TBD"
   ]
  },
  {
   "cell_type": "markdown",
   "metadata": {},
   "source": [
    "(plot-ext-matplotlib)=\n",
    "## Matplotlib\n",
    "\n",
    "TBD"
   ]
  },
  {
   "cell_type": "markdown",
   "metadata": {},
   "source": [
    "(plot-ext-plotly)=\n",
    "## Plotly\n",
    "\n",
    "TBD"
   ]
  }
 ],
 "metadata": {
  "language_info": {
   "name": "python",
   "pygments_lexer": "ipython3"
  }
 },
 "nbformat": 4,
 "nbformat_minor": 2
}
