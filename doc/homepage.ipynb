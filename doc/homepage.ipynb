{
 "cells": [
  {
   "cell_type": "markdown",
   "metadata": {},
   "source": [
    "**A high-level plotting API for the PyData ecosystem built on HoloViews.**\n",
    "\n",
    "The PyData ecosystem has a number of core Python data containers that allow users to work with a wide array of datatypes, including:\n",
    "\n",
    "* [Pandas](http://pandas.pydata.org): DataFrame, Series (columnar/tabular data)\n",
    "* [XArray](http://xarray.pydata.org): Dataset, DataArray (labelled multidimensional arrays)\n",
    "* [Dask](http://dask.pydata.org): DataFrame, Series (distributed/out of core arrays and columnar data)\n",
    "* [Streamz](http://streamz.readthedocs.io): DataFrame(s), Series(s) (streaming columnar data)\n",
    "* [Intake](http://github.com/ContinuumIO/intake): DataSource (data catalogues)\n",
    "\n",
    "Many of these libraries have the concept of a high-level plotting API that lets a user generate common plot types very easily. The native plotting APIs are generally built on [Matplotlib](http://matplotlib.org), which provides a solid foundation, but means that users miss out the benefits of modern, interactive plotting libraries for the web like [Bokeh](http://bokeh.pydata.org) and [HoloViews](http://holoviews.org).\n",
    "\n",
    "HoloPlot provides a high-level plotting API built on HoloViews that provides a general and consistent API for plotting data in all the abovementioned formats. HoloPlot can integrate neatly with the individual libraries if an extension mechanism for the native plot APIs is offered, or it can be used as a standalone component. To get started jump straight into the [Getting Started Guide](getting_started/index.html) and check out the current functionality in the [User Guide.](user_guide/index.html)"
   ]
  },
  {
   "cell_type": "markdown",
   "metadata": {},
   "source": [
    "## Usage\n",
    "\n",
    "HoloPlot replaces the static PNG-based plotting that comes with [Pandas](http://pandas.pydata.org) and other data libraries with interactive [Bokeh](http://bokeh.pydata.org)-based plotting that supports panning, zooming, hovering, and clickable/selectable legends:"
   ]
  },
  {
   "cell_type": "code",
   "execution_count": null,
   "metadata": {},
   "outputs": [],
   "source": [
    "import pandas as pd, numpy as np\n",
    "idx = pd.date_range('1/1/2000', periods=1000)\n",
    "df  = pd.DataFrame(np.random.randn(1000, 4), index=idx, columns=list('ABCD')).cumsum()\n",
    "\n",
    "import holoplot.pandas\n",
    "df.plot()"
   ]
  },
  {
   "cell_type": "markdown",
   "metadata": {},
   "source": [
    "HoloPlot works with multiple data sources, including the [Intake](http://github.com/ContinuumIO/intake) data catalog, and supports a wide variety of plot types:"
   ]
  },
  {
   "cell_type": "code",
   "execution_count": null,
   "metadata": {},
   "outputs": [],
   "source": [
    "import intake, holoplot.intake\n",
    "\n",
    "crime = intake.cat.us_crime\n",
    "columns = ['Burglary rate', 'Larceny-theft rate', 'Robbery rate', 'Violent Crime rate']\n",
    "\n",
    "crime.plot.violin(y=columns, group_label='Type of crime', value_label='Rate per 100k')"
   ]
  },
  {
   "cell_type": "markdown",
   "metadata": {},
   "source": [
    "Unlike the default plotting, HoloPlot output can easily be composed using `*` to overlay plots (or `+` to lay them out side by side):"
   ]
  },
  {
   "cell_type": "code",
   "execution_count": null,
   "metadata": {},
   "outputs": [],
   "source": [
    "crime.plot.area(   x='Year', y='Property crime rate', color='lightgrey') * \\\n",
    "crime.plot.scatter(x='Year', y='Burglary rate',       size=5) "
   ]
  },
  {
   "cell_type": "markdown",
   "metadata": {},
   "source": [
    "When used with [streamz](http://streamz.readthedocs.io) DataFrames, HoloPlot can very easily plot streaming data to get a live updating plot:"
   ]
  },
  {
   "cell_type": "code",
   "execution_count": null,
   "metadata": {},
   "outputs": [],
   "source": [
    "from streamz.dataframe import Random\n",
    "import holoplot.streamz\n",
    "\n",
    "streaming_df = Random(freq='5ms') \n",
    "\n",
    "streaming_df.plot(backlog=100, height=400, width=500) +\\\n",
    "streaming_df.plot.hexbin(x='x', y='z', backlog=2000, height=400, width=500);"
   ]
  },
  {
   "cell_type": "markdown",
   "metadata": {},
   "source": [
    "<img src=\"./assets/streamz_demo.gif\" style=\"display: table; margin: 0 auto;\"></img>"
   ]
  },
  {
   "cell_type": "markdown",
   "metadata": {},
   "source": [
    "For multidimensional data not supported well by Pandas, you can use an XArray Dataset like this gridded data of North American air temperatures over time:"
   ]
  },
  {
   "cell_type": "code",
   "execution_count": null,
   "metadata": {},
   "outputs": [],
   "source": [
    "import xarray as xr, holoplot.xarray\n",
    "from xarray.tutorial import load_dataset\n",
    "\n",
    "air_temp = load_dataset('air_temperature').air\n",
    "\n",
    "air_temp.isel(time=slice(0, 3)).plot(colorbar=True, dynamic=False, width=500, height=300)"
   ]
  },
  {
   "cell_type": "markdown",
   "metadata": {},
   "source": [
    "HoloPlots will show widgets like the \"Time\" slider here whenever your data is indexed by dimensions that are not mapped onto the plot axes, allowing you to explore complex datasets much more easily than with the default plotting support.\n",
    "\n",
    "HoloPlot is designed to work well in and outside the Jupyter notebook, and thanks to built-in [Datashader](http://datashader.org) support scales easily to millions or even billions of datapoints:\n",
    "\n",
    "<img src=\"./assets/console_server.gif\" style=\"display: table; margin: 0 auto;\"></img>\n",
    "\n",
    "The [User Guide.](user_guide/index.html) shows more of what's available and how to use it.\n",
    "\n",
    "## Installation\n",
    "\n",
    "HoloPlot supports Python 2.7, 3.5, 3.6 and 3.7 on Linux, Windows, or Mac and can be installed with conda:\n",
    "\n",
    "```\n",
    "    conda install -c pyviz holoplot\n",
    "```\n",
    "\n",
    "or with pip:\n",
    "\n",
    "```\n",
    "    pip install holoplot\n",
    "```\n",
    "\n",
    "For JupyterLab support, the jupyterlab_holoviews extension is also required::\n",
    "\n",
    "```\n",
    "    jupyter labextension install @pyviz/jupyterlab_holoviews\n",
    "```\n",
    "\n",
    "The [Getting Started Guide](getting_started/index.html) has more details if you need them."
   ]
  }
 ],
 "metadata": {
  "language_info": {
   "name": "python",
   "pygments_lexer": "ipython3"
  }
 },
 "nbformat": 4,
 "nbformat_minor": 2
}
