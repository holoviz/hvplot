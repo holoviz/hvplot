{
 "cells": [
  {
   "cell_type": "markdown",
   "id": "acb844e8",
   "metadata": {},
   "source": [
    "# hvplot.plotting.andrews_curves\n",
    "\n",
    "```{eval-rst}\n",
    ".. currentmodule:: hvplot.plotting\n",
    "\n",
    ".. autofunction:: andrews_curves\n",
    "```\n",
    "\n",
    "## Examples\n",
    "\n",
    "TBD"
   ]
  }
 ],
 "metadata": {
  "language_info": {
   "name": "python",
   "pygments_lexer": "ipython3"
  }
 },
 "nbformat": 4,
 "nbformat_minor": 5
}
