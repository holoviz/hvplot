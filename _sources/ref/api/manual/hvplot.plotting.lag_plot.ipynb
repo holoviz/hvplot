{
 "cells": [
  {
   "cell_type": "markdown",
   "id": "2d7486a8",
   "metadata": {},
   "source": [
    "# hvplot.plotting.lag_plot\n",
    "\n",
    "```{eval-rst}\n",
    ".. currentmodule:: hvplot.plotting\n",
    "\n",
    ".. autofunction:: lag_plot\n",
    "```\n",
    "\n",
    "## Examples\n",
    "\n",
    "TBD"
   ]
  }
 ],
 "metadata": {
  "language_info": {
   "name": "python",
   "pygments_lexer": "ipython3"
  }
 },
 "nbformat": 4,
 "nbformat_minor": 5
}
