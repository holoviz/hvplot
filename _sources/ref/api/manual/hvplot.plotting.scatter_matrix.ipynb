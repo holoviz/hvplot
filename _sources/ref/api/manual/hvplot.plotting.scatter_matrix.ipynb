{
 "cells": [
  {
   "cell_type": "markdown",
   "id": "c807393a",
   "metadata": {},
   "source": [
    "# hvplot.plotting.scatter_matrix\n",
    "\n",
    "```{eval-rst}\n",
    ".. currentmodule:: hvplot.plotting\n",
    "\n",
    ".. autofunction:: scatter_matrix\n",
    "```\n",
    "\n",
    "## Examples\n",
    "\n",
    "TBD"
   ]
  }
 ],
 "metadata": {
  "language_info": {
   "name": "python",
   "pygments_lexer": "ipython3"
  }
 },
 "nbformat": 4,
 "nbformat_minor": 5
}
