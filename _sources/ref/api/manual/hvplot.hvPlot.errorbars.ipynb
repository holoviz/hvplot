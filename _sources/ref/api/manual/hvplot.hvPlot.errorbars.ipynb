{
 "cells": [
  {
   "cell_type": "markdown",
   "id": "0ed32b5a",
   "metadata": {},
   "source": [
    "# hvPlot.errorbars\n",
    "\n",
    "```{eval-rst}\n",
    ".. currentmodule:: hvplot\n",
    "\n",
    ".. automethod:: hvPlot.errorbars\n",
    "```\n",
    "\n",
    "## Backend-specific styling options\n",
    "\n",
    "```{eval-rst}\n",
    ".. backend-styling-options:: errorbars\n",
    "```\n",
    "\n",
    "## Examples\n",
    "\n",
    "TBD"
   ]
  }
 ],
 "metadata": {
  "language_info": {
   "name": "python",
   "pygments_lexer": "ipython3"
  }
 },
 "nbformat": 4,
 "nbformat_minor": 4
}
