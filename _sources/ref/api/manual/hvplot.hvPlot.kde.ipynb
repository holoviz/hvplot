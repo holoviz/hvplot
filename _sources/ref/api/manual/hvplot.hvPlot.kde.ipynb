{
 "cells": [
  {
   "cell_type": "markdown",
   "id": "60504550",
   "metadata": {},
   "source": [
    "# hvPlot.kde\n",
    "\n",
    "```{eval-rst}\n",
    ".. currentmodule:: hvplot\n",
    "\n",
    ".. automethod:: hvPlot.kde\n",
    "```\n",
    "\n",
    "## Backend-specific styling options\n",
    "\n",
    "```{eval-rst}\n",
    ".. backend-styling-options:: kde\n",
    "```\n",
    "\n",
    "## Examples\n",
    "\n",
    "TBD"
   ]
  }
 ],
 "metadata": {
  "language_info": {
   "name": "python",
   "pygments_lexer": "ipython3"
  }
 },
 "nbformat": 4,
 "nbformat_minor": 4
}
